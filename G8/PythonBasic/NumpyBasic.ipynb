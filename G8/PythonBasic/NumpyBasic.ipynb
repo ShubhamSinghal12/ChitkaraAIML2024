{
 "cells": [
  {
   "cell_type": "markdown",
   "id": "10693aab-66e1-405d-99fe-28494f65222f",
   "metadata": {},
   "source": [
    "- Numpy Array Creation\n",
    "- Shape\n",
    "- indexing\n",
    "- more creation methods: arange, linespace, ones, zeros, eye, diag\n",
    "- random numbers: np.random.rand\n",
    "- reshape: -1 for unknown\n",
    "- data types: b,i,u,f,c,m,M,O,S,u,V\n",
    "- slicing and assignment\n",
    "- copy and view: share_memory\n",
    "- operators(Element wise operations)\n",
    "- shape mismatch\n",
    "- fancy indexing also know as filter\n",
    "- search: where uses fancy indexing\n",
    "- Basic reductions: sum, min, max, any, all\n",
    "- iteration: nditer, ndenumerate\n",
    "- Join: concatenate, stack, hstack, vstack. Note: make a tuple of arays you want to join\n",
    "- split: array_split, hsplit\n",
    "- sort: np.sort"
   ]
  },
  {
   "cell_type": "code",
   "execution_count": 1,
   "id": "85a27061-3fea-483a-a628-6311a19be081",
   "metadata": {},
   "outputs": [],
   "source": [
    "import numpy as np"
   ]
  },
  {
   "cell_type": "code",
   "execution_count": 6,
   "id": "775fb320-2907-4f37-ab60-5dd7260c5ccf",
   "metadata": {},
   "outputs": [
    {
     "name": "stdout",
     "output_type": "stream",
     "text": [
      "1.26.3\n"
     ]
    }
   ],
   "source": [
    "print(np.version.version)"
   ]
  },
  {
   "cell_type": "code",
   "execution_count": 42,
   "id": "e35572ca-28d8-44a3-b3cd-2f4b9780330a",
   "metadata": {},
   "outputs": [],
   "source": [
    "l1 = [1,2,3,4]\n",
    "l2 = [[1,2],[3,4]]\n",
    "l21 = [[1,2,3],[4,5,6]]\n",
    "l3 = [[[1,2],[3,4],[8,9]],[[5,6],[7,8],[1,2]]]\n",
    "l31 = [[[1],[3],[8]],[[5],[7],[1]]]\n",
    "na = np.array(l3)"
   ]
  },
  {
   "cell_type": "code",
   "execution_count": 43,
   "id": "0712ece2-3bd6-4183-849f-d53f888bfa81",
   "metadata": {},
   "outputs": [
    {
     "name": "stdout",
     "output_type": "stream",
     "text": [
      "[[[1 2]\n",
      "  [3 4]\n",
      "  [8 9]]\n",
      "\n",
      " [[5 6]\n",
      "  [7 8]\n",
      "  [1 2]]] <class 'numpy.ndarray'> 3\n"
     ]
    }
   ],
   "source": [
    "print(na,type(na),na.ndim)"
   ]
  },
  {
   "cell_type": "code",
   "execution_count": 44,
   "id": "4f8187c0-36c7-499f-8809-4b4edcf579d0",
   "metadata": {},
   "outputs": [
    {
     "data": {
      "text/plain": [
       "(2, 3, 2)"
      ]
     },
     "execution_count": 44,
     "metadata": {},
     "output_type": "execute_result"
    }
   ],
   "source": [
    "na.shape"
   ]
  },
  {
   "cell_type": "code",
   "execution_count": 45,
   "id": "ba4511a7-5806-463a-b4c1-9125de209449",
   "metadata": {},
   "outputs": [
    {
     "data": {
      "text/plain": [
       "array([[1, 2],\n",
       "       [3, 4],\n",
       "       [8, 9]])"
      ]
     },
     "execution_count": 45,
     "metadata": {},
     "output_type": "execute_result"
    }
   ],
   "source": [
    "na[0]"
   ]
  },
  {
   "cell_type": "code",
   "execution_count": 47,
   "id": "12d75af4-0110-4428-b76f-6ca446aa705b",
   "metadata": {},
   "outputs": [
    {
     "name": "stdout",
     "output_type": "stream",
     "text": [
      "1 2 3 4 8 9 5 6 7 8 1 2 "
     ]
    }
   ],
   "source": [
    "for i in range(na.shape[0]):\n",
    "    for j in range(na.shape[1]):\n",
    "        for k in range(na.shape[2]):\n",
    "            print(na[i,j,k],end=\" \")"
   ]
  },
  {
   "cell_type": "code",
   "execution_count": 48,
   "id": "9790e63c-279e-4764-bb45-4e7d03c9e180",
   "metadata": {},
   "outputs": [
    {
     "name": "stdout",
     "output_type": "stream",
     "text": [
      "1 2 3 4 8 9 5 6 7 8 1 2 "
     ]
    }
   ],
   "source": [
    "for ele in np.nditer(na):\n",
    "    print(ele,end = \" \")"
   ]
  },
  {
   "cell_type": "code",
   "execution_count": 49,
   "id": "5dde3774-dc11-4161-9dc4-6cdde356a4f4",
   "metadata": {},
   "outputs": [
    {
     "name": "stdout",
     "output_type": "stream",
     "text": [
      "(0, 0, 0) 1\n",
      "(0, 0, 1) 2\n",
      "(0, 1, 0) 3\n",
      "(0, 1, 1) 4\n",
      "(0, 2, 0) 8\n",
      "(0, 2, 1) 9\n",
      "(1, 0, 0) 5\n",
      "(1, 0, 1) 6\n",
      "(1, 1, 0) 7\n",
      "(1, 1, 1) 8\n",
      "(1, 2, 0) 1\n",
      "(1, 2, 1) 2\n"
     ]
    }
   ],
   "source": [
    "for ind,ele in np.ndenumerate(na):\n",
    "    print(ind,ele)"
   ]
  },
  {
   "cell_type": "code",
   "execution_count": 50,
   "id": "4389b14a-5674-49e0-af62-e666d20bddf6",
   "metadata": {},
   "outputs": [
    {
     "data": {
      "text/plain": [
       "dtype('int32')"
      ]
     },
     "execution_count": 50,
     "metadata": {},
     "output_type": "execute_result"
    }
   ],
   "source": [
    "na.dtype"
   ]
  },
  {
   "cell_type": "code",
   "execution_count": 56,
   "id": "040033dc-57a5-491a-89d7-3e199ff07dde",
   "metadata": {},
   "outputs": [
    {
     "data": {
      "text/plain": [
       "array([1., 3., 5., 7., 9.])"
      ]
     },
     "execution_count": 56,
     "metadata": {},
     "output_type": "execute_result"
    }
   ],
   "source": [
    "np.arange(1,10,2,dtype= 'f8')"
   ]
  },
  {
   "cell_type": "code",
   "execution_count": 59,
   "id": "2ef76b41-2514-41e9-8b6a-8117a06e3cf2",
   "metadata": {},
   "outputs": [
    {
     "data": {
      "text/plain": [
       "array([0.  , 0.25, 0.5 , 0.75, 1.  ])"
      ]
     },
     "execution_count": 59,
     "metadata": {},
     "output_type": "execute_result"
    }
   ],
   "source": [
    "np.linspace(0,1,5)"
   ]
  },
  {
   "cell_type": "code",
   "execution_count": 63,
   "id": "131cdf77-b27f-4ca6-b682-242bc31b98d4",
   "metadata": {},
   "outputs": [
    {
     "data": {
      "text/plain": [
       "array([[1, 1, 1, 1, 1],\n",
       "       [1, 1, 1, 1, 1]], dtype=int32)"
      ]
     },
     "execution_count": 63,
     "metadata": {},
     "output_type": "execute_result"
    }
   ],
   "source": [
    "np.ones((2,5),dtype='i')"
   ]
  },
  {
   "cell_type": "code",
   "execution_count": 64,
   "id": "6e89ebe8-b7b5-4d0d-bd26-9c1395a7a227",
   "metadata": {},
   "outputs": [
    {
     "data": {
      "text/plain": [
       "array([[0., 0., 0., 0., 0.],\n",
       "       [0., 0., 0., 0., 0.]])"
      ]
     },
     "execution_count": 64,
     "metadata": {},
     "output_type": "execute_result"
    }
   ],
   "source": [
    "np.zeros((2,5))"
   ]
  },
  {
   "cell_type": "code",
   "execution_count": 66,
   "id": "e7332a67-bd61-4a45-b9b7-8a8146e668e5",
   "metadata": {},
   "outputs": [
    {
     "data": {
      "text/plain": [
       "array([[1., 0., 0.],\n",
       "       [0., 1., 0.],\n",
       "       [0., 0., 1.],\n",
       "       [0., 0., 0.]])"
      ]
     },
     "execution_count": 66,
     "metadata": {},
     "output_type": "execute_result"
    }
   ],
   "source": [
    "np.eye(4,3)"
   ]
  },
  {
   "cell_type": "code",
   "execution_count": 67,
   "id": "1d390a0d-2672-4cb9-be46-bf75f86dae0d",
   "metadata": {},
   "outputs": [
    {
     "data": {
      "text/plain": [
       "array([[1, 0, 0, 0],\n",
       "       [0, 2, 0, 0],\n",
       "       [0, 0, 3, 0],\n",
       "       [0, 0, 0, 4]])"
      ]
     },
     "execution_count": 67,
     "metadata": {},
     "output_type": "execute_result"
    }
   ],
   "source": [
    "np.diag([1,2,3,4])"
   ]
  },
  {
   "cell_type": "code",
   "execution_count": 68,
   "id": "c6ad645a-accf-41b9-bae9-5978c77d12f9",
   "metadata": {},
   "outputs": [
    {
     "data": {
      "text/plain": [
       "array([[0.23869568, 0.74194115, 0.37852005, 0.84664679, 0.97202727],\n",
       "       [0.22514422, 0.72564426, 0.90640625, 0.60076222, 0.40024863]])"
      ]
     },
     "execution_count": 68,
     "metadata": {},
     "output_type": "execute_result"
    }
   ],
   "source": [
    "np.random.rand(2,5)"
   ]
  },
  {
   "cell_type": "code",
   "execution_count": 97,
   "id": "d65f5326-2957-4de0-9c99-a479d633874f",
   "metadata": {},
   "outputs": [],
   "source": [
    "na = np.arange(1,21)"
   ]
  },
  {
   "cell_type": "code",
   "execution_count": 98,
   "id": "7ac61127-08c4-49b9-8729-5775f2df0c40",
   "metadata": {},
   "outputs": [
    {
     "data": {
      "text/plain": [
       "array([[ 1,  2,  3,  4],\n",
       "       [ 5,  6,  7,  8],\n",
       "       [ 9, 10, 11, 12],\n",
       "       [13, 14, 15, 16],\n",
       "       [17, 18, 19, 20]])"
      ]
     },
     "execution_count": 98,
     "metadata": {},
     "output_type": "execute_result"
    }
   ],
   "source": [
    "na= na.reshape((5,-1))\n",
    "na"
   ]
  },
  {
   "cell_type": "code",
   "execution_count": 99,
   "id": "da451e60-9a35-4cd9-801c-f3b2f6c04074",
   "metadata": {},
   "outputs": [
    {
     "name": "stdout",
     "output_type": "stream",
     "text": [
      "[[10  4]\n",
      " [ 7  8]]\n",
      "[[ 1  2  3  4]\n",
      " [ 5  6  7  8]\n",
      " [ 9 10 11 12]\n",
      " [13 14 15 16]\n",
      " [17 18 19 20]]\n"
     ]
    }
   ],
   "source": [
    "a = na[0:2,2:4].copy()\n",
    "a[0,0] = 10\n",
    "print(a)\n",
    "print(na)"
   ]
  },
  {
   "cell_type": "code",
   "execution_count": 95,
   "id": "bb69f117-8a73-4c2c-b065-465334ea57e7",
   "metadata": {},
   "outputs": [
    {
     "data": {
      "text/plain": [
       "False"
      ]
     },
     "execution_count": 95,
     "metadata": {},
     "output_type": "execute_result"
    }
   ],
   "source": [
    "np.shares_memory(na,b)"
   ]
  },
  {
   "cell_type": "code",
   "execution_count": 100,
   "id": "69466680-08c2-4f19-b51f-75c423b08758",
   "metadata": {},
   "outputs": [],
   "source": [
    "b = np.array([[10,20],[30,40]])"
   ]
  },
  {
   "cell_type": "code",
   "execution_count": 103,
   "id": "4adf8bd2-8a1f-4d6c-a933-705102eb7ab3",
   "metadata": {},
   "outputs": [
    {
     "data": {
      "text/plain": [
       "(array([[ 0, 10],\n",
       "        [20, 30]]),\n",
       " array([[20, 30],\n",
       "        [40, 50]]))"
      ]
     },
     "execution_count": 103,
     "metadata": {},
     "output_type": "execute_result"
    }
   ],
   "source": [
    "b-10,np.add(b,10)"
   ]
  },
  {
   "cell_type": "code",
   "execution_count": 104,
   "id": "0214f01e-7757-4d8e-945d-08ab81c8daa8",
   "metadata": {},
   "outputs": [
    {
     "data": {
      "text/plain": [
       "array([[ 100,  400],\n",
       "       [ 900, 1600]])"
      ]
     },
     "execution_count": 104,
     "metadata": {},
     "output_type": "execute_result"
    }
   ],
   "source": [
    "b**2"
   ]
  },
  {
   "cell_type": "code",
   "execution_count": 105,
   "id": "98c4fb3f-a0b6-4f38-b69a-2889e6919eab",
   "metadata": {},
   "outputs": [
    {
     "data": {
      "text/plain": [
       "array([[20, 24],\n",
       "       [37, 48]])"
      ]
     },
     "execution_count": 105,
     "metadata": {},
     "output_type": "execute_result"
    }
   ],
   "source": [
    "a+b"
   ]
  },
  {
   "cell_type": "code",
   "execution_count": 106,
   "id": "a590bf3a-01ed-47d6-a8d1-a8fc7a9241e9",
   "metadata": {},
   "outputs": [
    {
     "data": {
      "text/plain": [
       "array([[10,  4],\n",
       "       [ 7,  8]])"
      ]
     },
     "execution_count": 106,
     "metadata": {},
     "output_type": "execute_result"
    }
   ],
   "source": [
    "a"
   ]
  },
  {
   "cell_type": "code",
   "execution_count": 108,
   "id": "16c5ef07-576f-44e2-b9cd-6a83287f42b7",
   "metadata": {},
   "outputs": [
    {
     "data": {
      "text/plain": [
       "array([10,  8])"
      ]
     },
     "execution_count": 108,
     "metadata": {},
     "output_type": "execute_result"
    }
   ],
   "source": [
    "a[a>7]"
   ]
  },
  {
   "cell_type": "code",
   "execution_count": 112,
   "id": "2dd7ff3e-25fe-4b94-aaa9-970895e857b0",
   "metadata": {},
   "outputs": [
    {
     "data": {
      "text/plain": [
       "array([ 1,  2,  3,  4,  5,  6,  7,  8,  9, 10, 11, 12, 13, 14, 15, 16, 17,\n",
       "       18, 19, 20])"
      ]
     },
     "execution_count": 112,
     "metadata": {},
     "output_type": "execute_result"
    }
   ],
   "source": [
    "a = np.arange(1,21)\n",
    "a"
   ]
  },
  {
   "cell_type": "code",
   "execution_count": 113,
   "id": "db59fb25-2cf1-47b3-81bf-1e515f8b479f",
   "metadata": {},
   "outputs": [
    {
     "data": {
      "text/plain": [
       "(array([ 3,  7, 11, 15, 19], dtype=int64),)"
      ]
     },
     "execution_count": 113,
     "metadata": {},
     "output_type": "execute_result"
    }
   ],
   "source": [
    "np.where(a%4==0)"
   ]
  },
  {
   "cell_type": "code",
   "execution_count": 120,
   "id": "c8b37481-1c37-4743-9030-f537839002db",
   "metadata": {},
   "outputs": [
    {
     "data": {
      "text/plain": [
       "array([[[ 1,  2],\n",
       "        [ 3,  4],\n",
       "        [ 5,  6]],\n",
       "\n",
       "       [[ 7,  8],\n",
       "        [ 9, 10],\n",
       "        [11, 12]]])"
      ]
     },
     "execution_count": 120,
     "metadata": {},
     "output_type": "execute_result"
    }
   ],
   "source": [
    "na = np.arange(1,13).reshape((2,3,2))\n",
    "na"
   ]
  },
  {
   "cell_type": "code",
   "execution_count": 123,
   "id": "a4c71069-6efd-4788-9d1b-386a21aa1c68",
   "metadata": {},
   "outputs": [
    {
     "data": {
      "text/plain": [
       "array([[ 3,  7, 11],\n",
       "       [15, 19, 23]])"
      ]
     },
     "execution_count": 123,
     "metadata": {},
     "output_type": "execute_result"
    }
   ],
   "source": [
    "np.sum(na,axis=2)"
   ]
  },
  {
   "cell_type": "code",
   "execution_count": null,
   "id": "ede0b840-c754-4061-875a-c9fd03849ebe",
   "metadata": {},
   "outputs": [],
   "source": []
  }
 ],
 "metadata": {
  "kernelspec": {
   "display_name": "Python 3 (ipykernel)",
   "language": "python",
   "name": "python3"
  },
  "language_info": {
   "codemirror_mode": {
    "name": "ipython",
    "version": 3
   },
   "file_extension": ".py",
   "mimetype": "text/x-python",
   "name": "python",
   "nbconvert_exporter": "python",
   "pygments_lexer": "ipython3",
   "version": "3.12.1"
  }
 },
 "nbformat": 4,
 "nbformat_minor": 5
}
