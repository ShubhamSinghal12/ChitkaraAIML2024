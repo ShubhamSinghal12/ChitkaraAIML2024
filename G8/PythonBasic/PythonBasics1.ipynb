{
 "cells": [
  {
   "cell_type": "markdown",
   "id": "97e260b3-4e6c-4368-a5ae-adcda36e70a5",
   "metadata": {},
   "source": [
    "<h2>Basics</h2>\n",
    "\n",
    "- KeyWords vs Identifier\n",
    "- Comments\n",
    "- What is a Variable?\n",
    "- Single Line vs Multiple Line\n",
    "- Multiple assignments\n",
    "- How do we Store a Variable it in the memory?\n",
    "- Immutability"
   ]
  },
  {
   "cell_type": "code",
   "execution_count": 2,
   "id": "49bfc01e-efc1-4023-bd41-3c9fab71bd8f",
   "metadata": {},
   "outputs": [
    {
     "name": "stdout",
     "output_type": "stream",
     "text": [
      "['False', 'None', 'True', 'and', 'as', 'assert', 'async', 'await', 'break', 'class', 'continue', 'def', 'del', 'elif', 'else', 'except', 'finally', 'for', 'from', 'global', 'if', 'import', 'in', 'is', 'lambda', 'nonlocal', 'not', 'or', 'pass', 'raise', 'return', 'try', 'while', 'with', 'yield']\n"
     ]
    },
    {
     "data": {
      "text/plain": [
       "' Multiple\\nLine\\nComments'"
      ]
     },
     "execution_count": 2,
     "metadata": {},
     "output_type": "execute_result"
    }
   ],
   "source": [
    "import keyword\n",
    "print(keyword.kwlist)\n",
    "# Single Line Comment\n",
    "\"\"\" Multiple\n",
    "Line\n",
    "Comments\"\"\""
   ]
  },
  {
   "cell_type": "code",
   "execution_count": 3,
   "id": "cb289715-e07a-4caf-8a8f-59130586de24",
   "metadata": {},
   "outputs": [
    {
     "name": "stdout",
     "output_type": "stream",
     "text": [
      "10 150\n"
     ]
    }
   ],
   "source": [
    "a = 10\n",
    "s = \"Hello\"\n",
    "b = 10+20+ \\\n",
    "    30 + 40 + \\\n",
    "    50\n",
    "\n",
    "c = d = e = 100\n",
    "c,d,e = 1,2,3\n",
    "print(a,b)"
   ]
  },
  {
   "cell_type": "code",
   "execution_count": 6,
   "id": "93b5ce6c-e837-4742-9a65-cafc346ed4ba",
   "metadata": {},
   "outputs": [
    {
     "name": "stdout",
     "output_type": "stream",
     "text": [
      "10 140708990827224\n",
      "20 140708990827544\n",
      "10 140708990827224\n",
      "20 140708990827544\n"
     ]
    }
   ],
   "source": [
    "a = 10\n",
    "b = 20\n",
    "c = 10\n",
    "print(a,id(a))\n",
    "print(b,id(b))\n",
    "print(c,id(c))\n",
    "a = a+10\n",
    "print(a,id(a))"
   ]
  },
  {
   "cell_type": "markdown",
   "id": "fe69e5bc-573e-4575-984c-6086c6908d82",
   "metadata": {},
   "source": [
    "<h2>Data Types</h2>\r",
    "<table border=\"1\">\r\n",
    "<tbody>\r\n",
    "<tr><td>Text Type:</td><td>str</td></tr>\r\n",
    "<tr><td>Numeric Types:</td><td>int, float, complex</td></tr>\r\n",
    "<tr><td>Sequence Types:</td><td>list, tuple, range</td></tr>\r\n",
    "<tr><td>Mapping Type:</td><td>dict</td></tr>\r\n",
    "<tr><td>Set Types:</td><td>set, frozenset</td></tr>\r\n",
    "<tr><td>Boolean Type:</td><td>bool</td></tr>\r\n",
    "<tr><td>Binary Types:</td><td>bytes, bytearray, memoryview</td></tr>\r\n",
    "<tr><td>None Type:</td><td>NoneType</td></tr>\r\n",
    "</tbody\n",
    "\n",
    "\r\n",
    "</table>\r\n",
    "</table>NoneType\r\n"
   ]
  },
  {
   "cell_type": "code",
   "execution_count": 11,
   "id": "11c3ddb8-d462-470d-9a4d-afda0e7c6bf4",
   "metadata": {},
   "outputs": [
    {
     "name": "stdout",
     "output_type": "stream",
     "text": [
      "None <class 'NoneType'>\n"
     ]
    }
   ],
   "source": [
    "a = None\n",
    "print(a,type(a))"
   ]
  },
  {
   "cell_type": "code",
   "execution_count": 12,
   "id": "7d20638e-ddeb-4f77-9ccf-42197a13b440",
   "metadata": {},
   "outputs": [
    {
     "name": "stdin",
     "output_type": "stream",
     "text": [
      "Enter a Num 10\n"
     ]
    },
    {
     "name": "stdout",
     "output_type": "stream",
     "text": [
      "10 <class 'str'>\n",
      "10 <class 'int'>\n"
     ]
    }
   ],
   "source": [
    "a = input(\"Enter a Num\")\n",
    "print(a,type(a))\n",
    "a = int(a)\n",
    "print(a,type(a))"
   ]
  },
  {
   "cell_type": "code",
   "execution_count": null,
   "id": "063228db-da39-41b5-92e3-4078e0911477",
   "metadata": {},
   "outputs": [],
   "source": []
  },
  {
   "cell_type": "code",
   "execution_count": null,
   "id": "262b1118-5449-4283-94bb-7121ffb396d6",
   "metadata": {},
   "outputs": [],
   "source": []
  },
  {
   "cell_type": "code",
   "execution_count": null,
   "id": "8434d86c-f362-4d6d-8f2a-550c3e8d1533",
   "metadata": {},
   "outputs": [],
   "source": []
  },
  {
   "cell_type": "markdown",
   "id": "8d81c215-6158-4b67-b337-463b4e32a809",
   "metadata": {},
   "source": [
    "<h2>Operators</h2>\n",
    "Types of Operators\n",
    "\n",
    "- Airthmetic: +, -, *, /, %, //, **\n",
    "- relational: ==, <=, <, >=, >, !=\n",
    "- logical: and, or, not\n",
    "- Bitwise: &, |, ~, ^, <<, >>\n",
    "- Assignment: =, +=, -= ...\n",
    "- Special: is, is not, in, not in"
   ]
  },
  {
   "cell_type": "code",
   "execution_count": 16,
   "id": "7e370209-16de-4691-a619-211f291a2a5a",
   "metadata": {},
   "outputs": [
    {
     "name": "stdout",
     "output_type": "stream",
     "text": [
      "False\n"
     ]
    }
   ],
   "source": [
    "a = [10]\n",
    "b = [10]\n",
    "c = a is b\n",
    "print(c)"
   ]
  },
  {
   "cell_type": "code",
   "execution_count": null,
   "id": "a23b49ac-41a0-46b2-a0b2-2caf0941b964",
   "metadata": {},
   "outputs": [],
   "source": []
  },
  {
   "cell_type": "code",
   "execution_count": null,
   "id": "4b0e21aa-54ce-4127-8fb3-2cce2737d286",
   "metadata": {},
   "outputs": [],
   "source": []
  },
  {
   "cell_type": "markdown",
   "id": "9797eaf9-0c93-4e92-afb5-ef8aa85652f8",
   "metadata": {},
   "source": [
    "## IfElse\n",
    "- if .. else\n",
    "- if .. elif .... else\n",
    "- Nested if\n",
    "\n",
    "Indentation"
   ]
  },
  {
   "cell_type": "code",
   "execution_count": 23,
   "id": "f0df8ca0-b2aa-4deb-8335-fef7f454963e",
   "metadata": {},
   "outputs": [
    {
     "name": "stdout",
     "output_type": "stream",
     "text": [
      "a is smaller than b\n",
      "hello\n"
     ]
    }
   ],
   "source": [
    "a = 10\n",
    "b = 20\n",
    "if a<b:\n",
    "  print('a is smaller than b')\n",
    "  print('hello')\n",
    "else:\n",
    "    print('a is greater than b')"
   ]
  },
  {
   "cell_type": "code",
   "execution_count": null,
   "id": "b400188c-b77e-4843-a7e0-9e27dc63ca59",
   "metadata": {},
   "outputs": [],
   "source": []
  },
  {
   "cell_type": "code",
   "execution_count": null,
   "id": "f3184536-3287-4b77-a03b-e7967a8e640c",
   "metadata": {},
   "outputs": [],
   "source": []
  },
  {
   "cell_type": "markdown",
   "id": "1b34a3da-c6d9-47db-8083-ffea75fc7f95",
   "metadata": {},
   "source": [
    "## while loop\n",
    "\n",
    "To iterate over a block of code as long as the test expression is true.\\\n",
    "**Syntax:**\\\n",
    "while testExp:\\\n",
    "Body\\\n",
    "else:\\\n",
    "After testExp is false"
   ]
  },
  {
   "cell_type": "code",
   "execution_count": 29,
   "id": "68b4e992-d7ad-4f4a-8900-61705d32517f",
   "metadata": {},
   "outputs": [
    {
     "name": "stdout",
     "output_type": "stream",
     "text": [
      "Prime\n"
     ]
    }
   ],
   "source": [
    "a = 11\n",
    "i = 2\n",
    "f = 0\n",
    "while i < a:\n",
    "    if a%i == 0:\n",
    "        #f = 1\n",
    "        print('Not Prime')\n",
    "        break\n",
    "    i += 1\n",
    "else:\n",
    "    print(\"Prime\")\n",
    "\n",
    "# if f == 0:\n",
    "#     print(\"Prime\")\n"
   ]
  },
  {
   "cell_type": "code",
   "execution_count": null,
   "id": "f6a500c6-1159-4563-bbad-781b2ef7c348",
   "metadata": {},
   "outputs": [],
   "source": []
  },
  {
   "cell_type": "markdown",
   "id": "b21c6aad-ede8-43e2-8a98-2c9a3ab12bb6",
   "metadata": {},
   "source": [
    "## for loop\n",
    "\n",
    "for ele in sequence:\\\n",
    "....Body of for\n"
   ]
  },
  {
   "cell_type": "code",
   "execution_count": 30,
   "id": "b3419617-f276-4e7d-ab37-197f99fe1364",
   "metadata": {},
   "outputs": [
    {
     "name": "stdout",
     "output_type": "stream",
     "text": [
      "1\n",
      "2\n",
      "3\n",
      "4\n",
      "5\n"
     ]
    }
   ],
   "source": [
    "l = [1,2,3,4,5]\n",
    "for ele in l:\n",
    "    print(ele)"
   ]
  },
  {
   "cell_type": "code",
   "execution_count": 37,
   "id": "c6d64d8d-e1b1-4b94-b921-98c9ee390b7f",
   "metadata": {},
   "outputs": [
    {
     "name": "stdout",
     "output_type": "stream",
     "text": [
      "5\n",
      "4\n",
      "3\n",
      "2\n",
      "1\n"
     ]
    }
   ],
   "source": [
    "for i in range(len(l)-1,-1,-1):\n",
    "    print(l[i])"
   ]
  },
  {
   "cell_type": "code",
   "execution_count": 36,
   "id": "e622bcdd-9d6e-4a9e-935c-5aa56b604ca9",
   "metadata": {},
   "outputs": [
    {
     "name": "stdout",
     "output_type": "stream",
     "text": [
      "10\n",
      "9\n",
      "8\n",
      "7\n",
      "6\n",
      "5\n",
      "4\n",
      "3\n",
      "2\n",
      "1\n"
     ]
    }
   ],
   "source": [
    "for i in range(10,0,-1):\n",
    "    print(i)"
   ]
  },
  {
   "cell_type": "markdown",
   "id": "34dcd2f7-881f-4605-8571-5f9cd452e6a1",
   "metadata": {},
   "source": [
    "## Terneray Operator"
   ]
  },
  {
   "cell_type": "code",
   "execution_count": 39,
   "id": "8e533ef9-bb26-443a-a827-9736194ec05e",
   "metadata": {},
   "outputs": [
    {
     "name": "stdout",
     "output_type": "stream",
     "text": [
      "50\n"
     ]
    }
   ],
   "source": [
    "a = 10\n",
    "b = 50\n",
    "c = a if a > b else b\n",
    "print(c)"
   ]
  },
  {
   "cell_type": "code",
   "execution_count": null,
   "id": "b011708b-1311-4b77-aa0b-97dd57dc9da3",
   "metadata": {},
   "outputs": [],
   "source": []
  },
  {
   "cell_type": "markdown",
   "id": "8194a151-cac7-474c-9c70-2b72eeab646a",
   "metadata": {},
   "source": [
    "## List\n",
    "\n",
    "List Functions/Method\n",
    "\n",
    "Method Description\n",
    "append() Adds an element at the end of the list \n",
    "clear()\tRemoves all the elements from the list\n",
    "copy()\tReturns a copy of the list\n",
    "count()\tReturns the number of elements with the specified value\n",
    "extend()\tAdd the elements of a list (or any iterable), to the end of the current list\n",
    "index()\tReturns the index of the first element with the specified value\n",
    "insert()\tAdds an element at the specified position\n",
    "pop()\tRemoves the element at the specified position\n",
    "remove()\tRemoves the item with the specified value\n",
    "reverse()\tReverses the order of the list\n",
    "sort()\tSorts the list\n",
    "\n",
    "List Comprehension\n",
    "List Spliting"
   ]
  },
  {
   "cell_type": "code",
   "execution_count": 42,
   "id": "86c8f436-753e-44f0-bad1-2c59b03eef28",
   "metadata": {},
   "outputs": [
    {
     "name": "stdout",
     "output_type": "stream",
     "text": [
      "5\n",
      "4\n",
      "3\n",
      "2\n",
      "1\n"
     ]
    }
   ],
   "source": [
    "l = [1,2,3,4,5]\n",
    "for i in range(-1,-len(l)-1,-1):\n",
    "    print(l[i])"
   ]
  },
  {
   "cell_type": "code",
   "execution_count": 45,
   "id": "f44ff8a9-cc8c-458f-8548-a5570dda8401",
   "metadata": {},
   "outputs": [
    {
     "name": "stdout",
     "output_type": "stream",
     "text": [
      "[1, 100, 2, 3, 4, 5, 10, 10]\n"
     ]
    }
   ],
   "source": [
    "l.append(10)\n",
    "l.insert(1,100)\n",
    "print(l)"
   ]
  },
  {
   "cell_type": "code",
   "execution_count": 46,
   "id": "dd242144-485f-49c2-839f-5f3ebd6755a9",
   "metadata": {},
   "outputs": [
    {
     "name": "stdout",
     "output_type": "stream",
     "text": [
      "1\n",
      "[1, 1000, 2, 3, 4, 5, 10, 10]\n"
     ]
    }
   ],
   "source": [
    "print(l[0])\n",
    "l[1]=1000\n",
    "print(l)"
   ]
  },
  {
   "cell_type": "code",
   "execution_count": 47,
   "id": "65112b33-10c7-4b22-8f1e-dd7cf4b47a4d",
   "metadata": {},
   "outputs": [
    {
     "name": "stdout",
     "output_type": "stream",
     "text": [
      "10\n",
      "1000\n",
      "[1, 2, 3, 4, 5, 10]\n"
     ]
    }
   ],
   "source": [
    "print(l.pop())\n",
    "print(l.pop(1))\n",
    "print(l)"
   ]
  },
  {
   "cell_type": "code",
   "execution_count": 49,
   "id": "238b500f-97e1-40df-843c-1929c456b742",
   "metadata": {},
   "outputs": [
    {
     "name": "stdout",
     "output_type": "stream",
     "text": [
      "[1, 2, 3, 4, 1, 1, 2]\n"
     ]
    }
   ],
   "source": [
    "l1 = [1,2,3,4]\n",
    "l2 = [1,1,2]\n",
    "l1 = l1+l2\n",
    "print(l1)"
   ]
  },
  {
   "cell_type": "code",
   "execution_count": 62,
   "id": "e3bebb96-2ecd-48f5-b833-b4ef9c41ffde",
   "metadata": {},
   "outputs": [
    {
     "name": "stdout",
     "output_type": "stream",
     "text": [
      "[0, 2, 4, 6, 8, 10, 12, 14, 16, 18]\n"
     ]
    }
   ],
   "source": [
    "l = [i for i in range(20) if i%2==0]\n",
    "print(l)"
   ]
  },
  {
   "cell_type": "code",
   "execution_count": 63,
   "id": "158d6b41-cafc-486c-acea-13bf742af4e3",
   "metadata": {},
   "outputs": [
    {
     "name": "stdout",
     "output_type": "stream",
     "text": [
      "[18, 16, 14, 12, 10, 8, 6, 4, 2, 0]\n"
     ]
    }
   ],
   "source": [
    "print(l[::-1])"
   ]
  },
  {
   "cell_type": "code",
   "execution_count": null,
   "id": "415f1877-574c-4370-a6a4-1020f1da26f1",
   "metadata": {},
   "outputs": [],
   "source": []
  },
  {
   "cell_type": "code",
   "execution_count": null,
   "id": "808d195f-47bd-487e-87c6-94c34b864627",
   "metadata": {},
   "outputs": [],
   "source": []
  },
  {
   "cell_type": "code",
   "execution_count": 67,
   "id": "32c1d5ee-25f2-491c-b6cb-8530ffb56df3",
   "metadata": {},
   "outputs": [
    {
     "name": "stdout",
     "output_type": "stream",
     "text": [
      "(1, 2, 3)\n"
     ]
    }
   ],
   "source": [
    "t1 = (1,2,3)\n",
    "print(t1)"
   ]
  },
  {
   "cell_type": "code",
   "execution_count": 66,
   "id": "6c9ac86a-e13a-4bf7-856e-1a7f38dcbddf",
   "metadata": {},
   "outputs": [
    {
     "name": "stdout",
     "output_type": "stream",
     "text": [
      "(1, 2, 3, 10)\n"
     ]
    }
   ],
   "source": [
    "l1 = list(t1)\n",
    "l1.append(10)\n",
    "t1 = tuple(l1)\n",
    "print(t1)"
   ]
  },
  {
   "cell_type": "code",
   "execution_count": 69,
   "id": "aac1b7cf-3f00-43ec-ac5f-8781436fff44",
   "metadata": {},
   "outputs": [
    {
     "name": "stdout",
     "output_type": "stream",
     "text": [
      "(10, 20, 30) 10 20 30\n"
     ]
    }
   ],
   "source": [
    "t1 = 10, 20, 30\n",
    "a,b,c = t1\n",
    "print(t1,a,b,c)"
   ]
  },
  {
   "cell_type": "code",
   "execution_count": 70,
   "id": "76388b4e-70d3-443c-896d-c2832f0225fe",
   "metadata": {},
   "outputs": [
    {
     "name": "stdout",
     "output_type": "stream",
     "text": [
      "1 2 3\n"
     ]
    }
   ],
   "source": [
    "a,b,c = 1,2,3\n",
    "print(a,b,c)"
   ]
  },
  {
   "cell_type": "code",
   "execution_count": 72,
   "id": "b103175f-6217-473e-aacb-b5955f4c9202",
   "metadata": {},
   "outputs": [
    {
     "name": "stdout",
     "output_type": "stream",
     "text": [
      "(2,)\n"
     ]
    }
   ],
   "source": [
    "t2 = (2,)\n",
    "print(t2)"
   ]
  },
  {
   "cell_type": "code",
   "execution_count": null,
   "id": "78cadeab-7b50-43d2-8c77-087d37869a37",
   "metadata": {},
   "outputs": [],
   "source": []
  },
  {
   "cell_type": "code",
   "execution_count": 73,
   "id": "155df7cb-080f-4b47-a4fe-298e7415b683",
   "metadata": {},
   "outputs": [
    {
     "name": "stdout",
     "output_type": "stream",
     "text": [
      "[1, 1, 1, 1, 1, 1, 1, 1, 1, 1]\n"
     ]
    }
   ],
   "source": [
    "l = [1]*10\n",
    "print(l)"
   ]
  },
  {
   "cell_type": "code",
   "execution_count": null,
   "id": "fde3b936-c839-409e-b8a7-f6a5b670f4fd",
   "metadata": {},
   "outputs": [],
   "source": []
  },
  {
   "cell_type": "code",
   "execution_count": null,
   "id": "0f6b63c9-5868-404e-8a9f-b80de3ee8451",
   "metadata": {},
   "outputs": [],
   "source": []
  },
  {
   "cell_type": "markdown",
   "id": "b9bd9efe-c324-4701-8a00-d8c608b4fb3b",
   "metadata": {},
   "source": [
    "## Sets"
   ]
  },
  {
   "cell_type": "code",
   "execution_count": 74,
   "id": "b387a8ee-ddea-4e1b-a937-8ba9bb8c500f",
   "metadata": {},
   "outputs": [
    {
     "name": "stdout",
     "output_type": "stream",
     "text": [
      "{1, 2, 3} <class 'set'>\n"
     ]
    }
   ],
   "source": [
    "s = {1,2,3}\n",
    "print(s,type(s))"
   ]
  },
  {
   "cell_type": "code",
   "execution_count": 75,
   "id": "7b20539f-3bf9-472f-a0ab-5a0eb7283bdb",
   "metadata": {},
   "outputs": [
    {
     "name": "stdout",
     "output_type": "stream",
     "text": [
      "{10, 1, 2, 3}\n"
     ]
    }
   ],
   "source": [
    "s.add(10)\n",
    "print(s)"
   ]
  },
  {
   "cell_type": "code",
   "execution_count": 76,
   "id": "ace72db6-9090-47b9-b3a6-1cbc806d4f9b",
   "metadata": {},
   "outputs": [
    {
     "name": "stdout",
     "output_type": "stream",
     "text": [
      "{10, 1, 2, 3}\n"
     ]
    }
   ],
   "source": [
    "s.add(1)\n",
    "print(s)"
   ]
  },
  {
   "cell_type": "code",
   "execution_count": 81,
   "id": "d11de393-bc7a-4a9b-8234-93b2cc12817e",
   "metadata": {},
   "outputs": [],
   "source": [
    "s.remove(3)"
   ]
  },
  {
   "cell_type": "code",
   "execution_count": 84,
   "id": "1c10377b-5c90-477a-a5e8-f48d1376fdd5",
   "metadata": {},
   "outputs": [
    {
     "name": "stdout",
     "output_type": "stream",
     "text": [
      "False\n"
     ]
    }
   ],
   "source": [
    "s = {1,2,3,4,5}\n",
    "print(10 in s)"
   ]
  },
  {
   "cell_type": "code",
   "execution_count": 85,
   "id": "bc7a1347-6cd5-4d92-a61b-1338b54b79d4",
   "metadata": {},
   "outputs": [
    {
     "name": "stdout",
     "output_type": "stream",
     "text": [
      "set()\n"
     ]
    }
   ],
   "source": [
    "s = set()\n",
    "print(s)"
   ]
  },
  {
   "cell_type": "code",
   "execution_count": 88,
   "id": "6bb60b07-97e3-4c1d-87ab-f12425a18cad",
   "metadata": {},
   "outputs": [
    {
     "name": "stdout",
     "output_type": "stream",
     "text": [
      "frozenset({1, 2, 3})\n"
     ]
    }
   ],
   "source": [
    "s = frozenset({1,2,3})\n",
    "print(s)"
   ]
  },
  {
   "cell_type": "code",
   "execution_count": 89,
   "id": "e7ff0042-b245-4842-aa7c-6ecf743b1ce0",
   "metadata": {},
   "outputs": [
    {
     "name": "stdout",
     "output_type": "stream",
     "text": [
      "1\n",
      "2\n",
      "3\n"
     ]
    }
   ],
   "source": [
    "for ele in s:\n",
    "    print(ele)"
   ]
  },
  {
   "cell_type": "code",
   "execution_count": null,
   "id": "8e57a6ca-e5cf-4c19-ab18-5e69414c0f95",
   "metadata": {},
   "outputs": [],
   "source": []
  },
  {
   "cell_type": "markdown",
   "id": "3ec4b51f-c276-46c9-a8eb-696d18197d64",
   "metadata": {},
   "source": [
    "## Dictonary"
   ]
  },
  {
   "cell_type": "code",
   "execution_count": null,
   "id": "ddd7259e-6600-486d-875c-312b11955f63",
   "metadata": {},
   "outputs": [],
   "source": []
  },
  {
   "cell_type": "code",
   "execution_count": 91,
   "id": "7fd4f346-28f3-4ac6-8707-cb0f4af10c46",
   "metadata": {},
   "outputs": [
    {
     "name": "stdout",
     "output_type": "stream",
     "text": [
      "{'roll': 128, 'name': 'sacher', 'age': 'jawan', 'status': 'commited'} <class 'dict'>\n"
     ]
    }
   ],
   "source": [
    "d = {\n",
    "    \"roll\" : 127,\n",
    "    \"name\" : \"sacher\",\n",
    "    \"age\" : \"jawan\",\n",
    "    \"status\" : \"commited\",\n",
    "    \"roll\" : 128\n",
    "}\n",
    "print(d,type(d))"
   ]
  },
  {
   "cell_type": "code",
   "execution_count": 95,
   "id": "4d15e262-967b-4268-b289-21c943779d01",
   "metadata": {},
   "outputs": [
    {
     "ename": "KeyError",
     "evalue": "'rolll'",
     "output_type": "error",
     "traceback": [
      "\u001b[1;31m---------------------------------------------------------------------------\u001b[0m",
      "\u001b[1;31mKeyError\u001b[0m                                  Traceback (most recent call last)",
      "Cell \u001b[1;32mIn[95], line 1\u001b[0m\n\u001b[1;32m----> 1\u001b[0m \u001b[38;5;28mprint\u001b[39m(\u001b[43md\u001b[49m\u001b[43m[\u001b[49m\u001b[38;5;124;43m\"\u001b[39;49m\u001b[38;5;124;43mrolll\u001b[39;49m\u001b[38;5;124;43m\"\u001b[39;49m\u001b[43m]\u001b[49m)\n",
      "\u001b[1;31mKeyError\u001b[0m: 'rolll'"
     ]
    }
   ],
   "source": [
    "print(d[\"rolll\"])"
   ]
  },
  {
   "cell_type": "code",
   "execution_count": 97,
   "id": "606504ea-2746-4e82-a21c-884f443afcc6",
   "metadata": {},
   "outputs": [],
   "source": [
    "d.get(\"rolll\")"
   ]
  },
  {
   "cell_type": "code",
   "execution_count": null,
   "id": "b8bcc972-a9a6-40e6-943a-92f4902a766a",
   "metadata": {},
   "outputs": [],
   "source": []
  },
  {
   "cell_type": "code",
   "execution_count": 98,
   "id": "e0ef17b6-d26b-45f4-b6fa-c8ccae8b6eea",
   "metadata": {},
   "outputs": [
    {
     "name": "stdout",
     "output_type": "stream",
     "text": [
      "{'roll': 128, 'name': 'sacher', 'age': 'jawan', 'status': 'commited', 'college': 'chitkara'}\n"
     ]
    }
   ],
   "source": [
    "d[\"college\"]= \"chitkara\"\n",
    "print(d)"
   ]
  },
  {
   "cell_type": "code",
   "execution_count": 99,
   "id": "3bd145b7-79f5-477a-9dcc-22f603448a8c",
   "metadata": {},
   "outputs": [
    {
     "name": "stdout",
     "output_type": "stream",
     "text": [
      "{'roll': 128, 'name': 'sacher', 'age': 'jawan', 'status': 'commited', 'college': 'chitkara', 'city': 'chandigarh', 'country': 'India'}\n"
     ]
    }
   ],
   "source": [
    "d.update({\"city\":\"chandigarh\",\"country\":'India'})\n",
    "print(d)"
   ]
  },
  {
   "cell_type": "code",
   "execution_count": 100,
   "id": "ee49e72d-87ad-4fa7-b63e-a4da47a87876",
   "metadata": {},
   "outputs": [
    {
     "data": {
      "text/plain": [
       "dict_keys(['roll', 'name', 'age', 'status', 'college', 'city', 'country'])"
      ]
     },
     "execution_count": 100,
     "metadata": {},
     "output_type": "execute_result"
    }
   ],
   "source": [
    "d.keys()"
   ]
  },
  {
   "cell_type": "code",
   "execution_count": 104,
   "id": "13fb86a4-f5d4-4944-941e-d91e123b445e",
   "metadata": {},
   "outputs": [
    {
     "name": "stdout",
     "output_type": "stream",
     "text": [
      "roll 128\n",
      "name sacher\n",
      "age jawan\n",
      "status commited\n",
      "college chitkara\n",
      "city chandigarh\n",
      "country India\n"
     ]
    }
   ],
   "source": [
    "for k in d.keys():\n",
    "    print(k, d[k])"
   ]
  },
  {
   "cell_type": "code",
   "execution_count": 105,
   "id": "b92dde65-e83c-467f-9941-94ba3b513d4f",
   "metadata": {},
   "outputs": [
    {
     "data": {
      "text/plain": [
       "dict_values([128, 'sacher', 'jawan', 'commited', 'chitkara', 'chandigarh', 'India'])"
      ]
     },
     "execution_count": 105,
     "metadata": {},
     "output_type": "execute_result"
    }
   ],
   "source": [
    "d.values()"
   ]
  },
  {
   "cell_type": "code",
   "execution_count": 106,
   "id": "96f8bf53-340c-48a3-b637-9897bcb1753f",
   "metadata": {},
   "outputs": [
    {
     "data": {
      "text/plain": [
       "dict_items([('roll', 128), ('name', 'sacher'), ('age', 'jawan'), ('status', 'commited'), ('college', 'chitkara'), ('city', 'chandigarh'), ('country', 'India')])"
      ]
     },
     "execution_count": 106,
     "metadata": {},
     "output_type": "execute_result"
    }
   ],
   "source": [
    "d.items()"
   ]
  },
  {
   "cell_type": "code",
   "execution_count": 108,
   "id": "720f5933-7310-4e43-a6cf-dc100b7eb5e3",
   "metadata": {},
   "outputs": [
    {
     "name": "stdout",
     "output_type": "stream",
     "text": [
      "('roll', 128)\n",
      "('name', 'sacher')\n",
      "('age', 'jawan')\n",
      "('status', 'commited')\n",
      "('college', 'chitkara')\n",
      "('city', 'chandigarh')\n",
      "('country', 'India')\n"
     ]
    }
   ],
   "source": [
    "for t in d.items():\n",
    "    print(t)"
   ]
  },
  {
   "cell_type": "code",
   "execution_count": 113,
   "id": "13e1fa8f-931d-408d-bc61-ae3b22b742ba",
   "metadata": {},
   "outputs": [
    {
     "data": {
      "text/plain": [
       "('city', 'chandigarh')"
      ]
     },
     "execution_count": 113,
     "metadata": {},
     "output_type": "execute_result"
    }
   ],
   "source": [
    "d.popitem()"
   ]
  },
  {
   "cell_type": "code",
   "execution_count": 111,
   "id": "53e0028f-063b-4d32-b989-c0eb967a24f2",
   "metadata": {},
   "outputs": [
    {
     "data": {
      "text/plain": [
       "{'roll': 128,\n",
       " 'name': 'sacher',\n",
       " 'age': 'jawan',\n",
       " 'status': 'commited',\n",
       " 'college': 'chitkara',\n",
       " 'city': 'chandigarh'}"
      ]
     },
     "execution_count": 111,
     "metadata": {},
     "output_type": "execute_result"
    }
   ],
   "source": [
    "d"
   ]
  },
  {
   "cell_type": "code",
   "execution_count": null,
   "id": "a26c4c0e-2b76-4f28-83e0-40cf2def4f29",
   "metadata": {},
   "outputs": [],
   "source": []
  },
  {
   "cell_type": "code",
   "execution_count": null,
   "id": "7e644fa6-9ed7-4619-89b5-846a30eea1a1",
   "metadata": {},
   "outputs": [],
   "source": []
  },
  {
   "cell_type": "markdown",
   "id": "c2b3ea7e-4db1-488c-8f71-4c0df4b6813f",
   "metadata": {},
   "source": [
    "## functions\n",
    "- defination\n",
    "- parameters (Pass by Value)\n",
    "- return / Multiple Return\n",
    "- default arguments\n",
    "- keyword arguments\n",
    "- Arbitrary arguments (*args and **kwargs)\n",
    "- DocString (__doc__)\n",
    "- Function within function\n",
    "- function as arguments\n",
    "- Anonymous Function\n",
    "- Recursion"
   ]
  },
  {
   "cell_type": "code",
   "execution_count": 137,
   "id": "b2dfb31d-90cc-4774-9b09-5a1ad138c823",
   "metadata": {},
   "outputs": [],
   "source": [
    "def cal(p,q,/,*,x,y=100):\n",
    "    a = x+y\n",
    "    b = x-y\n",
    "    print(p,q)\n",
    "    return a,b"
   ]
  },
  {
   "cell_type": "code",
   "execution_count": 138,
   "id": "43e15909-643f-4438-8df8-86e98b2aee10",
   "metadata": {},
   "outputs": [
    {
     "name": "stdout",
     "output_type": "stream",
     "text": [
      "10 20\n",
      "1300 700\n",
      "100 200\n",
      "(200, 0)\n"
     ]
    }
   ],
   "source": [
    "a,b = cal(10,20,y=300,x=1000)\n",
    "print(a,b)\n",
    "print(cal(100,200,x = 100))"
   ]
  },
  {
   "cell_type": "code",
   "execution_count": 116,
   "id": "8b95d0d5-ffa2-4910-a6b6-cf67c14a7938",
   "metadata": {},
   "outputs": [
    {
     "name": "stdout",
     "output_type": "stream",
     "text": [
      "<function add at 0x000002068F698E00> <class 'function'>\n"
     ]
    }
   ],
   "source": [
    "print(add,type(add))"
   ]
  },
  {
   "cell_type": "code",
   "execution_count": 149,
   "id": "5d6c3ae3-1323-4605-990e-bbe727570a0d",
   "metadata": {},
   "outputs": [],
   "source": [
    "def pt(**kwargs):\n",
    "    print(kwargs)"
   ]
  },
  {
   "cell_type": "code",
   "execution_count": 150,
   "id": "181b0f62-2d3c-49cb-884c-a412a8c2d7e0",
   "metadata": {},
   "outputs": [
    {
     "name": "stdout",
     "output_type": "stream",
     "text": [
      "{'x': 1, 'y': 2, 'z': 3}\n",
      "{'st': 'Hello', 'y': 10}\n"
     ]
    }
   ],
   "source": [
    "pt(x = 1,y = 2,z = 3)\n",
    "pt(st =\"Hello\",y = 10)"
   ]
  },
  {
   "cell_type": "code",
   "execution_count": 151,
   "id": "9877f2b2-076a-4016-822f-6ba5c74092ee",
   "metadata": {},
   "outputs": [
    {
     "name": "stdout",
     "output_type": "stream",
     "text": [
      "{}\n"
     ]
    }
   ],
   "source": [
    "pt()"
   ]
  },
  {
   "cell_type": "code",
   "execution_count": 155,
   "id": "fdeb8214-fad1-4ff8-b602-0ffdbb4c30fa",
   "metadata": {},
   "outputs": [],
   "source": [
    "def fn():\n",
    "    \"\"\"This is a Demo Func\"\"\"\n",
    "    print(\"Hi\")"
   ]
  },
  {
   "cell_type": "code",
   "execution_count": 156,
   "id": "b2fa203a-46b3-4409-beac-02442591fe37",
   "metadata": {},
   "outputs": [
    {
     "name": "stdout",
     "output_type": "stream",
     "text": [
      "Hi\n"
     ]
    }
   ],
   "source": [
    "fn()"
   ]
  },
  {
   "cell_type": "code",
   "execution_count": 157,
   "id": "fa05b2fa-6a36-42c7-a087-f7fbf7c41009",
   "metadata": {},
   "outputs": [
    {
     "name": "stdout",
     "output_type": "stream",
     "text": [
      "This is a Demo Func\n"
     ]
    }
   ],
   "source": [
    "print(fn.__doc__)"
   ]
  },
  {
   "cell_type": "code",
   "execution_count": 160,
   "id": "e7f398ff-4be7-425b-9c80-157ef6b39e52",
   "metadata": {},
   "outputs": [
    {
     "name": "stdout",
     "output_type": "stream",
     "text": [
      "Hi\n",
      "In f2\n",
      "bye\n",
      "In f2\n"
     ]
    }
   ],
   "source": [
    "def f1():\n",
    "    print(\"Hi\")\n",
    "    def f2():\n",
    "        print(\"In f2\")\n",
    "    f2()\n",
    "    print(\"bye\")\n",
    "    return f2\n",
    "fn2 = f1()\n",
    "fn2()"
   ]
  },
  {
   "cell_type": "code",
   "execution_count": 161,
   "id": "ad64e4d9-91ca-4c47-aeb6-742375e3fc51",
   "metadata": {},
   "outputs": [],
   "source": [
    "def add(x,y):\n",
    "    return x+y\n",
    "def sub(x,y):\n",
    "    return x-y"
   ]
  },
  {
   "cell_type": "code",
   "execution_count": 162,
   "id": "3b74f29d-f3c9-4c49-8347-8c34f3c12632",
   "metadata": {},
   "outputs": [],
   "source": [
    "def cal(fn,x,y):\n",
    "    ans = fn(x,y)\n",
    "    print(ans)"
   ]
  },
  {
   "cell_type": "code",
   "execution_count": 163,
   "id": "596c9eb8-3c23-4654-bc70-1e936a04c454",
   "metadata": {},
   "outputs": [
    {
     "name": "stdout",
     "output_type": "stream",
     "text": [
      "30\n"
     ]
    }
   ],
   "source": [
    "cal(add,10,20)"
   ]
  },
  {
   "cell_type": "code",
   "execution_count": 164,
   "id": "1e0ca9f6-cfcf-42d5-bbfc-8d772f0f9c60",
   "metadata": {},
   "outputs": [
    {
     "name": "stdout",
     "output_type": "stream",
     "text": [
      "10\n"
     ]
    }
   ],
   "source": [
    "cal(sub,50,40)"
   ]
  },
  {
   "cell_type": "code",
   "execution_count": 165,
   "id": "3522f8e4-c6b4-40da-9139-d8927a93e663",
   "metadata": {},
   "outputs": [
    {
     "name": "stdout",
     "output_type": "stream",
     "text": [
      "100\n"
     ]
    }
   ],
   "source": [
    "sq = lambda x : x*x\n",
    "print(sq(10))"
   ]
  },
  {
   "cell_type": "code",
   "execution_count": 167,
   "id": "599517a4-b0f1-4c5c-a6a2-48e4fbc29b7f",
   "metadata": {},
   "outputs": [
    {
     "name": "stdout",
     "output_type": "stream",
     "text": [
      "200\n"
     ]
    }
   ],
   "source": [
    "cal(lambda x,y:x*y,10,20)"
   ]
  },
  {
   "cell_type": "code",
   "execution_count": null,
   "id": "0312f378-ac99-4299-95bb-e8050cabbe90",
   "metadata": {},
   "outputs": [],
   "source": []
  }
 ],
 "metadata": {
  "kernelspec": {
   "display_name": "Python 3 (ipykernel)",
   "language": "python",
   "name": "python3"
  },
  "language_info": {
   "codemirror_mode": {
    "name": "ipython",
    "version": 3
   },
   "file_extension": ".py",
   "mimetype": "text/x-python",
   "name": "python",
   "nbconvert_exporter": "python",
   "pygments_lexer": "ipython3",
   "version": "3.12.1"
  }
 },
 "nbformat": 4,
 "nbformat_minor": 5
}
