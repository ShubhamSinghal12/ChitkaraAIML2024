{
 "cells": [
  {
   "cell_type": "markdown",
   "id": "6b92fd12-164c-4cca-ae87-0845acbe551b",
   "metadata": {},
   "source": [
    "## Various Functions\n",
    "- abs\n",
    "- all\n",
    "- dir\n",
    "- divmod\n",
    "- enumerate\n",
    "- filter\n",
    "- isinstance\n",
    "- map\n",
    "- reduce -- in python3 from functools import reduce\n",
    "- "
   ]
  },
  {
   "cell_type": "code",
   "execution_count": 1,
   "id": "5585ed47-b93d-49cc-96fa-0a177b91119d",
   "metadata": {},
   "outputs": [
    {
     "data": {
      "text/plain": [
       "10.5"
      ]
     },
     "execution_count": 1,
     "metadata": {},
     "output_type": "execute_result"
    }
   ],
   "source": [
    "abs(-10.5)"
   ]
  },
  {
   "cell_type": "code",
   "execution_count": 5,
   "id": "6c7eaf3f-bdca-4f40-9747-d68b6b824538",
   "metadata": {},
   "outputs": [
    {
     "data": {
      "text/plain": [
       "False"
      ]
     },
     "execution_count": 5,
     "metadata": {},
     "output_type": "execute_result"
    }
   ],
   "source": [
    "all([True,True,1,False,True])"
   ]
  },
  {
   "cell_type": "code",
   "execution_count": 10,
   "id": "7a161ed8-7ff6-4424-9358-d0f5ec02df2f",
   "metadata": {},
   "outputs": [],
   "source": [
    "l = [10,20,30,40]\n",
    "# dir(l)"
   ]
  },
  {
   "cell_type": "code",
   "execution_count": 11,
   "id": "c73d0f8e-69c0-422c-bbd8-de9976547ee2",
   "metadata": {},
   "outputs": [
    {
     "data": {
      "text/plain": [
       "(3, 2)"
      ]
     },
     "execution_count": 11,
     "metadata": {},
     "output_type": "execute_result"
    }
   ],
   "source": [
    "divmod(11,3)"
   ]
  },
  {
   "cell_type": "code",
   "execution_count": 14,
   "id": "45a1c553-3d24-45dc-89f3-35f298b0f647",
   "metadata": {},
   "outputs": [
    {
     "name": "stdout",
     "output_type": "stream",
     "text": [
      "0 10\n",
      "1 20\n",
      "2 30\n",
      "3 40\n"
     ]
    }
   ],
   "source": [
    "for ind,ele in enumerate(l):\n",
    "    print(ind,ele)"
   ]
  },
  {
   "cell_type": "code",
   "execution_count": 17,
   "id": "9dfb0d8c-ff98-455e-bc2c-e2a9b98b6661",
   "metadata": {},
   "outputs": [
    {
     "name": "stdout",
     "output_type": "stream",
     "text": [
      "[0, 2, 4, 6, 8, 10, 12, 14, 16, 18]\n"
     ]
    }
   ],
   "source": [
    "l = [i for i in range(20)]\n",
    "l = list(filter(lambda x : x%2==0 ,l))\n",
    "print(l)"
   ]
  },
  {
   "cell_type": "code",
   "execution_count": 18,
   "id": "87e41078-2c81-4f8b-a08b-b9fd18d7bfc1",
   "metadata": {},
   "outputs": [
    {
     "name": "stdout",
     "output_type": "stream",
     "text": [
      "[0, 4, 16, 36, 64, 100, 144, 196, 256, 324]\n"
     ]
    }
   ],
   "source": [
    "ls = list(map(lambda x:x*x,l))\n",
    "print(ls)"
   ]
  },
  {
   "cell_type": "code",
   "execution_count": null,
   "id": "da7881ea-cbb6-46c5-ad19-ed0fc372bbe3",
   "metadata": {},
   "outputs": [],
   "source": []
  },
  {
   "cell_type": "code",
   "execution_count": null,
   "id": "4a14e40e-63e3-4515-b17d-b7005f25aaec",
   "metadata": {},
   "outputs": [],
   "source": []
  },
  {
   "cell_type": "code",
   "execution_count": null,
   "id": "c3089331-5675-4d52-9f5a-b41e7864cd08",
   "metadata": {},
   "outputs": [],
   "source": []
  },
  {
   "cell_type": "code",
   "execution_count": 19,
   "id": "bb165073-0fc3-47ed-afac-82ef6052eab9",
   "metadata": {},
   "outputs": [],
   "source": [
    "st = \"Hello, Iam Shubham. My age is 27\""
   ]
  },
  {
   "cell_type": "code",
   "execution_count": 20,
   "id": "fb550cb3-d44c-4faf-beb4-626de3012178",
   "metadata": {},
   "outputs": [
    {
     "data": {
      "text/plain": [
       "'l'"
      ]
     },
     "execution_count": 20,
     "metadata": {},
     "output_type": "execute_result"
    }
   ],
   "source": [
    "st[2]"
   ]
  },
  {
   "cell_type": "code",
   "execution_count": 21,
   "id": "474d8c68-138c-4cf3-bb6a-521a3688c98c",
   "metadata": {},
   "outputs": [
    {
     "data": {
      "text/plain": [
       "'llo, I'"
      ]
     },
     "execution_count": 21,
     "metadata": {},
     "output_type": "execute_result"
    }
   ],
   "source": [
    "st[2:8]"
   ]
  },
  {
   "cell_type": "code",
   "execution_count": 22,
   "id": "ae576e59-71ee-4e38-82b3-9b52a3349c4e",
   "metadata": {},
   "outputs": [
    {
     "name": "stdout",
     "output_type": "stream",
     "text": [
      "1785048939184\n",
      "1785048939184\n",
      "1785048939184\n"
     ]
    }
   ],
   "source": [
    "s1 = \"123\"\n",
    "s2 = \"123\"\n",
    "n = 123\n",
    "s3 = str(n)\n",
    "print(id(s1))\n",
    "print(id(s2))\n",
    "print(id(s3))"
   ]
  },
  {
   "cell_type": "code",
   "execution_count": 23,
   "id": "f0a1f89d-d3c8-4b1d-aeb2-e293176fa784",
   "metadata": {},
   "outputs": [
    {
     "data": {
      "text/plain": [
       "'Abcabcsdfabcbcaabcsafdsf'"
      ]
     },
     "execution_count": 23,
     "metadata": {},
     "output_type": "execute_result"
    }
   ],
   "source": [
    "ft = \"abcabcsdfabcbcaabcsafdsf\"\n",
    "ft.capitalize()"
   ]
  },
  {
   "cell_type": "code",
   "execution_count": 24,
   "id": "0579dae2-81db-4760-a7b2-f5407cfa378e",
   "metadata": {},
   "outputs": [
    {
     "data": {
      "text/plain": [
       "'hello, iam shubham. my age is 27'"
      ]
     },
     "execution_count": 24,
     "metadata": {},
     "output_type": "execute_result"
    }
   ],
   "source": [
    "st.casefold()"
   ]
  },
  {
   "cell_type": "code",
   "execution_count": 26,
   "id": "e335c77c-f0b7-4563-b30d-d87f662e3078",
   "metadata": {},
   "outputs": [
    {
     "data": {
      "text/plain": [
       "False"
      ]
     },
     "execution_count": 26,
     "metadata": {},
     "output_type": "execute_result"
    }
   ],
   "source": [
    "st.endswith('127')"
   ]
  },
  {
   "cell_type": "code",
   "execution_count": 33,
   "id": "78ce3504-5aec-482e-8a67-e5bbe3eaf1cc",
   "metadata": {},
   "outputs": [
    {
     "data": {
      "text/plain": [
       "-1"
      ]
     },
     "execution_count": 33,
     "metadata": {},
     "output_type": "execute_result"
    }
   ],
   "source": [
    "ft.find('as')"
   ]
  },
  {
   "cell_type": "code",
   "execution_count": 31,
   "id": "27b8843d-f1bd-4002-b89e-c84bed563681",
   "metadata": {},
   "outputs": [
    {
     "ename": "ValueError",
     "evalue": "substring not found",
     "output_type": "error",
     "traceback": [
      "\u001b[1;31m---------------------------------------------------------------------------\u001b[0m",
      "\u001b[1;31mValueError\u001b[0m                                Traceback (most recent call last)",
      "Cell \u001b[1;32mIn[31], line 1\u001b[0m\n\u001b[1;32m----> 1\u001b[0m \u001b[43mft\u001b[49m\u001b[38;5;241;43m.\u001b[39;49m\u001b[43mindex\u001b[49m\u001b[43m(\u001b[49m\u001b[38;5;124;43m'\u001b[39;49m\u001b[38;5;124;43mas\u001b[39;49m\u001b[38;5;124;43m'\u001b[39;49m\u001b[43m)\u001b[49m\n",
      "\u001b[1;31mValueError\u001b[0m: substring not found"
     ]
    }
   ],
   "source": [
    "ft.index('as')"
   ]
  },
  {
   "cell_type": "code",
   "execution_count": 35,
   "id": "efb4b348-460b-425e-ac2e-c0f7d4bdf1b0",
   "metadata": {},
   "outputs": [
    {
     "data": {
      "text/plain": [
       "99"
      ]
     },
     "execution_count": 35,
     "metadata": {},
     "output_type": "execute_result"
    }
   ],
   "source": [
    "ord(ft[2])"
   ]
  },
  {
   "cell_type": "code",
   "execution_count": 37,
   "id": "aa326f7a-0eb4-4466-992b-92b5688c200d",
   "metadata": {},
   "outputs": [
    {
     "data": {
      "text/plain": [
       "'hello, iam shubham. my age is 27'"
      ]
     },
     "execution_count": 37,
     "metadata": {},
     "output_type": "execute_result"
    }
   ],
   "source": [
    "st.lower()"
   ]
  },
  {
   "cell_type": "code",
   "execution_count": 38,
   "id": "b9b8b9c8-8b39-4b54-9872-2f040e2f04a0",
   "metadata": {},
   "outputs": [
    {
     "data": {
      "text/plain": [
       "'HELLO, IAM SHUBHAM. MY AGE IS 27'"
      ]
     },
     "execution_count": 38,
     "metadata": {},
     "output_type": "execute_result"
    }
   ],
   "source": [
    "st.upper()"
   ]
  },
  {
   "cell_type": "code",
   "execution_count": 39,
   "id": "d844bafc-135d-4f59-bfc4-06985ee9802e",
   "metadata": {},
   "outputs": [
    {
     "data": {
      "text/plain": [
       "'pqpqsdfpqbcapqsafdsf'"
      ]
     },
     "execution_count": 39,
     "metadata": {},
     "output_type": "execute_result"
    }
   ],
   "source": [
    "ft.replace('abc','pq')"
   ]
  },
  {
   "cell_type": "code",
   "execution_count": 44,
   "id": "d7403f82-a471-48b3-8cf7-2a4f086651cb",
   "metadata": {},
   "outputs": [
    {
     "data": {
      "text/plain": [
       "'27 is age My Shubham. Iam Hello,'"
      ]
     },
     "execution_count": 44,
     "metadata": {},
     "output_type": "execute_result"
    }
   ],
   "source": [
    "' '.join(st.split(\" \")[::-1])"
   ]
  },
  {
   "cell_type": "code",
   "execution_count": null,
   "id": "acaf02c0-d5df-4d71-8dbd-c73b42cd1b76",
   "metadata": {},
   "outputs": [],
   "source": []
  },
  {
   "cell_type": "code",
   "execution_count": null,
   "id": "ab4d3d85-d5b2-4902-aa8d-9063b46a9482",
   "metadata": {},
   "outputs": [],
   "source": []
  },
  {
   "cell_type": "code",
   "execution_count": 45,
   "id": "aff9396c-d365-437e-bc30-543971fe7d4b",
   "metadata": {},
   "outputs": [
    {
     "name": "stdout",
     "output_type": "stream",
     "text": [
      "Hello, I am Shubham Singhal. My age is 27\n"
     ]
    }
   ],
   "source": [
    "name = \"Shubham Singhal\"\n",
    "age = 27\n",
    "st = f\"Hello, I am {name}. My age is {age}\"\n",
    "print(st)"
   ]
  },
  {
   "cell_type": "code",
   "execution_count": 48,
   "id": "5b73df55-8968-4a9e-a087-1c71233d8f28",
   "metadata": {},
   "outputs": [
    {
     "name": "stdout",
     "output_type": "stream",
     "text": [
      "Hello, I am Shubham. My age is 27\n"
     ]
    }
   ],
   "source": [
    "st = \"Hello, I am {name}. My age is {age}\".format(name = \"Shubham\",age = 27)\n",
    "print(st)"
   ]
  },
  {
   "cell_type": "code",
   "execution_count": null,
   "id": "b16e46fa-7f0d-4aeb-b180-8c8776ec9fe6",
   "metadata": {},
   "outputs": [],
   "source": []
  },
  {
   "cell_type": "code",
   "execution_count": null,
   "id": "35a79d5a-8d1f-428d-9adc-48f0198f240a",
   "metadata": {},
   "outputs": [],
   "source": []
  },
  {
   "cell_type": "code",
   "execution_count": null,
   "id": "3d97ee2d-b56f-4186-b2c0-17deb51acac6",
   "metadata": {},
   "outputs": [],
   "source": []
  }
 ],
 "metadata": {
  "kernelspec": {
   "display_name": "Python 3 (ipykernel)",
   "language": "python",
   "name": "python3"
  },
  "language_info": {
   "codemirror_mode": {
    "name": "ipython",
    "version": 3
   },
   "file_extension": ".py",
   "mimetype": "text/x-python",
   "name": "python",
   "nbconvert_exporter": "python",
   "pygments_lexer": "ipython3",
   "version": "3.12.1"
  }
 },
 "nbformat": 4,
 "nbformat_minor": 5
}
