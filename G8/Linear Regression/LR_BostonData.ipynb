{
 "cells": [
  {
   "cell_type": "code",
   "execution_count": 15,
   "id": "6c6e20e3-7219-4afc-abb7-355136c9e105",
   "metadata": {},
   "outputs": [],
   "source": [
    "import numpy as np\n",
    "import matplotlib.pyplot as plt\n",
    "import pandas as pd\n",
    "from sklearn.model_selection import train_test_split\n",
    "from sklearn.linear_model import LinearRegression"
   ]
  },
  {
   "cell_type": "code",
   "execution_count": null,
   "id": "f94acadb-ed76-4a00-beb0-f6d0faa3fe2a",
   "metadata": {},
   "outputs": [],
   "source": []
  },
  {
   "cell_type": "code",
   "execution_count": 16,
   "id": "7c067f51-ab42-42f3-a9a9-709f3253bd55",
   "metadata": {},
   "outputs": [],
   "source": [
    "data = pd.read_csv(r'C:\\Users\\Pc\\Downloads\\archive (1)\\HousingData.csv')"
   ]
  },
  {
   "cell_type": "code",
   "execution_count": 17,
   "id": "73cc34af-cd37-4066-8a64-b741a7a54943",
   "metadata": {},
   "outputs": [
    {
     "data": {
      "text/plain": [
       "Index(['CRIM', 'ZN', 'INDUS', 'CHAS', 'NOX', 'RM', 'AGE', 'DIS', 'RAD', 'TAX',\n",
       "       'PTRATIO', 'B', 'LSTAT', 'MEDV'],\n",
       "      dtype='object')"
      ]
     },
     "execution_count": 17,
     "metadata": {},
     "output_type": "execute_result"
    }
   ],
   "source": [
    "data.columns"
   ]
  },
  {
   "cell_type": "code",
   "execution_count": 23,
   "id": "1db97381-07a6-472b-b3fc-14ad4de3dffc",
   "metadata": {},
   "outputs": [],
   "source": [
    "data.dropna(inplace=True)\n",
    "X = data.iloc[:,:-1]\n",
    "Y = data.iloc[:,-1]\n",
    "X_train,X_test,Y_train,Y_test = train_test_split(X,Y,test_size=0.2)"
   ]
  },
  {
   "cell_type": "code",
   "execution_count": 24,
   "id": "c9b38b54-6b51-49a5-a208-fe6029974558",
   "metadata": {},
   "outputs": [
    {
     "name": "stdout",
     "output_type": "stream",
     "text": [
      "[-1.00445706e-01  4.87686827e-02 -5.64676801e-03  2.88614993e+00\n",
      " -1.73241276e+01  3.99699546e+00 -2.40178100e-02 -1.49741971e+00\n",
      "  2.68142196e-01 -1.16241051e-02 -9.26755624e-01  8.48417733e-03\n",
      " -4.02798841e-01]\n",
      "35.348564072201064\n"
     ]
    }
   ],
   "source": [
    "regM = LinearRegression()\n",
    "regM.fit(X_train,Y_train)\n",
    "print(regM.coef_)\n",
    "print(regM.intercept_)"
   ]
  },
  {
   "cell_type": "code",
   "execution_count": 25,
   "id": "00a60e73-b6ee-4625-be70-6b7ba5a23322",
   "metadata": {},
   "outputs": [],
   "source": [
    "y_p = regM.predict(X_test)"
   ]
  },
  {
   "cell_type": "code",
   "execution_count": 26,
   "id": "09e73b06-1c61-4329-bbae-997d5540566c",
   "metadata": {},
   "outputs": [
    {
     "name": "stdout",
     "output_type": "stream",
     "text": [
      "MAE 3.225112009455642\n",
      "MSE 20.692356683233616\n",
      "RMSE 4.548885213240011\n"
     ]
    }
   ],
   "source": [
    "from sklearn.metrics import mean_absolute_error,mean_squared_error,root_mean_squared_error\n",
    "\n",
    "print(\"MAE\" , mean_absolute_error(y_p,Y_test))\n",
    "print(\"MSE\" , mean_squared_error(y_p,Y_test))\n",
    "print(\"RMSE\" , root_mean_squared_error(y_p,Y_test))"
   ]
  },
  {
   "cell_type": "code",
   "execution_count": 27,
   "id": "e18458f4-01c2-4ddd-9fdd-b7290293b79e",
   "metadata": {},
   "outputs": [
    {
     "data": {
      "text/plain": [
       "0.7696660442786033"
      ]
     },
     "execution_count": 27,
     "metadata": {},
     "output_type": "execute_result"
    }
   ],
   "source": [
    "regM.score(X_test,Y_test)"
   ]
  },
  {
   "cell_type": "code",
   "execution_count": null,
   "id": "31c57253-b708-480b-bedb-09d001ef6c7f",
   "metadata": {},
   "outputs": [],
   "source": []
  }
 ],
 "metadata": {
  "kernelspec": {
   "display_name": "Python 3 (ipykernel)",
   "language": "python",
   "name": "python3"
  },
  "language_info": {
   "codemirror_mode": {
    "name": "ipython",
    "version": 3
   },
   "file_extension": ".py",
   "mimetype": "text/x-python",
   "name": "python",
   "nbconvert_exporter": "python",
   "pygments_lexer": "ipython3",
   "version": "3.12.1"
  }
 },
 "nbformat": 4,
 "nbformat_minor": 5
}
