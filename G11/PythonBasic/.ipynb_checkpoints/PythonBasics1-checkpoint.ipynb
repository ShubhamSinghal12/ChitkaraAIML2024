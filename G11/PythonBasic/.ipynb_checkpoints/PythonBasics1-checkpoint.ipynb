{
 "cells": [
  {
   "cell_type": "markdown",
   "id": "97e260b3-4e6c-4368-a5ae-adcda36e70a5",
   "metadata": {},
   "source": [
    "<h2>Basics</h2>\n",
    "\n",
    "- KeyWords vs Identifier\n",
    "- Comments\n",
    "- What is a Variable?\n",
    "- Single Line vs Multiple Line\n",
    "- Multiple assignments\n",
    "- How do we Store a Variable it in the memory?\n",
    "- Immutability"
   ]
  },
  {
   "cell_type": "code",
   "execution_count": 1,
   "id": "49bfc01e-efc1-4023-bd41-3c9fab71bd8f",
   "metadata": {},
   "outputs": [
    {
     "name": "stdout",
     "output_type": "stream",
     "text": [
      "['False', 'None', 'True', 'and', 'as', 'assert', 'async', 'await', 'break', 'class', 'continue', 'def', 'del', 'elif', 'else', 'except', 'finally', 'for', 'from', 'global', 'if', 'import', 'in', 'is', 'lambda', 'nonlocal', 'not', 'or', 'pass', 'raise', 'return', 'try', 'while', 'with', 'yield']\n"
     ]
    },
    {
     "data": {
      "text/plain": [
       "' Hello This is a Multiple Line\\nComment'"
      ]
     },
     "execution_count": 1,
     "metadata": {},
     "output_type": "execute_result"
    }
   ],
   "source": [
    "import keyword\n",
    "print(keyword.kwlist)\n",
    "#keywords\n",
    "\"\"\" Hello This is a Multiple Line\n",
    "Comment\"\"\""
   ]
  },
  {
   "cell_type": "code",
   "execution_count": 8,
   "id": "cb289715-e07a-4caf-8a8f-59130586de24",
   "metadata": {},
   "outputs": [
    {
     "name": "stdout",
     "output_type": "stream",
     "text": [
      "10 140708990827224 10 140708990827224\n",
      "20 140708990827544\n"
     ]
    }
   ],
   "source": [
    "a = 10\n",
    "b = 10 + 20 + \\\n",
    "    30 + 40 + \\\n",
    "    50\n",
    "\n",
    "# c = d = e = 100\n",
    "# c,d,e = 1,2,3\n",
    "c = 10\n",
    "print(a,id(a),c ,id(c))\n",
    "a = 20\n",
    "print(a,id(a))\n",
    "# print(a,b,c,d,e)"
   ]
  },
  {
   "cell_type": "code",
   "execution_count": null,
   "id": "93b5ce6c-e837-4742-9a65-cafc346ed4ba",
   "metadata": {},
   "outputs": [],
   "source": []
  },
  {
   "cell_type": "markdown",
   "id": "fe69e5bc-573e-4575-984c-6086c6908d82",
   "metadata": {},
   "source": [
    "<h2>Data Types</h2>\r",
    "<table border=\"1\">\r\n",
    "<tbody>\r\n",
    "<tr><td>Text Type:</td><td>str</td></tr>\r\n",
    "<tr><td>Numeric Types:</td><td>int, float, complex</td></tr>\r\n",
    "<tr><td>Sequence Types:</td><td>list, tuple, range</td></tr>\r\n",
    "<tr><td>Mapping Type:</td><td>dict</td></tr>\r\n",
    "<tr><td>Set Types:</td><td>set, frozenset</td></tr>\r\n",
    "<tr><td>Boolean Type:</td><td>bool</td></tr>\r\n",
    "<tr><td>Binary Types:</td><td>bytes, bytearray, memoryview</td></tr>\r\n",
    "<tr><td>None Type:</td><td>NoneType</td></tr>\r\n",
    "</tbody\n",
    "\n",
    "\r\n",
    "</table>\r\n",
    "</table>NoneType\r\n"
   ]
  },
  {
   "cell_type": "code",
   "execution_count": 14,
   "id": "11c3ddb8-d462-470d-9a4d-afda0e7c6bf4",
   "metadata": {},
   "outputs": [
    {
     "name": "stdout",
     "output_type": "stream",
     "text": [
      "None <class 'NoneType'>\n"
     ]
    }
   ],
   "source": [
    "a = None\n",
    "print(a,type(a))"
   ]
  },
  {
   "cell_type": "code",
   "execution_count": 16,
   "id": "7d20638e-ddeb-4f77-9ccf-42197a13b440",
   "metadata": {},
   "outputs": [
    {
     "name": "stdin",
     "output_type": "stream",
     "text": [
      "Enter a Num 10\n"
     ]
    },
    {
     "name": "stdout",
     "output_type": "stream",
     "text": [
      "10 <class 'str'>\n",
      "10 <class 'int'>\n"
     ]
    }
   ],
   "source": [
    "a = input(\"Enter a Num\")\n",
    "print(a,type(a))\n",
    "a = int(a)\n",
    "print(a,type(a))"
   ]
  },
  {
   "cell_type": "code",
   "execution_count": null,
   "id": "063228db-da39-41b5-92e3-4078e0911477",
   "metadata": {},
   "outputs": [],
   "source": []
  },
  {
   "cell_type": "code",
   "execution_count": null,
   "id": "8434d86c-f362-4d6d-8f2a-550c3e8d1533",
   "metadata": {},
   "outputs": [],
   "source": []
  },
  {
   "cell_type": "markdown",
   "id": "8d81c215-6158-4b67-b337-463b4e32a809",
   "metadata": {},
   "source": [
    "<h2>Operators</h2>\n",
    "Types of Operators\n",
    "\n",
    "- Airthmetic: +, -, *, /, %, //, **\n",
    "- relational: ==, <=, <, >=, >, !=\n",
    "- logical: and, or, not\n",
    "- Bitwise: &, |, ~, ^, <<, >>\n",
    "- Assignment: =, +=, -= ...\n",
    "- Special: is, is not, in, not in"
   ]
  },
  {
   "cell_type": "code",
   "execution_count": 21,
   "id": "7e370209-16de-4691-a619-211f291a2a5a",
   "metadata": {},
   "outputs": [
    {
     "name": "stdout",
     "output_type": "stream",
     "text": [
      "False\n"
     ]
    }
   ],
   "source": [
    "a = [10]\n",
    "b = [10]\n",
    "c = a is b\n",
    "print(c)"
   ]
  },
  {
   "cell_type": "code",
   "execution_count": null,
   "id": "a23b49ac-41a0-46b2-a0b2-2caf0941b964",
   "metadata": {},
   "outputs": [],
   "source": []
  },
  {
   "cell_type": "code",
   "execution_count": null,
   "id": "4b0e21aa-54ce-4127-8fb3-2cce2737d286",
   "metadata": {},
   "outputs": [],
   "source": []
  },
  {
   "cell_type": "markdown",
   "id": "9797eaf9-0c93-4e92-afb5-ef8aa85652f8",
   "metadata": {},
   "source": [
    "## IfElse\n",
    "- if .. else\n",
    "- if .. elif .... else\n",
    "- Nested if\n",
    "\n",
    "Indentation"
   ]
  },
  {
   "cell_type": "code",
   "execution_count": 30,
   "id": "f0df8ca0-b2aa-4deb-8335-fef7f454963e",
   "metadata": {},
   "outputs": [
    {
     "name": "stdout",
     "output_type": "stream",
     "text": [
      "a is equal to b\n"
     ]
    }
   ],
   "source": [
    "a = 20\n",
    "b = 20\n",
    "if a > b:\n",
    "  print('a is greater than b')\n",
    "  print('Hello')\n",
    "elif a == b:\n",
    "    print('a is equal to b')\n",
    "else:\n",
    "    print('b is greater than a')"
   ]
  },
  {
   "cell_type": "code",
   "execution_count": 35,
   "id": "b400188c-b77e-4843-a7e0-9e27dc63ca59",
   "metadata": {},
   "outputs": [
    {
     "name": "stdout",
     "output_type": "stream",
     "text": [
      "11 is prime\n"
     ]
    }
   ],
   "source": [
    "a = 11\n",
    "i = 2\n",
    "while i < a:\n",
    "    if a%i == 0:\n",
    "        print(a,\"is not a prime\")\n",
    "        break\n",
    "    i+=1\n",
    "else:\n",
    "    print(a,\"is prime\")"
   ]
  },
  {
   "cell_type": "code",
   "execution_count": null,
   "id": "f3184536-3287-4b77-a03b-e7967a8e640c",
   "metadata": {},
   "outputs": [],
   "source": []
  },
  {
   "cell_type": "markdown",
   "id": "1b34a3da-c6d9-47db-8083-ffea75fc7f95",
   "metadata": {},
   "source": [
    "## while loop\n",
    "\n",
    "To iterate over a block of code as long as the test expression is true.\\\n",
    "**Syntax:**\\\n",
    "while testExp:\\\n",
    "Body\\\n",
    "else:\\\n",
    "After testExp is false"
   ]
  },
  {
   "cell_type": "code",
   "execution_count": 33,
   "id": "68b4e992-d7ad-4f4a-8900-61705d32517f",
   "metadata": {},
   "outputs": [
    {
     "name": "stdout",
     "output_type": "stream",
     "text": [
      "1\n",
      "2\n",
      "3\n",
      "4\n"
     ]
    }
   ],
   "source": [
    "i = 1\n",
    "while i < 10:\n",
    "    print(i)\n",
    "    i += 1\n",
    "    if i == 5:\n",
    "        break\n",
    "else:\n",
    "    print(i)"
   ]
  },
  {
   "cell_type": "code",
   "execution_count": null,
   "id": "f6a500c6-1159-4563-bbad-781b2ef7c348",
   "metadata": {},
   "outputs": [],
   "source": []
  },
  {
   "cell_type": "markdown",
   "id": "b21c6aad-ede8-43e2-8a98-2c9a3ab12bb6",
   "metadata": {},
   "source": [
    "## for loop\n",
    "\n",
    "for ele in sequence:\\\n",
    "....Body of for\n"
   ]
  },
  {
   "cell_type": "code",
   "execution_count": 36,
   "id": "b3419617-f276-4e7d-ab37-197f99fe1364",
   "metadata": {},
   "outputs": [
    {
     "name": "stdout",
     "output_type": "stream",
     "text": [
      "1\n",
      "2\n",
      "3\n",
      "4\n",
      "5\n"
     ]
    }
   ],
   "source": [
    "l = [1,2,3,4,5]\n",
    "for ele in l:\n",
    "    print(ele)"
   ]
  },
  {
   "cell_type": "code",
   "execution_count": 38,
   "id": "c6d64d8d-e1b1-4b94-b921-98c9ee390b7f",
   "metadata": {},
   "outputs": [
    {
     "name": "stdout",
     "output_type": "stream",
     "text": [
      "1\n",
      "2\n",
      "3\n",
      "4\n",
      "5\n"
     ]
    }
   ],
   "source": [
    "for i in range(len(l)):\n",
    "    print(l[i])"
   ]
  },
  {
   "cell_type": "code",
   "execution_count": 42,
   "id": "4340a6df-60a8-4d85-a2ec-b7c44134dba7",
   "metadata": {},
   "outputs": [
    {
     "name": "stdout",
     "output_type": "stream",
     "text": [
      "5\n",
      "4\n",
      "3\n",
      "2\n",
      "1\n"
     ]
    }
   ],
   "source": [
    "for i in range(len(l)-1,-1,-1):\n",
    "    print(l[i])"
   ]
  },
  {
   "cell_type": "code",
   "execution_count": 43,
   "id": "969ce240-0ec8-417e-8371-5e650cd7b501",
   "metadata": {},
   "outputs": [],
   "source": [
    "for i in range(-10):\n",
    "    print(i)\n"
   ]
  },
  {
   "cell_type": "markdown",
   "id": "19ec927e-3a21-4771-a66e-83615285b998",
   "metadata": {},
   "source": [
    "## Ternary Operator"
   ]
  },
  {
   "cell_type": "code",
   "execution_count": 44,
   "id": "3df4989d-88b5-4d32-a44c-2209fd5e4b53",
   "metadata": {},
   "outputs": [
    {
     "name": "stdout",
     "output_type": "stream",
     "text": [
      "100\n"
     ]
    }
   ],
   "source": [
    "a = 100\n",
    "b = 20\n",
    "c = a if a > b else b\n",
    "print(c)"
   ]
  },
  {
   "cell_type": "code",
   "execution_count": null,
   "id": "990ce638-21d8-43c8-a2eb-79a4267856f3",
   "metadata": {},
   "outputs": [],
   "source": []
  },
  {
   "cell_type": "code",
   "execution_count": null,
   "id": "cc870278-26f6-4a40-88d5-271d1c96100d",
   "metadata": {},
   "outputs": [],
   "source": []
  },
  {
   "cell_type": "markdown",
   "id": "f717f641-1a96-4754-a32e-e88995f65cfa",
   "metadata": {},
   "source": [
    "## List\n",
    "\n",
    "List Functions/Method\n",
    "\n",
    "Method Description\n",
    "append() Adds an element at the end of the list \n",
    "clear()\tRemoves all the elements from the list\n",
    "copy()\tReturns a copy of the list\n",
    "count()\tReturns the number of elements with the specified value\n",
    "extend()\tAdd the elements of a list (or any iterable), to the end of the current list\n",
    "index()\tReturns the index of the first element with the specified value\n",
    "insert()\tAdds an element at the specified position\n",
    "pop()\tRemoves the element at the specified position\n",
    "remove()\tRemoves the item with the specified value\n",
    "reverse()\tReverses the order of the list\n",
    "sort()\tSorts the list\n",
    "\n",
    "List Comprehension\n",
    "List Spliting"
   ]
  },
  {
   "cell_type": "code",
   "execution_count": 45,
   "id": "35edede6-388d-4f94-9604-2d0b76cc0225",
   "metadata": {},
   "outputs": [
    {
     "name": "stdout",
     "output_type": "stream",
     "text": [
      "1365235472576\n",
      "1365235405824\n",
      "1365235472576\n",
      "100\n"
     ]
    }
   ],
   "source": [
    "l1 = [10,20]\n",
    "l2 = [10,20]\n",
    "l3 = l1\n",
    "print(id(l1))\n",
    "print(id(l2))\n",
    "print(id(l3))\n",
    "l3[0] = 100\n",
    "print(l1[0])"
   ]
  },
  {
   "cell_type": "code",
   "execution_count": 46,
   "id": "fcee5865-9426-413b-8d02-417034436fc3",
   "metadata": {},
   "outputs": [
    {
     "name": "stdout",
     "output_type": "stream",
     "text": [
      "1\n",
      "2\n",
      "3\n",
      "4\n",
      "5\n"
     ]
    }
   ],
   "source": [
    "l1 = [1,2,3,4,5]\n",
    "# index: 0-4 , -1 - -5\n",
    "for i in range(-len(l),0):\n",
    "    print(l1[i])"
   ]
  },
  {
   "cell_type": "code",
   "execution_count": 48,
   "id": "46a7d449-fcb5-4316-bd2b-750582ec037b",
   "metadata": {},
   "outputs": [
    {
     "name": "stdout",
     "output_type": "stream",
     "text": [
      "[1, 100, 2, 3, 4, 5, 10, 10]\n"
     ]
    }
   ],
   "source": [
    "l1.append(10)\n",
    "l1.insert(1,100)\n",
    "print(l1)"
   ]
  },
  {
   "cell_type": "code",
   "execution_count": 51,
   "id": "bb3310c6-243d-411e-88b3-aa76fdfdf83e",
   "metadata": {},
   "outputs": [
    {
     "name": "stdout",
     "output_type": "stream",
     "text": [
      "100\n"
     ]
    }
   ],
   "source": [
    "print(l1.pop(1))"
   ]
  },
  {
   "cell_type": "code",
   "execution_count": 52,
   "id": "003f5331-29d0-48d0-a828-94b427a39312",
   "metadata": {},
   "outputs": [
    {
     "name": "stdout",
     "output_type": "stream",
     "text": [
      "[1, 2, 3, 4, 5, 10]\n"
     ]
    }
   ],
   "source": [
    "print(l1)"
   ]
  },
  {
   "cell_type": "code",
   "execution_count": 54,
   "id": "2c4dd88b-de37-47d4-9169-d51a2cb09a45",
   "metadata": {},
   "outputs": [
    {
     "name": "stdout",
     "output_type": "stream",
     "text": [
      "[1, 2, 3, 4, 5, 10, 1, 1, 2]\n"
     ]
    }
   ],
   "source": [
    "l2 = l1+[1,1,2]\n",
    "print(l2)"
   ]
  },
  {
   "cell_type": "code",
   "execution_count": 55,
   "id": "96783e26-9146-4905-809e-a09ce3072bb4",
   "metadata": {},
   "outputs": [
    {
     "ename": "ValueError",
     "evalue": "50 is not in list",
     "output_type": "error",
     "traceback": [
      "\u001b[1;31m---------------------------------------------------------------------------\u001b[0m",
      "\u001b[1;31mValueError\u001b[0m                                Traceback (most recent call last)",
      "Cell \u001b[1;32mIn[55], line 1\u001b[0m\n\u001b[1;32m----> 1\u001b[0m \u001b[38;5;28mprint\u001b[39m(\u001b[43ml1\u001b[49m\u001b[38;5;241;43m.\u001b[39;49m\u001b[43mindex\u001b[49m\u001b[43m(\u001b[49m\u001b[38;5;241;43m50\u001b[39;49m\u001b[43m)\u001b[49m)\n",
      "\u001b[1;31mValueError\u001b[0m: 50 is not in list"
     ]
    }
   ],
   "source": [
    "print(l1.index(50))"
   ]
  },
  {
   "cell_type": "code",
   "execution_count": 56,
   "id": "58207b20-70aa-4e9a-8ead-79bfca2c61c3",
   "metadata": {},
   "outputs": [
    {
     "name": "stdout",
     "output_type": "stream",
     "text": [
      "[1, 1, 1, 2, 2, 3, 4, 5, 10]\n"
     ]
    }
   ],
   "source": [
    "l2.sort()\n",
    "print(l2)"
   ]
  },
  {
   "cell_type": "code",
   "execution_count": null,
   "id": "77372ad3-27c2-44c1-a158-461a5cdddc89",
   "metadata": {},
   "outputs": [],
   "source": []
  },
  {
   "cell_type": "code",
   "execution_count": 72,
   "id": "e513bd3a-9279-4dd1-9259-e1c06aae32af",
   "metadata": {},
   "outputs": [
    {
     "name": "stdout",
     "output_type": "stream",
     "text": [
      "[1, 2, 2, 3, 4, 5, 10]\n"
     ]
    }
   ],
   "source": [
    "del l2[1]\n",
    "print(l2)"
   ]
  },
  {
   "cell_type": "code",
   "execution_count": null,
   "id": "eaa4505c-0bf1-40ed-820d-ab91c17ebaf9",
   "metadata": {},
   "outputs": [],
   "source": []
  },
  {
   "cell_type": "code",
   "execution_count": 58,
   "id": "3cad18e6-abe8-4e0e-89a7-3fc9b1c6d7ec",
   "metadata": {},
   "outputs": [
    {
     "name": "stdout",
     "output_type": "stream",
     "text": [
      "[1, 1, 1, 1, 1, 1, 1, 1, 1, 1]\n"
     ]
    }
   ],
   "source": [
    "l1 = [1 for i in range(1,11)]\n",
    "print(l1)"
   ]
  },
  {
   "cell_type": "code",
   "execution_count": 60,
   "id": "a839d0fa-9616-4625-ae3e-72c441c870d8",
   "metadata": {},
   "outputs": [
    {
     "name": "stdout",
     "output_type": "stream",
     "text": [
      "[2, 2, 2, 2, 2, 2, 2, 2, 2, 2]\n"
     ]
    }
   ],
   "source": [
    "n = 10\n",
    "l1 = [2]*n\n",
    "print(l1)"
   ]
  },
  {
   "cell_type": "code",
   "execution_count": null,
   "id": "e027d769-482e-48df-a830-825a1f531caa",
   "metadata": {},
   "outputs": [],
   "source": []
  },
  {
   "cell_type": "code",
   "execution_count": 70,
   "id": "7164ffc6-7380-4b79-bc8c-8fcfc48013f7",
   "metadata": {},
   "outputs": [
    {
     "name": "stdout",
     "output_type": "stream",
     "text": [
      "[19, 18, 17, 16, 15, 14, 13, 12, 11, 10, 9, 8, 7, 6, 5, 4, 3, 2, 1, 0]\n"
     ]
    }
   ],
   "source": [
    "l = [i for i in range(20)]\n",
    "print(l[::-1])"
   ]
  },
  {
   "cell_type": "code",
   "execution_count": null,
   "id": "4476cba1-8228-480f-83b6-65f2a2d7671b",
   "metadata": {},
   "outputs": [],
   "source": []
  },
  {
   "cell_type": "code",
   "execution_count": null,
   "id": "dc5f7c42-2652-42a6-a900-748b1abfa0f5",
   "metadata": {},
   "outputs": [],
   "source": []
  },
  {
   "cell_type": "code",
   "execution_count": null,
   "id": "5a470086-b045-40ca-8961-cbbf4d11fc8b",
   "metadata": {},
   "outputs": [],
   "source": []
  },
  {
   "cell_type": "code",
   "execution_count": 73,
   "id": "f755856e-1125-4375-800f-8cf14e984811",
   "metadata": {},
   "outputs": [
    {
     "name": "stdout",
     "output_type": "stream",
     "text": [
      "(1, 2, 3, 10)\n"
     ]
    }
   ],
   "source": [
    "t1 = (1,2,3)\n",
    "l1 = list(t1)\n",
    "l1.append(10)\n",
    "t1 = tuple(l1)\n",
    "print(t1)"
   ]
  },
  {
   "cell_type": "code",
   "execution_count": 75,
   "id": "194da456-1124-402d-aa12-1a6450237ca2",
   "metadata": {},
   "outputs": [
    {
     "name": "stdout",
     "output_type": "stream",
     "text": [
      "(1,)\n"
     ]
    }
   ],
   "source": [
    "t1 = (1,)\n",
    "print(t1)"
   ]
  },
  {
   "cell_type": "code",
   "execution_count": 76,
   "id": "7e8b21e2-57bb-4b24-9fe6-391006c59742",
   "metadata": {},
   "outputs": [
    {
     "name": "stdout",
     "output_type": "stream",
     "text": [
      "(1, 2, 3)\n"
     ]
    }
   ],
   "source": [
    "t1 = 1,2,3\n",
    "print(t1)"
   ]
  },
  {
   "cell_type": "code",
   "execution_count": 77,
   "id": "cea484b9-9a37-4874-86c6-46d11778b694",
   "metadata": {},
   "outputs": [
    {
     "name": "stdout",
     "output_type": "stream",
     "text": [
      "1 2 3\n"
     ]
    }
   ],
   "source": [
    "a,b,c = t1\n",
    "print(a,b,c)"
   ]
  },
  {
   "cell_type": "code",
   "execution_count": 79,
   "id": "5added89-cfe7-46fb-b78d-5d10b59bf780",
   "metadata": {},
   "outputs": [
    {
     "ename": "ValueError",
     "evalue": "not enough values to unpack (expected 4, got 3)",
     "output_type": "error",
     "traceback": [
      "\u001b[1;31m---------------------------------------------------------------------------\u001b[0m",
      "\u001b[1;31mValueError\u001b[0m                                Traceback (most recent call last)",
      "Cell \u001b[1;32mIn[79], line 1\u001b[0m\n\u001b[1;32m----> 1\u001b[0m a,b,c,d \u001b[38;5;241m=\u001b[39m t1\n\u001b[0;32m      2\u001b[0m \u001b[38;5;28mprint\u001b[39m(a,b)\n",
      "\u001b[1;31mValueError\u001b[0m: not enough values to unpack (expected 4, got 3)"
     ]
    }
   ],
   "source": [
    "a,b,c,d = t1\n",
    "print(a,b)"
   ]
  },
  {
   "cell_type": "code",
   "execution_count": 82,
   "id": "05879ceb-a8b6-4818-88d9-5fa60d14110c",
   "metadata": {},
   "outputs": [
    {
     "name": "stdout",
     "output_type": "stream",
     "text": [
      "(3, 4, 5)\n"
     ]
    }
   ],
   "source": [
    "t1 = (1,2,3,4,5,6)\n",
    "l = t1[2:5]\n",
    "print(l)"
   ]
  },
  {
   "cell_type": "code",
   "execution_count": 94,
   "id": "907ef1ac-4c54-4360-b3c6-9025dc80eab5",
   "metadata": {},
   "outputs": [
    {
     "name": "stdout",
     "output_type": "stream",
     "text": [
      "(1, 2, 3) (1, 2, 3)\n",
      "529344067295497451 529344067295497451\n",
      "True\n"
     ]
    }
   ],
   "source": [
    "t1 = (1,2,3)\n",
    "t2 = (1,2,3)\n",
    "print(t1,t2)\n",
    "print(hash(t1),hash(t2))\n",
    "print(hash(t1) == hash(t2))"
   ]
  },
  {
   "cell_type": "code",
   "execution_count": null,
   "id": "a7574459-250a-4cc3-94cb-03eaa4d3f932",
   "metadata": {},
   "outputs": [],
   "source": []
  },
  {
   "cell_type": "code",
   "execution_count": null,
   "id": "c293e04e-c911-407b-81d1-2c4086b07ed8",
   "metadata": {},
   "outputs": [],
   "source": []
  },
  {
   "cell_type": "markdown",
   "id": "f9b23932-49bd-47cc-a0fc-096ca19d395e",
   "metadata": {},
   "source": [
    "## Set"
   ]
  },
  {
   "cell_type": "code",
   "execution_count": null,
   "id": "92a79279-f9b1-4e37-b05c-ddf68f261627",
   "metadata": {},
   "outputs": [],
   "source": []
  },
  {
   "cell_type": "code",
   "execution_count": 96,
   "id": "d13b9034-4004-4e27-83c5-5bc639a43040",
   "metadata": {},
   "outputs": [
    {
     "name": "stdout",
     "output_type": "stream",
     "text": [
      "{1, 2, 3} <class 'set'>\n"
     ]
    }
   ],
   "source": [
    "s = {1,2,3,1}\n",
    "print(s,type(s))"
   ]
  },
  {
   "cell_type": "code",
   "execution_count": 107,
   "id": "871a5e37-19cf-4987-8b77-56f57a9e3fd0",
   "metadata": {},
   "outputs": [
    {
     "name": "stdout",
     "output_type": "stream",
     "text": [
      "{1, 2, 3, 'Abs', 10, 11, 20, 'Hell', 'Hello', 'India'}\n"
     ]
    }
   ],
   "source": [
    "s.add('Abs')\n",
    "print(s)"
   ]
  },
  {
   "cell_type": "code",
   "execution_count": null,
   "id": "30d59eab-5899-4f79-9112-284d80515467",
   "metadata": {},
   "outputs": [],
   "source": []
  },
  {
   "cell_type": "code",
   "execution_count": 111,
   "id": "6e31b57c-4606-4b0f-a607-4ad9d1388a61",
   "metadata": {},
   "outputs": [
    {
     "name": "stdout",
     "output_type": "stream",
     "text": [
      "Abs\n",
      "{10, 11, 20, 'Hell', 'Hello', 'India'}\n"
     ]
    }
   ],
   "source": [
    "print(s.pop())\n",
    "print(s)"
   ]
  },
  {
   "cell_type": "code",
   "execution_count": 112,
   "id": "af443547-dcae-4302-aa1c-cc08eac8bda0",
   "metadata": {},
   "outputs": [
    {
     "data": {
      "text/plain": [
       "{10, 11, 20, 3, 4, 5, 6, 'Hell', 'Hello', 'India'}"
      ]
     },
     "execution_count": 112,
     "metadata": {},
     "output_type": "execute_result"
    }
   ],
   "source": [
    "s.update({3,4,5,6})\n",
    "s"
   ]
  },
  {
   "cell_type": "code",
   "execution_count": 115,
   "id": "04dcdc1e-dba3-4d04-a43e-a7017c10e718",
   "metadata": {},
   "outputs": [
    {
     "name": "stdout",
     "output_type": "stream",
     "text": [
      "True\n"
     ]
    }
   ],
   "source": [
    "s1 = {1,2,3}\n",
    "s2 = {1,2}\n",
    "print(s2.issubset(s1))"
   ]
  },
  {
   "cell_type": "code",
   "execution_count": null,
   "id": "572c4ece-239a-4482-9062-69aa200eccdf",
   "metadata": {},
   "outputs": [],
   "source": []
  },
  {
   "cell_type": "code",
   "execution_count": 130,
   "id": "72300c86-dca0-4baa-be54-2449dde2c6d3",
   "metadata": {},
   "outputs": [
    {
     "name": "stdout",
     "output_type": "stream",
     "text": [
      "False\n"
     ]
    }
   ],
   "source": [
    "s = {1,2,3,4}\n",
    "print(10 in s)"
   ]
  },
  {
   "cell_type": "code",
   "execution_count": null,
   "id": "df3ef8de-0733-4192-a443-6b9d888364a9",
   "metadata": {},
   "outputs": [],
   "source": []
  },
  {
   "cell_type": "code",
   "execution_count": 128,
   "id": "73a26795-3425-4e35-a9c6-43da97fce98c",
   "metadata": {},
   "outputs": [
    {
     "name": "stdout",
     "output_type": "stream",
     "text": [
      "set() <class 'set'>\n"
     ]
    }
   ],
   "source": [
    "s = set()\n",
    "print(s,type(s))"
   ]
  },
  {
   "cell_type": "markdown",
   "id": "c566b1be-f069-4550-aa69-656eda590a2f",
   "metadata": {},
   "source": [
    "## Dictonary"
   ]
  },
  {
   "cell_type": "code",
   "execution_count": null,
   "id": "9aa617e9-991c-4613-bd60-ac7cc365502f",
   "metadata": {},
   "outputs": [],
   "source": []
  },
  {
   "cell_type": "code",
   "execution_count": 119,
   "id": "06802460-ff6c-42c5-af1e-6994b1413aeb",
   "metadata": {},
   "outputs": [
    {
     "name": "stdout",
     "output_type": "stream",
     "text": [
      "{'roll': 128, 'name': 'muskan', 'age': 20, 'course': ['oops', 'aiml', 'fee']}\n"
     ]
    }
   ],
   "source": [
    "d = {\n",
    "    \"roll\" : 127,\n",
    "    \"name\" : \"muskan\",\n",
    "    \"age\" : 20,\n",
    "    \"course\" : [\"oops\",\"aiml\",\"fee\"],\n",
    "    \"roll\" : 128\n",
    "}\n",
    "print(d)"
   ]
  },
  {
   "cell_type": "code",
   "execution_count": 122,
   "id": "38cf1736-6fcf-4678-b4bb-3d6c1d7bd268",
   "metadata": {},
   "outputs": [
    {
     "ename": "KeyError",
     "evalue": "'rolll'",
     "output_type": "error",
     "traceback": [
      "\u001b[1;31m---------------------------------------------------------------------------\u001b[0m",
      "\u001b[1;31mKeyError\u001b[0m                                  Traceback (most recent call last)",
      "Cell \u001b[1;32mIn[122], line 1\u001b[0m\n\u001b[1;32m----> 1\u001b[0m \u001b[43md\u001b[49m\u001b[43m[\u001b[49m\u001b[38;5;124;43m\"\u001b[39;49m\u001b[38;5;124;43mrolll\u001b[39;49m\u001b[38;5;124;43m\"\u001b[39;49m\u001b[43m]\u001b[49m\n",
      "\u001b[1;31mKeyError\u001b[0m: 'rolll'"
     ]
    }
   ],
   "source": [
    "d[\"rolll\"]"
   ]
  },
  {
   "cell_type": "code",
   "execution_count": 123,
   "id": "e99b4847-23fa-489f-8fb1-8355eb320088",
   "metadata": {},
   "outputs": [],
   "source": [
    "d.get(\"rolll\")"
   ]
  },
  {
   "cell_type": "code",
   "execution_count": 125,
   "id": "77a8039b-822c-4722-894d-99c6b2617864",
   "metadata": {},
   "outputs": [
    {
     "name": "stdout",
     "output_type": "stream",
     "text": [
      "{'roll': 129, 'name': 'muskan', 'age': 20, 'course': ['oops', 'aiml', 'fee'], 'class': 'G11'}\n"
     ]
    }
   ],
   "source": [
    "d[\"class\"] = \"G11\"\n",
    "print(d)"
   ]
  },
  {
   "cell_type": "code",
   "execution_count": 126,
   "id": "69c460f1-7201-4659-a9ec-b0d53faccc5b",
   "metadata": {},
   "outputs": [
    {
     "data": {
      "text/plain": [
       "{'roll': 129,\n",
       " 'name': 'muskan',\n",
       " 'age': 20,\n",
       " 'course': ['oops', 'aiml', 'fee'],\n",
       " 'class': 'G11',\n",
       " 'city': 'chandigarh',\n",
       " 'country': 'India'}"
      ]
     },
     "execution_count": 126,
     "metadata": {},
     "output_type": "execute_result"
    }
   ],
   "source": [
    "d.update({\"city\" : \"chandigarh\",\"country\" : \"India\"})\n",
    "d"
   ]
  },
  {
   "cell_type": "code",
   "execution_count": 132,
   "id": "14efaf6b-aa24-48f3-8a29-2f41cc2fd33a",
   "metadata": {},
   "outputs": [
    {
     "data": {
      "text/plain": [
       "True"
      ]
     },
     "execution_count": 132,
     "metadata": {},
     "output_type": "execute_result"
    }
   ],
   "source": [
    "\"roll\" in d"
   ]
  },
  {
   "cell_type": "code",
   "execution_count": 133,
   "id": "57045388-cf0f-4949-b41e-cb8aac38c7f9",
   "metadata": {},
   "outputs": [
    {
     "data": {
      "text/plain": [
       "dict_values([129, 'muskan', 20, ['oops', 'aiml', 'fee'], 'G11', 'chandigarh', 'India'])"
      ]
     },
     "execution_count": 133,
     "metadata": {},
     "output_type": "execute_result"
    }
   ],
   "source": [
    "d.values()"
   ]
  },
  {
   "cell_type": "code",
   "execution_count": 135,
   "id": "9705524d-c1eb-4711-8d76-cc4952c6b3af",
   "metadata": {},
   "outputs": [
    {
     "name": "stdout",
     "output_type": "stream",
     "text": [
      "roll 129\n",
      "name muskan\n",
      "age 20\n",
      "course ['oops', 'aiml', 'fee']\n",
      "class G11\n",
      "city chandigarh\n",
      "country India\n"
     ]
    }
   ],
   "source": [
    "for k in d:\n",
    "    print(k,d[k])"
   ]
  },
  {
   "cell_type": "code",
   "execution_count": 136,
   "id": "d670e89c-94dc-4175-b8b1-783baa9d15c8",
   "metadata": {},
   "outputs": [
    {
     "data": {
      "text/plain": [
       "dict_items([('roll', 129), ('name', 'muskan'), ('age', 20), ('course', ['oops', 'aiml', 'fee']), ('class', 'G11'), ('city', 'chandigarh'), ('country', 'India')])"
      ]
     },
     "execution_count": 136,
     "metadata": {},
     "output_type": "execute_result"
    }
   ],
   "source": [
    "d.items()"
   ]
  },
  {
   "cell_type": "code",
   "execution_count": 138,
   "id": "a50d92d9-cc71-419a-9b27-008aa99a5bb1",
   "metadata": {},
   "outputs": [
    {
     "name": "stdout",
     "output_type": "stream",
     "text": [
      "('roll', 129)\n",
      "('name', 'muskan')\n",
      "('age', 20)\n",
      "('course', ['oops', 'aiml', 'fee'])\n",
      "('class', 'G11')\n",
      "('city', 'chandigarh')\n",
      "('country', 'India')\n"
     ]
    }
   ],
   "source": [
    "for t in d.items():\n",
    "    print(t)"
   ]
  },
  {
   "cell_type": "code",
   "execution_count": 139,
   "id": "cdb7bbf7-0675-48fd-b738-b9df09d598b3",
   "metadata": {},
   "outputs": [
    {
     "data": {
      "text/plain": [
       "'India'"
      ]
     },
     "execution_count": 139,
     "metadata": {},
     "output_type": "execute_result"
    }
   ],
   "source": [
    "d.pop('country')"
   ]
  },
  {
   "cell_type": "code",
   "execution_count": 140,
   "id": "9a565826-2f68-4073-995f-43afc57dbb1d",
   "metadata": {},
   "outputs": [
    {
     "data": {
      "text/plain": [
       "{'roll': 129,\n",
       " 'name': 'muskan',\n",
       " 'age': 20,\n",
       " 'course': ['oops', 'aiml', 'fee'],\n",
       " 'class': 'G11',\n",
       " 'city': 'chandigarh'}"
      ]
     },
     "execution_count": 140,
     "metadata": {},
     "output_type": "execute_result"
    }
   ],
   "source": [
    "d"
   ]
  },
  {
   "cell_type": "code",
   "execution_count": 141,
   "id": "b65d64bf-eb4c-4ef5-a758-8365761abc36",
   "metadata": {},
   "outputs": [
    {
     "data": {
      "text/plain": [
       "('city', 'chandigarh')"
      ]
     },
     "execution_count": 141,
     "metadata": {},
     "output_type": "execute_result"
    }
   ],
   "source": [
    "d.popitem()"
   ]
  },
  {
   "cell_type": "code",
   "execution_count": 145,
   "id": "fa6d1121-c7fb-4d41-aa0b-4da1b57f5b40",
   "metadata": {},
   "outputs": [
    {
     "name": "stdout",
     "output_type": "stream",
     "text": [
      "ehllo\n"
     ]
    }
   ],
   "source": [
    "st = \"hello\"\n",
    "print(''.join(sorted(st)))"
   ]
  },
  {
   "cell_type": "code",
   "execution_count": null,
   "id": "ce488d60-c127-4b65-8506-b32d90020739",
   "metadata": {},
   "outputs": [],
   "source": []
  },
  {
   "cell_type": "code",
   "execution_count": null,
   "id": "5795f4e0-ed72-430e-8aae-ce3d503ca622",
   "metadata": {},
   "outputs": [],
   "source": []
  },
  {
   "cell_type": "markdown",
   "id": "0f6ae5e1-e9f1-4125-a5a0-52d3de4a3dcb",
   "metadata": {},
   "source": [
    "## functions\n",
    "- defination\n",
    "- parameters (Pass by Value)\n",
    "- return / Multiple Return\n",
    "- default arguments\n",
    "- keyword arguments\n",
    "- Arbitrary arguments (*args and **kwargs)\n",
    "- DocString (__doc__)\n",
    "- Function within function\n",
    "- function as arguments\n",
    "- Anonymous Function\n",
    "- Recursion"
   ]
  },
  {
   "cell_type": "code",
   "execution_count": 176,
   "id": "c657de02-d9c5-4c82-80c5-8d67854c9343",
   "metadata": {},
   "outputs": [],
   "source": [
    "def add(p,q,/,*,x,y = 100):\n",
    "    a = x+y\n",
    "    b = x-y\n",
    "    return a,b,p*q"
   ]
  },
  {
   "cell_type": "code",
   "execution_count": 177,
   "id": "4e7e9bd3-b6c1-4a36-8637-3fed89773724",
   "metadata": {},
   "outputs": [
    {
     "name": "stdout",
     "output_type": "stream",
     "text": [
      "30 10 20000\n",
      "(200, 0, 200)\n"
     ]
    }
   ],
   "source": [
    "a,b,c = add(100,200,y = 10,x = 20)\n",
    "print(a,b,c)\n",
    "print(add(10,20,x = 100))"
   ]
  },
  {
   "cell_type": "code",
   "execution_count": 148,
   "id": "19a3d4b9-1d4e-4f90-90a9-d324f2e25b10",
   "metadata": {},
   "outputs": [
    {
     "name": "stdout",
     "output_type": "stream",
     "text": [
      "<function add at 0x0000013DDF51B1A0> <class 'function'>\n"
     ]
    }
   ],
   "source": [
    "print(add,type(add))"
   ]
  },
  {
   "cell_type": "code",
   "execution_count": null,
   "id": "6f815719-c2ce-41b7-bce7-3d20409cba4f",
   "metadata": {},
   "outputs": [],
   "source": []
  },
  {
   "cell_type": "code",
   "execution_count": 192,
   "id": "71eb3627-62f7-4933-8561-06e8e130f73a",
   "metadata": {},
   "outputs": [],
   "source": [
    "def pt(**kwargs):\n",
    "    print(kwargs)"
   ]
  },
  {
   "cell_type": "code",
   "execution_count": 193,
   "id": "af8536de-5866-432a-91fc-6bbb09d86a99",
   "metadata": {},
   "outputs": [
    {
     "name": "stdout",
     "output_type": "stream",
     "text": [
      "{'x': 1, 'y': 2, 'z': 3, 'w': 4}\n",
      "{'st': 'Hello', 'a': 10, 'b': (2+3j)}\n"
     ]
    }
   ],
   "source": [
    "pt(x = 1,y = 2,z = 3,w = 4)\n",
    "pt(st = \"Hello\",a = 10,b = 2+3j)"
   ]
  },
  {
   "cell_type": "code",
   "execution_count": 185,
   "id": "01b9a6a1-5467-48e3-8823-c38e9fdf87d1",
   "metadata": {},
   "outputs": [
    {
     "name": "stdout",
     "output_type": "stream",
     "text": [
      "{}\n"
     ]
    }
   ],
   "source": [
    "pt()"
   ]
  },
  {
   "cell_type": "code",
   "execution_count": 194,
   "id": "c5e14895-36a5-4a8e-af17-9f8ef66a3911",
   "metadata": {},
   "outputs": [
    {
     "name": "stdout",
     "output_type": "stream",
     "text": [
      "Hi\n"
     ]
    }
   ],
   "source": [
    "def fn():\n",
    "    \"This is a Demo Function\"\n",
    "    print(\"Hi\")\n",
    "fn()"
   ]
  },
  {
   "cell_type": "code",
   "execution_count": 195,
   "id": "2def30b3-9ab3-472a-9a42-303a77577d45",
   "metadata": {},
   "outputs": [
    {
     "name": "stdout",
     "output_type": "stream",
     "text": [
      "This is a Demo Function\n"
     ]
    }
   ],
   "source": [
    "print(fn.__doc__)"
   ]
  },
  {
   "cell_type": "code",
   "execution_count": 198,
   "id": "227ca981-f773-4560-b350-e1b364a12628",
   "metadata": {},
   "outputs": [
    {
     "name": "stdout",
     "output_type": "stream",
     "text": [
      "max(iterable, *[, default=obj, key=func]) -> value\n",
      "max(arg1, arg2, *args, *[, key=func]) -> value\n",
      "\n",
      "With a single iterable argument, return its biggest item. The\n",
      "default keyword-only argument specifies an object to return if\n",
      "the provided iterable is empty.\n",
      "With two or more arguments, return the largest argument.\n"
     ]
    }
   ],
   "source": [
    "print(max.__doc__)"
   ]
  },
  {
   "cell_type": "code",
   "execution_count": null,
   "id": "73b14d6c-34fc-45c1-80d4-553654810a85",
   "metadata": {},
   "outputs": [],
   "source": []
  },
  {
   "cell_type": "code",
   "execution_count": null,
   "id": "3cee6bf3-cb9e-4025-b69c-fcbe9f9c7ced",
   "metadata": {},
   "outputs": [],
   "source": []
  },
  {
   "cell_type": "code",
   "execution_count": 202,
   "id": "8606dd99-6948-487e-8d5b-086481c83b3c",
   "metadata": {},
   "outputs": [
    {
     "name": "stdout",
     "output_type": "stream",
     "text": [
      "Hi\n",
      "In f2\n",
      "Bye\n",
      "In f2\n"
     ]
    }
   ],
   "source": [
    "def f1():\n",
    "    print(\"Hi\")\n",
    "    def f2():\n",
    "        print(\"In f2\")\n",
    "    f2()\n",
    "    print(\"Bye\")\n",
    "    return f2\n",
    "fn2 = f1()\n",
    "fn2()"
   ]
  },
  {
   "cell_type": "code",
   "execution_count": 203,
   "id": "ad0c5399-7515-4e0b-b489-e0396ee4162d",
   "metadata": {},
   "outputs": [],
   "source": [
    "def add(x,y):\n",
    "    return x+y\n",
    "def sub(x,y):\n",
    "    return x-y"
   ]
  },
  {
   "cell_type": "code",
   "execution_count": 204,
   "id": "05205509-5523-430e-a177-44ab1947fcef",
   "metadata": {},
   "outputs": [],
   "source": [
    "def cal(fn,x,y):\n",
    "    ans = fn(x,y)\n",
    "    print(ans)"
   ]
  },
  {
   "cell_type": "code",
   "execution_count": 205,
   "id": "80d62986-135d-4fe9-8c9b-232fa4bab2c5",
   "metadata": {},
   "outputs": [
    {
     "name": "stdout",
     "output_type": "stream",
     "text": [
      "300\n",
      "10\n"
     ]
    }
   ],
   "source": [
    "cal(add,100,200)\n",
    "cal(sub,50,40)"
   ]
  },
  {
   "cell_type": "code",
   "execution_count": 210,
   "id": "c65911fd-924d-437a-96ff-acad695bfc4c",
   "metadata": {},
   "outputs": [
    {
     "data": {
      "text/plain": [
       "100"
      ]
     },
     "execution_count": 210,
     "metadata": {},
     "output_type": "execute_result"
    }
   ],
   "source": [
    "sq = lambda x : x*x\n",
    "sq(10)"
   ]
  },
  {
   "cell_type": "code",
   "execution_count": 207,
   "id": "8f663a82-05b4-436e-b59f-9104a4677846",
   "metadata": {},
   "outputs": [
    {
     "name": "stdout",
     "output_type": "stream",
     "text": [
      "200\n"
     ]
    }
   ],
   "source": [
    "cal(lambda x,y: x*y,10,20)"
   ]
  },
  {
   "cell_type": "code",
   "execution_count": 213,
   "id": "b70196b3-c7e9-4a43-89f3-9f2a11e773a7",
   "metadata": {},
   "outputs": [
    {
     "name": "stdout",
     "output_type": "stream",
     "text": [
      "0 1\n",
      "1 2\n",
      "2 3\n",
      "3 4\n"
     ]
    }
   ],
   "source": [
    "l  = [1,2,3,4]\n",
    "for i,v in enumerate(l):\n",
    "    print(i,v)"
   ]
  },
  {
   "cell_type": "code",
   "execution_count": 216,
   "id": "9d2b7daa-be44-4969-b34b-485c50d39d09",
   "metadata": {},
   "outputs": [
    {
     "name": "stdout",
     "output_type": "stream",
     "text": [
      "1\n",
      "4\n",
      "9\n",
      "16\n"
     ]
    }
   ],
   "source": [
    "for i in map(lambda x : x*x,l):\n",
    "    print(i)"
   ]
  },
  {
   "cell_type": "code",
   "execution_count": null,
   "id": "a6eeec02-74b2-431d-99b0-87281e22cd7b",
   "metadata": {},
   "outputs": [],
   "source": []
  }
 ],
 "metadata": {
  "kernelspec": {
   "display_name": "Python 3 (ipykernel)",
   "language": "python",
   "name": "python3"
  },
  "language_info": {
   "codemirror_mode": {
    "name": "ipython",
    "version": 3
   },
   "file_extension": ".py",
   "mimetype": "text/x-python",
   "name": "python",
   "nbconvert_exporter": "python",
   "pygments_lexer": "ipython3",
   "version": "3.12.1"
  }
 },
 "nbformat": 4,
 "nbformat_minor": 5
}
