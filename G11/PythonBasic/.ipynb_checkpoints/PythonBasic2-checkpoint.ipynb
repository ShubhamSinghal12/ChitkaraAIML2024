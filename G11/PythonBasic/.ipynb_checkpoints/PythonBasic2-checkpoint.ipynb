{
 "cells": [
  {
   "cell_type": "code",
   "execution_count": 1,
   "id": "8069e790-7f27-4af6-85aa-63a063d17b90",
   "metadata": {},
   "outputs": [],
   "source": [
    "st = \"Hello, I am Shubham. My age is 27\""
   ]
  },
  {
   "cell_type": "code",
   "execution_count": 4,
   "id": "59ae65fc-c088-4297-9a0a-9c40ed42616f",
   "metadata": {},
   "outputs": [
    {
     "name": "stdout",
     "output_type": "stream",
     "text": [
      "2126899722832 2126899722832 2126897638272\n"
     ]
    }
   ],
   "source": [
    "st1 = \"123\"\n",
    "st2 = \"123\"\n",
    "n = 123\n",
    "st3 = str(n)\n",
    "print(id(st1),id(st2),id(st3))"
   ]
  },
  {
   "cell_type": "code",
   "execution_count": 5,
   "id": "68810fa0-9595-4187-beee-f622032b5d9d",
   "metadata": {},
   "outputs": [
    {
     "name": "stdout",
     "output_type": "stream",
     "text": [
      "['1', '2', '3']\n"
     ]
    }
   ],
   "source": [
    "l = list(st1)\n",
    "print(l)"
   ]
  },
  {
   "cell_type": "code",
   "execution_count": 9,
   "id": "c9ed03e0-8fe3-4dda-aace-4f2518e1439b",
   "metadata": {},
   "outputs": [
    {
     "name": "stdout",
     "output_type": "stream",
     "text": [
      "1\n",
      "2\n",
      "3\n",
      "3\n"
     ]
    }
   ],
   "source": [
    "for i in st1:\n",
    "    print(i)\n",
    "print(st1[2])"
   ]
  },
  {
   "cell_type": "code",
   "execution_count": 10,
   "id": "ba33f97e-d658-4b73-843e-13256a0ac740",
   "metadata": {},
   "outputs": [
    {
     "data": {
      "text/plain": [
       "'llo, I'"
      ]
     },
     "execution_count": 10,
     "metadata": {},
     "output_type": "execute_result"
    }
   ],
   "source": [
    "st[2:8]"
   ]
  },
  {
   "cell_type": "code",
   "execution_count": 11,
   "id": "6bba6500-ed6d-43a9-b22b-4a0b09c36757",
   "metadata": {},
   "outputs": [
    {
     "data": {
      "text/plain": [
       "'hello, i am shubham. my age is 27'"
      ]
     },
     "execution_count": 11,
     "metadata": {},
     "output_type": "execute_result"
    }
   ],
   "source": [
    "st.casefold()"
   ]
  },
  {
   "cell_type": "code",
   "execution_count": 12,
   "id": "9c5cc06e-c959-4d46-b235-54bc2cee5762",
   "metadata": {},
   "outputs": [
    {
     "data": {
      "text/plain": [
       "'Hello, i am shubham. my age is 27'"
      ]
     },
     "execution_count": 12,
     "metadata": {},
     "output_type": "execute_result"
    }
   ],
   "source": [
    "st.capitalize()"
   ]
  },
  {
   "cell_type": "code",
   "execution_count": 14,
   "id": "3824f9e6-eed4-49d5-8d5b-f4d48f72f164",
   "metadata": {},
   "outputs": [
    {
     "data": {
      "text/plain": [
       "False"
      ]
     },
     "execution_count": 14,
     "metadata": {},
     "output_type": "execute_result"
    }
   ],
   "source": [
    "st.endswith('270')"
   ]
  },
  {
   "cell_type": "code",
   "execution_count": 21,
   "id": "4b6872d9-4432-4cd0-8e5d-2bf2a131e70d",
   "metadata": {},
   "outputs": [
    {
     "data": {
      "text/plain": [
       "-1"
      ]
     },
     "execution_count": 21,
     "metadata": {},
     "output_type": "execute_result"
    }
   ],
   "source": [
    "ft = \"abcbabcbsdbabcbac\"\n",
    "ft.find('bss')"
   ]
  },
  {
   "cell_type": "code",
   "execution_count": 20,
   "id": "6ccb7d12-26dc-457e-9a10-ca031b331615",
   "metadata": {},
   "outputs": [
    {
     "data": {
      "text/plain": [
       "12"
      ]
     },
     "execution_count": 20,
     "metadata": {},
     "output_type": "execute_result"
    }
   ],
   "source": [
    "st.index('Sh')"
   ]
  },
  {
   "cell_type": "code",
   "execution_count": 22,
   "id": "2e56c744-ea01-4be3-90eb-55ca0e541533",
   "metadata": {},
   "outputs": [
    {
     "data": {
      "text/plain": [
       "False"
      ]
     },
     "execution_count": 22,
     "metadata": {},
     "output_type": "execute_result"
    }
   ],
   "source": [
    "st.isalnum()"
   ]
  },
  {
   "cell_type": "code",
   "execution_count": 23,
   "id": "516e46be-fa4e-4f52-ba96-c69c10826154",
   "metadata": {},
   "outputs": [
    {
     "data": {
      "text/plain": [
       "True"
      ]
     },
     "execution_count": 23,
     "metadata": {},
     "output_type": "execute_result"
    }
   ],
   "source": [
    "ft.isalnum()"
   ]
  },
  {
   "cell_type": "code",
   "execution_count": 24,
   "id": "a11aefb7-9ebf-49fd-b458-1b4ae4493532",
   "metadata": {},
   "outputs": [
    {
     "data": {
      "text/plain": [
       "'hello, i am shubham. my age is 27'"
      ]
     },
     "execution_count": 24,
     "metadata": {},
     "output_type": "execute_result"
    }
   ],
   "source": [
    "st.lower()"
   ]
  },
  {
   "cell_type": "code",
   "execution_count": 25,
   "id": "62523886-3700-4349-8e76-c718b571eea0",
   "metadata": {},
   "outputs": [
    {
     "data": {
      "text/plain": [
       "'HELLO, I AM SHUBHAM. MY AGE IS 27'"
      ]
     },
     "execution_count": 25,
     "metadata": {},
     "output_type": "execute_result"
    }
   ],
   "source": [
    "st.upper()"
   ]
  },
  {
   "cell_type": "code",
   "execution_count": 27,
   "id": "8a4e78f7-6d72-42ae-80e5-826bce568a5b",
   "metadata": {},
   "outputs": [
    {
     "data": {
      "text/plain": [
       "'zbzbsdbzbac'"
      ]
     },
     "execution_count": 27,
     "metadata": {},
     "output_type": "execute_result"
    }
   ],
   "source": [
    "ft.replace('abc','z')"
   ]
  },
  {
   "cell_type": "code",
   "execution_count": 28,
   "id": "8f49248b-3014-40ba-8966-c6c65fce2445",
   "metadata": {},
   "outputs": [
    {
     "data": {
      "text/plain": [
       "['Hello,', 'I', 'am', 'Shubham.', 'My', 'age', 'is', '27']"
      ]
     },
     "execution_count": 28,
     "metadata": {},
     "output_type": "execute_result"
    }
   ],
   "source": [
    "st.split(\" \")"
   ]
  },
  {
   "cell_type": "code",
   "execution_count": 32,
   "id": "27967614-773c-4bd5-bdf1-efe3a0f69090",
   "metadata": {},
   "outputs": [
    {
     "data": {
      "text/plain": [
       "'       ,.27HIMSaaabeeghhillmmosuy'"
      ]
     },
     "execution_count": 32,
     "metadata": {},
     "output_type": "execute_result"
    }
   ],
   "source": [
    "''.join(sorted(st))"
   ]
  },
  {
   "cell_type": "code",
   "execution_count": 35,
   "id": "82372e71-2cdd-4492-9d03-f94ce7385367",
   "metadata": {},
   "outputs": [
    {
     "data": {
      "text/plain": [
       "'27 is age My Shubham. am I Hello,'"
      ]
     },
     "execution_count": 35,
     "metadata": {},
     "output_type": "execute_result"
    }
   ],
   "source": [
    "' '.join(st.split(' ')[::-1])"
   ]
  },
  {
   "cell_type": "code",
   "execution_count": null,
   "id": "54eed872-993a-40c5-87ec-8967f5b3e078",
   "metadata": {},
   "outputs": [],
   "source": []
  },
  {
   "cell_type": "code",
   "execution_count": 36,
   "id": "c88ddfaa-4934-4763-85b1-94a580c25c44",
   "metadata": {},
   "outputs": [
    {
     "name": "stdout",
     "output_type": "stream",
     "text": [
      "Hello, I am Shubham. My age is 27\n"
     ]
    }
   ],
   "source": [
    "name = 'Shubham'\n",
    "age = 27\n",
    "st = f\"Hello, I am {name}. My age is {age}\"\n",
    "print(st)"
   ]
  },
  {
   "cell_type": "code",
   "execution_count": 39,
   "id": "1a244a44-3d38-4e1d-a219-88ca0a336c3d",
   "metadata": {},
   "outputs": [
    {
     "name": "stdout",
     "output_type": "stream",
     "text": [
      "Hello, I am Mohan. My age is 30\n"
     ]
    }
   ],
   "source": [
    "st = \"Hello, I am {name}. My age is {age}\".format(name = \"Mohan\",age = 30)\n",
    "print(st)"
   ]
  },
  {
   "cell_type": "code",
   "execution_count": null,
   "id": "a5c26e0d-e82b-4de1-a065-fac0a5cc83c9",
   "metadata": {},
   "outputs": [],
   "source": []
  },
  {
   "cell_type": "code",
   "execution_count": null,
   "id": "75012612-bbac-4507-b485-74d2fea1c88f",
   "metadata": {},
   "outputs": [],
   "source": []
  },
  {
   "cell_type": "code",
   "execution_count": 18,
   "id": "5be26b8f-9910-4f63-bc96-ab32994b0961",
   "metadata": {},
   "outputs": [],
   "source": [
    "class Person:\n",
    "    # name = 'xyz'\n",
    "    # age  = 0\n",
    "    def __init__(self,name = \"xyz\",age = 0):\n",
    "        self.name = name\n",
    "        self.age = age\n",
    "    def saysHi(self):\n",
    "        print(\"Hello, I am {name}. My age is {age}\".format(name = self.name,age = self.age))\n",
    "    def __str__(self):\n",
    "        return \"Hello, I am {name}.\".format(name = self.name,age = self.age)\n",
    "        "
   ]
  },
  {
   "cell_type": "code",
   "execution_count": 19,
   "id": "904bca80-3221-4bf2-b4f1-cd3127367f94",
   "metadata": {},
   "outputs": [],
   "source": [
    "p = Person(\"Radhe\",21)\n",
    "p1 = Person(\"Mohan\",20)"
   ]
  },
  {
   "cell_type": "code",
   "execution_count": 20,
   "id": "dd0e9585-09a9-434c-a8ef-e147104e4be3",
   "metadata": {},
   "outputs": [
    {
     "name": "stdout",
     "output_type": "stream",
     "text": [
      "Radhe 21\n",
      "Hello, I am Mohan. My age is 20\n",
      "Hello, I am Radhe.\n"
     ]
    }
   ],
   "source": [
    "print(p.name,p.age)\n",
    "p1.saysHi()\n",
    "print(p)"
   ]
  },
  {
   "cell_type": "code",
   "execution_count": 5,
   "id": "9e9445b6-e642-47b3-a371-fb89e1f86945",
   "metadata": {},
   "outputs": [
    {
     "name": "stdout",
     "output_type": "stream",
     "text": [
      "127\n"
     ]
    }
   ],
   "source": [
    "p.roll = 127\n",
    "print(p.roll)"
   ]
  },
  {
   "cell_type": "code",
   "execution_count": 6,
   "id": "1865b5c1-f6d6-4c1d-bed9-87eb8fcdd56f",
   "metadata": {},
   "outputs": [
    {
     "ename": "AttributeError",
     "evalue": "'Person' object has no attribute 'roll'",
     "output_type": "error",
     "traceback": [
      "\u001b[1;31m---------------------------------------------------------------------------\u001b[0m",
      "\u001b[1;31mAttributeError\u001b[0m                            Traceback (most recent call last)",
      "Cell \u001b[1;32mIn[6], line 1\u001b[0m\n\u001b[1;32m----> 1\u001b[0m \u001b[38;5;28mprint\u001b[39m(\u001b[43mp1\u001b[49m\u001b[38;5;241;43m.\u001b[39;49m\u001b[43mroll\u001b[49m)\n",
      "\u001b[1;31mAttributeError\u001b[0m: 'Person' object has no attribute 'roll'"
     ]
    }
   ],
   "source": [
    "print(p1.roll)"
   ]
  },
  {
   "cell_type": "code",
   "execution_count": null,
   "id": "d531f3b9-f936-4bdf-9f1e-b01d8e2dd148",
   "metadata": {},
   "outputs": [],
   "source": []
  },
  {
   "cell_type": "code",
   "execution_count": null,
   "id": "d9dadb07-b2fb-4c6e-8898-19cb49528815",
   "metadata": {},
   "outputs": [],
   "source": []
  },
  {
   "cell_type": "code",
   "execution_count": 22,
   "id": "2ac45869-25c4-4b76-b671-5be5be655c83",
   "metadata": {},
   "outputs": [
    {
     "name": "stdout",
     "output_type": "stream",
     "text": [
      "[1, 2, 3] [3, 2, 1]\n",
      "[1, 2, 3] [3, 2, 1]\n"
     ]
    }
   ],
   "source": [
    "l1 = [1,2,3]\n",
    "l2 = [3,2,1]\n",
    "def fn(a,b):\n",
    "    a,b = b,a\n",
    "\n",
    "print(l1,l2)\n",
    "fn(l1,l2)\n",
    "print(l1,l2)"
   ]
  },
  {
   "cell_type": "code",
   "execution_count": null,
   "id": "67c3e28f-8c85-44ae-9e76-d9fcabd8e65f",
   "metadata": {},
   "outputs": [],
   "source": []
  },
  {
   "cell_type": "code",
   "execution_count": 4,
   "id": "c52eaa3c-9529-413d-a3a0-70dde8005ad9",
   "metadata": {},
   "outputs": [],
   "source": [
    "import example\n",
    "from example import a"
   ]
  },
  {
   "cell_type": "code",
   "execution_count": 3,
   "id": "215c61b0-33f1-404e-b91c-d8685f00f681",
   "metadata": {},
   "outputs": [
    {
     "data": {
      "text/plain": [
       "10"
      ]
     },
     "execution_count": 3,
     "metadata": {},
     "output_type": "execute_result"
    }
   ],
   "source": [
    "a"
   ]
  },
  {
   "cell_type": "code",
   "execution_count": 26,
   "id": "8c85d890-f3d4-46a7-b3ec-d9bcbbaaa3a5",
   "metadata": {},
   "outputs": [],
   "source": [
    "e = example.Emp()"
   ]
  },
  {
   "cell_type": "code",
   "execution_count": 27,
   "id": "ce08a3ce-3082-4609-83c0-de09dfa0330e",
   "metadata": {},
   "outputs": [
    {
     "name": "stdout",
     "output_type": "stream",
     "text": [
      "xyz\n"
     ]
    }
   ],
   "source": [
    "print(e.name)"
   ]
  },
  {
   "cell_type": "code",
   "execution_count": 5,
   "id": "368d0ef6-cc02-42c2-a78d-2c6c97625c2e",
   "metadata": {},
   "outputs": [
    {
     "data": {
      "text/plain": [
       "['Emp',\n",
       " '__builtins__',\n",
       " '__cached__',\n",
       " '__doc__',\n",
       " '__file__',\n",
       " '__loader__',\n",
       " '__name__',\n",
       " '__package__',\n",
       " '__spec__',\n",
       " 'a']"
      ]
     },
     "execution_count": 5,
     "metadata": {},
     "output_type": "execute_result"
    }
   ],
   "source": [
    "dir(example)"
   ]
  },
  {
   "cell_type": "code",
   "execution_count": null,
   "id": "607c3c58-bc30-4b3d-8a85-46b4771fa3d1",
   "metadata": {},
   "outputs": [],
   "source": []
  }
 ],
 "metadata": {
  "kernelspec": {
   "display_name": "Python 3 (ipykernel)",
   "language": "python",
   "name": "python3"
  },
  "language_info": {
   "codemirror_mode": {
    "name": "ipython",
    "version": 3
   },
   "file_extension": ".py",
   "mimetype": "text/x-python",
   "name": "python",
   "nbconvert_exporter": "python",
   "pygments_lexer": "ipython3",
   "version": "3.12.1"
  }
 },
 "nbformat": 4,
 "nbformat_minor": 5
}
