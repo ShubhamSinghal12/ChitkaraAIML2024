{
 "cells": [
  {
   "cell_type": "code",
   "execution_count": 1,
   "id": "16edd65b-ddc1-4337-b22f-ce2f338b361f",
   "metadata": {},
   "outputs": [],
   "source": [
    "import numpy as np\n",
    "import matplotlib.pyplot as plt\n",
    "import pandas as pd\n",
    "from sklearn.model_selection import train_test_split\n",
    "from sklearn.linear_model import LinearRegression"
   ]
  },
  {
   "cell_type": "code",
   "execution_count": 9,
   "id": "d0960a61-193b-40a1-8056-7547cc2372f9",
   "metadata": {},
   "outputs": [],
   "source": [
    "data = pd.read_csv(r'C:\\Users\\Pc\\Downloads\\archive (1)\\HousingData.csv')\n",
    "data.dropna(inplace=True)"
   ]
  },
  {
   "cell_type": "code",
   "execution_count": 10,
   "id": "2cb56dcb-1a04-4367-b4af-5a6545ea30e5",
   "metadata": {},
   "outputs": [],
   "source": [
    "X = data.iloc[:,:-1]\n",
    "Y = data.iloc[:,-1]"
   ]
  },
  {
   "cell_type": "code",
   "execution_count": 11,
   "id": "e18b0733-3793-4786-b747-22e1c079d1a8",
   "metadata": {},
   "outputs": [],
   "source": [
    "X_train,X_test,Y_train,Y_test = train_test_split(X,Y,test_size=0.2)"
   ]
  },
  {
   "cell_type": "code",
   "execution_count": 12,
   "id": "6deaf239-3672-4126-bf61-a4474626d1a7",
   "metadata": {},
   "outputs": [
    {
     "name": "stdout",
     "output_type": "stream",
     "text": [
      "[-1.04955704e-01  5.00584612e-02  4.62095690e-02  3.50281957e+00\n",
      " -1.92951412e+01  3.60519083e+00  1.03419255e-02 -1.39020444e+00\n",
      "  2.76555926e-01 -1.11843692e-02 -1.01844383e+00  7.95393769e-03\n",
      " -5.73416083e-01]\n",
      "39.30072085416245\n"
     ]
    }
   ],
   "source": [
    "regM = LinearRegression()\n",
    "regM.fit(X_train,Y_train)\n",
    "print(regM.coef_)\n",
    "print(regM.intercept_)"
   ]
  },
  {
   "cell_type": "code",
   "execution_count": 13,
   "id": "e3f31eba-9f57-44f9-93ba-205b63a53db2",
   "metadata": {},
   "outputs": [],
   "source": [
    "y_p = regM.predict(X_test)"
   ]
  },
  {
   "cell_type": "code",
   "execution_count": 14,
   "id": "8510580e-48c3-4fd7-950a-4e2b28aa16d2",
   "metadata": {},
   "outputs": [
    {
     "name": "stdout",
     "output_type": "stream",
     "text": [
      "MAE 3.515493150345776\n",
      "MSE 21.65283792467507\n",
      "RMSE 4.65326099898502\n"
     ]
    }
   ],
   "source": [
    "from sklearn.metrics import mean_absolute_error,mean_squared_error,root_mean_squared_error\n",
    "\n",
    "print(\"MAE\" , mean_absolute_error(y_p,Y_test))\n",
    "print(\"MSE\" , mean_squared_error(y_p,Y_test))\n",
    "print(\"RMSE\" , root_mean_squared_error(y_p,Y_test))"
   ]
  },
  {
   "cell_type": "code",
   "execution_count": 15,
   "id": "25013e28-ee7f-4240-be48-ee9f642bb4c0",
   "metadata": {},
   "outputs": [
    {
     "data": {
      "text/plain": [
       "0.7365668837652473"
      ]
     },
     "execution_count": 15,
     "metadata": {},
     "output_type": "execute_result"
    }
   ],
   "source": [
    "regM.score(X_test,Y_test)"
   ]
  },
  {
   "cell_type": "code",
   "execution_count": null,
   "id": "25632e99-2e06-4e94-bc5a-07972d99f644",
   "metadata": {},
   "outputs": [],
   "source": []
  }
 ],
 "metadata": {
  "kernelspec": {
   "display_name": "Python 3 (ipykernel)",
   "language": "python",
   "name": "python3"
  },
  "language_info": {
   "codemirror_mode": {
    "name": "ipython",
    "version": 3
   },
   "file_extension": ".py",
   "mimetype": "text/x-python",
   "name": "python",
   "nbconvert_exporter": "python",
   "pygments_lexer": "ipython3",
   "version": "3.12.1"
  }
 },
 "nbformat": 4,
 "nbformat_minor": 5
}
