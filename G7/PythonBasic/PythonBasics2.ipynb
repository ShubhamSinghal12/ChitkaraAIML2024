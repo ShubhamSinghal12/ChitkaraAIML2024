{
 "cells": [
  {
   "cell_type": "markdown",
   "id": "33653fd1-3ab7-4226-865b-e8f391b958c5",
   "metadata": {},
   "source": [
    "## Various Functions\n",
    "- abs\n",
    "- all\n",
    "- dir\n",
    "- divmod\n",
    "- enumerate\n",
    "- filter\n",
    "- isinstance\n",
    "- map\n",
    "- reduce -- in python3 from functools import reduce"
   ]
  },
  {
   "cell_type": "code",
   "execution_count": 1,
   "id": "307f8fc5-1ce4-46ec-abc4-0484d16ce7ac",
   "metadata": {},
   "outputs": [
    {
     "data": {
      "text/plain": [
       "10"
      ]
     },
     "execution_count": 1,
     "metadata": {},
     "output_type": "execute_result"
    }
   ],
   "source": [
    "abs(-10)"
   ]
  },
  {
   "cell_type": "code",
   "execution_count": 3,
   "id": "de26cc1a-834d-4ec7-adab-182a232cda6f",
   "metadata": {},
   "outputs": [
    {
     "data": {
      "text/plain": [
       "False"
      ]
     },
     "execution_count": 3,
     "metadata": {},
     "output_type": "execute_result"
    }
   ],
   "source": [
    "all([True,True,True,1,False])"
   ]
  },
  {
   "cell_type": "code",
   "execution_count": 7,
   "id": "e91db2c7-5128-4276-9562-016495de1474",
   "metadata": {},
   "outputs": [],
   "source": [
    "l = [10,20,30,40]\n",
    "#dir(l)"
   ]
  },
  {
   "cell_type": "code",
   "execution_count": 6,
   "id": "ceb52dd1-b322-481f-a032-74a705303dad",
   "metadata": {},
   "outputs": [
    {
     "data": {
      "text/plain": [
       "(3, 2)"
      ]
     },
     "execution_count": 6,
     "metadata": {},
     "output_type": "execute_result"
    }
   ],
   "source": [
    "divmod(11,3)"
   ]
  },
  {
   "cell_type": "code",
   "execution_count": 10,
   "id": "104a2262-f6df-4ab9-8fe2-27b4d19269e0",
   "metadata": {},
   "outputs": [
    {
     "name": "stdout",
     "output_type": "stream",
     "text": [
      "0 10\n",
      "1 20\n",
      "2 30\n",
      "3 40\n"
     ]
    }
   ],
   "source": [
    "for ind,ele in enumerate(l):\n",
    "    print(ind,ele)"
   ]
  },
  {
   "cell_type": "code",
   "execution_count": 16,
   "id": "c61424ca-5e7b-438f-9c8e-0bb590d0695e",
   "metadata": {},
   "outputs": [
    {
     "name": "stdout",
     "output_type": "stream",
     "text": [
      "[0, 2, 4, 6, 8, 10, 12, 14, 16, 18]\n"
     ]
    }
   ],
   "source": [
    "l = [i for i in range(20)]\n",
    "lf = list(filter(lambda x : x%2==0,l))\n",
    "print(lf)"
   ]
  },
  {
   "cell_type": "code",
   "execution_count": 17,
   "id": "195cc1e8-bec7-40c8-b5d5-67ef82084c32",
   "metadata": {},
   "outputs": [
    {
     "name": "stdout",
     "output_type": "stream",
     "text": [
      "[0, 1, 4, 9, 16, 25, 36, 49, 64, 81, 100, 121, 144, 169, 196, 225, 256, 289, 324, 361]\n"
     ]
    }
   ],
   "source": [
    "lm = list(map(lambda x:x*x,l))\n",
    "print(lm)"
   ]
  },
  {
   "cell_type": "code",
   "execution_count": null,
   "id": "6b9a962d-f3bd-4ff6-9248-f9bf4d131610",
   "metadata": {},
   "outputs": [],
   "source": []
  },
  {
   "cell_type": "code",
   "execution_count": null,
   "id": "cdf7fd64-c352-4666-ab2b-5c4e63956901",
   "metadata": {},
   "outputs": [],
   "source": []
  },
  {
   "cell_type": "code",
   "execution_count": 18,
   "id": "f9942809-ea86-47c4-a656-b8270abe0ade",
   "metadata": {},
   "outputs": [
    {
     "name": "stdout",
     "output_type": "stream",
     "text": [
      "Hello, I am Shubham. My age is 27\n"
     ]
    }
   ],
   "source": [
    "st = \"Hello, I am Shubham. My age is 27\"\n",
    "print(st)"
   ]
  },
  {
   "cell_type": "code",
   "execution_count": 21,
   "id": "f162fd08-ff78-4a1a-91c0-ec2126535ad0",
   "metadata": {},
   "outputs": [
    {
     "data": {
      "text/plain": [
       "('l', 'llo, I')"
      ]
     },
     "execution_count": 21,
     "metadata": {},
     "output_type": "execute_result"
    }
   ],
   "source": [
    "st[2],st[2:8]"
   ]
  },
  {
   "cell_type": "code",
   "execution_count": 24,
   "id": "ee070096-cf91-420d-ba8b-fc05a86384f7",
   "metadata": {},
   "outputs": [
    {
     "name": "stdout",
     "output_type": "stream",
     "text": [
      "2793753966560 2793753966560 2793775132336\n"
     ]
    }
   ],
   "source": [
    "s1 = \"123\"\n",
    "s2 = \"123\"\n",
    "n = 123\n",
    "s3 = str(n)\n",
    "print(id(s1),id(s2),id(s3))"
   ]
  },
  {
   "cell_type": "code",
   "execution_count": 30,
   "id": "1adc6303-a10f-4ba2-a1f2-e4932aa0f342",
   "metadata": {},
   "outputs": [
    {
     "data": {
      "text/plain": [
       "'Abcabcsdacbbcaabc'"
      ]
     },
     "execution_count": 30,
     "metadata": {},
     "output_type": "execute_result"
    }
   ],
   "source": [
    "ft = \"abcabcsdacbbcaabc\"\n",
    "ft.capitalize()"
   ]
  },
  {
   "cell_type": "code",
   "execution_count": 27,
   "id": "e0763b12-f73f-41d7-a452-0b5ec6fc5b50",
   "metadata": {},
   "outputs": [
    {
     "data": {
      "text/plain": [
       "'Hello, i am shubham. my age is 27'"
      ]
     },
     "execution_count": 27,
     "metadata": {},
     "output_type": "execute_result"
    }
   ],
   "source": [
    "st.capitalize()"
   ]
  },
  {
   "cell_type": "code",
   "execution_count": 29,
   "id": "c8cc74c2-56e4-4ffe-858e-fe8aecf3cdd7",
   "metadata": {},
   "outputs": [
    {
     "data": {
      "text/plain": [
       "False"
      ]
     },
     "execution_count": 29,
     "metadata": {},
     "output_type": "execute_result"
    }
   ],
   "source": [
    "st.endswith(\"127\")"
   ]
  },
  {
   "cell_type": "code",
   "execution_count": 34,
   "id": "64d92bba-82fb-4356-b1ab-ba4375ea203b",
   "metadata": {},
   "outputs": [
    {
     "data": {
      "text/plain": [
       "(2, 12)"
      ]
     },
     "execution_count": 34,
     "metadata": {},
     "output_type": "execute_result"
    }
   ],
   "source": [
    "ft.find(\"ca\"), ft.rfind(\"ca\")"
   ]
  },
  {
   "cell_type": "code",
   "execution_count": 37,
   "id": "f05e1da9-0c62-40c5-b3f3-8c54491fd270",
   "metadata": {},
   "outputs": [
    {
     "data": {
      "text/plain": [
       "2"
      ]
     },
     "execution_count": 37,
     "metadata": {},
     "output_type": "execute_result"
    }
   ],
   "source": [
    "ft.index('c')"
   ]
  },
  {
   "cell_type": "code",
   "execution_count": 39,
   "id": "6c87aa2b-e144-46a1-a1ac-7d6b3de405ba",
   "metadata": {},
   "outputs": [
    {
     "data": {
      "text/plain": [
       "97"
      ]
     },
     "execution_count": 39,
     "metadata": {},
     "output_type": "execute_result"
    }
   ],
   "source": [
    "ord(ft[0])"
   ]
  },
  {
   "cell_type": "code",
   "execution_count": null,
   "id": "ada9cf12-9efe-4b43-accf-a1482f073bf2",
   "metadata": {},
   "outputs": [],
   "source": []
  },
  {
   "cell_type": "code",
   "execution_count": 40,
   "id": "b6c66075-85f3-491b-ac99-b584573da8f0",
   "metadata": {},
   "outputs": [
    {
     "data": {
      "text/plain": [
       "'hello, i am shubham. my age is 27'"
      ]
     },
     "execution_count": 40,
     "metadata": {},
     "output_type": "execute_result"
    }
   ],
   "source": [
    "st.lower()"
   ]
  },
  {
   "cell_type": "code",
   "execution_count": 41,
   "id": "82808f8f-6af6-48b9-9b3b-0db914744fb1",
   "metadata": {},
   "outputs": [
    {
     "data": {
      "text/plain": [
       "'HELLO, I AM SHUBHAM. MY AGE IS 27'"
      ]
     },
     "execution_count": 41,
     "metadata": {},
     "output_type": "execute_result"
    }
   ],
   "source": [
    "st.upper()"
   ]
  },
  {
   "cell_type": "code",
   "execution_count": 42,
   "id": "011f69bc-a5ec-4a5f-809c-83fd5ce7bdce",
   "metadata": {},
   "outputs": [
    {
     "data": {
      "text/plain": [
       "'xyzxyzsdacbbcaxyz'"
      ]
     },
     "execution_count": 42,
     "metadata": {},
     "output_type": "execute_result"
    }
   ],
   "source": [
    "ft.replace('abc','xyz')"
   ]
  },
  {
   "cell_type": "code",
   "execution_count": 43,
   "id": "0a9be59e-c6cc-4a0d-9c7e-7db61520de74",
   "metadata": {},
   "outputs": [
    {
     "data": {
      "text/plain": [
       "['Hello,', 'I', 'am', 'Shubham.', 'My', 'age', 'is', '27']"
      ]
     },
     "execution_count": 43,
     "metadata": {},
     "output_type": "execute_result"
    }
   ],
   "source": [
    "st.split(\" \")"
   ]
  },
  {
   "cell_type": "code",
   "execution_count": 46,
   "id": "7b566b3a-465f-439d-a6ce-bc87d407f1ec",
   "metadata": {},
   "outputs": [
    {
     "data": {
      "text/plain": [
       "'27 is age My Shubham. am I Hello,'"
      ]
     },
     "execution_count": 46,
     "metadata": {},
     "output_type": "execute_result"
    }
   ],
   "source": [
    "' '.join(st.split(\" \")[::-1])"
   ]
  },
  {
   "cell_type": "code",
   "execution_count": null,
   "id": "27d5eb55-f04d-4c30-b8db-22ab13cc010f",
   "metadata": {},
   "outputs": [],
   "source": []
  },
  {
   "cell_type": "code",
   "execution_count": 63,
   "id": "181d3450-ac28-4bc4-b3d7-f05f149bf45e",
   "metadata": {},
   "outputs": [
    {
     "name": "stdout",
     "output_type": "stream",
     "text": [
      "Hello, I am Shubham Singhal. My age is 27\n"
     ]
    }
   ],
   "source": [
    "name = \"Shubham Singhal\"\n",
    "age = 27\n",
    "st = f\"Hello, I am {name}. My age is {age}\"\n",
    "print(st)"
   ]
  },
  {
   "cell_type": "code",
   "execution_count": 66,
   "id": "03203098-f75b-4b31-82ef-ac4ce512597b",
   "metadata": {},
   "outputs": [
    {
     "name": "stdout",
     "output_type": "stream",
     "text": [
      "Hello, I am Shubham. My age is 27\n"
     ]
    }
   ],
   "source": [
    "st = \"Hello, I am {name}. My age is {age}\".format(name = \"Shubham\",age = 27)\n",
    "print(st)"
   ]
  },
  {
   "cell_type": "code",
   "execution_count": null,
   "id": "016088e3-51a6-4e87-9c04-90dbbc9dd094",
   "metadata": {},
   "outputs": [],
   "source": []
  },
  {
   "cell_type": "code",
   "execution_count": 62,
   "id": "703b1f1b-513f-48fc-b611-1aa4314a101c",
   "metadata": {},
   "outputs": [],
   "source": [
    "class Person:\n",
    "    def __init__(self,name='xyz',age=0):\n",
    "        self.name = name\n",
    "        self.age = age"
   ]
  },
  {
   "cell_type": "code",
   "execution_count": 60,
   "id": "114081b8-826f-4359-a0ed-c9060e5d313b",
   "metadata": {},
   "outputs": [],
   "source": [
    "p = Person(\"Radhe\",21)\n",
    "p1 = Person(\"Mohan\",30)"
   ]
  },
  {
   "cell_type": "code",
   "execution_count": 61,
   "id": "a21058e0-7128-4b18-8c53-ea74c571de4d",
   "metadata": {},
   "outputs": [
    {
     "name": "stdout",
     "output_type": "stream",
     "text": [
      "Radhe 21\n"
     ]
    }
   ],
   "source": [
    "print(p.name,p.age)"
   ]
  },
  {
   "cell_type": "code",
   "execution_count": 58,
   "id": "a8ae7680-29cb-4597-89d0-bbcc90fa0d8b",
   "metadata": {},
   "outputs": [
    {
     "name": "stdout",
     "output_type": "stream",
     "text": [
      "127\n"
     ]
    }
   ],
   "source": [
    "p.roll = 127\n",
    "print(p.roll)"
   ]
  },
  {
   "cell_type": "code",
   "execution_count": 54,
   "id": "b0079ec2-f44c-4e53-b867-9572f41d0ca2",
   "metadata": {},
   "outputs": [
    {
     "ename": "AttributeError",
     "evalue": "'Person' object has no attribute 'roll'",
     "output_type": "error",
     "traceback": [
      "\u001b[1;31m---------------------------------------------------------------------------\u001b[0m",
      "\u001b[1;31mAttributeError\u001b[0m                            Traceback (most recent call last)",
      "Cell \u001b[1;32mIn[54], line 1\u001b[0m\n\u001b[1;32m----> 1\u001b[0m \u001b[38;5;28mprint\u001b[39m(\u001b[43mp1\u001b[49m\u001b[38;5;241;43m.\u001b[39;49m\u001b[43mroll\u001b[49m)\n",
      "\u001b[1;31mAttributeError\u001b[0m: 'Person' object has no attribute 'roll'"
     ]
    }
   ],
   "source": [
    "print(p1.roll)"
   ]
  },
  {
   "cell_type": "code",
   "execution_count": null,
   "id": "ac4f6997-e545-47ed-956d-bd95e347c9df",
   "metadata": {},
   "outputs": [],
   "source": []
  }
 ],
 "metadata": {
  "kernelspec": {
   "display_name": "Python 3 (ipykernel)",
   "language": "python",
   "name": "python3"
  },
  "language_info": {
   "codemirror_mode": {
    "name": "ipython",
    "version": 3
   },
   "file_extension": ".py",
   "mimetype": "text/x-python",
   "name": "python",
   "nbconvert_exporter": "python",
   "pygments_lexer": "ipython3",
   "version": "3.12.1"
  }
 },
 "nbformat": 4,
 "nbformat_minor": 5
}
