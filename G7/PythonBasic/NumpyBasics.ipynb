{
 "cells": [
  {
   "cell_type": "markdown",
   "id": "77e866dc-ac47-44e5-87c0-a329ee52f6bb",
   "metadata": {},
   "source": [
    "- Numpy Array Creation\n",
    "- Shape\n",
    "- indexing\n",
    "- more creation methods: arange, linespace, ones, zeros, eye, diag\n",
    "- random numbers: np.random.rand\n",
    "- reshape: -1 for unknown\n",
    "- data types: b,i,u,f,c,m,M,O,S,u,V\n",
    "- slicing and assignment\n",
    "- copy and view: share_memory\n",
    "- operators(Element wise operations)\n",
    "- shape mismatch\n",
    "- fancy indexing also know as filter\n",
    "- search: where uses fancy indexing\n",
    "- Basic reductions: sum, min, max, any, all\n",
    "- iteration: nditer, ndenumerate\n",
    "- Join: concatenate, stack, hstack, vstack. Note: make a tuple of arays you want to join\n",
    "- split: array_split, hsplit\n",
    "- sort: np.sort"
   ]
  },
  {
   "cell_type": "code",
   "execution_count": 1,
   "id": "8b4fb0a6-e745-4645-8c2d-9a4bdaa77c9c",
   "metadata": {},
   "outputs": [],
   "source": [
    "import numpy as np"
   ]
  },
  {
   "cell_type": "code",
   "execution_count": 2,
   "id": "34f4a293-308c-48dc-8b6b-ef25bcc418fa",
   "metadata": {},
   "outputs": [
    {
     "data": {
      "text/plain": [
       "'1.26.3'"
      ]
     },
     "execution_count": 2,
     "metadata": {},
     "output_type": "execute_result"
    }
   ],
   "source": [
    "np.version.version"
   ]
  },
  {
   "cell_type": "code",
   "execution_count": 75,
   "id": "8380c715-68f4-4ba4-9106-dc07afa9d7d8",
   "metadata": {},
   "outputs": [],
   "source": [
    "l1 = [1,2,3,4]\n",
    "l2 = [[1,2],[3,4]]\n",
    "l21 = [[1,2,3],[4,5,6]]\n",
    "l3 = [[[1,2],[3,4],[8,9]],[[5,6],[7,8],[1,2]]]\n",
    "l31 = [[[1],[3],[8]],[[5],[7],[1]]]\n",
    "na = np.array(l21)"
   ]
  },
  {
   "cell_type": "code",
   "execution_count": 25,
   "id": "6af9b612-1007-46d1-8c5c-11ba47fe6ba4",
   "metadata": {},
   "outputs": [
    {
     "name": "stdout",
     "output_type": "stream",
     "text": [
      "[[[1 2]\n",
      "  [3 4]\n",
      "  [8 9]]\n",
      "\n",
      " [[5 6]\n",
      "  [7 8]\n",
      "  [1 2]]] <class 'numpy.ndarray'> 3\n"
     ]
    }
   ],
   "source": [
    "print(na,type(na),na.ndim)"
   ]
  },
  {
   "cell_type": "code",
   "execution_count": 26,
   "id": "ef17c514-66fc-4e69-a3fe-154f4c00dda2",
   "metadata": {},
   "outputs": [
    {
     "data": {
      "text/plain": [
       "(2, 3, 2)"
      ]
     },
     "execution_count": 26,
     "metadata": {},
     "output_type": "execute_result"
    }
   ],
   "source": [
    "na.shape"
   ]
  },
  {
   "cell_type": "code",
   "execution_count": 29,
   "id": "25552d5c-f50b-4ea4-af6e-4c22721d13f4",
   "metadata": {},
   "outputs": [
    {
     "data": {
      "text/plain": [
       "4"
      ]
     },
     "execution_count": 29,
     "metadata": {},
     "output_type": "execute_result"
    }
   ],
   "source": [
    "na[0,1,1]"
   ]
  },
  {
   "cell_type": "code",
   "execution_count": 31,
   "id": "003656e4-5dc8-41ca-baea-f78d19284835",
   "metadata": {},
   "outputs": [
    {
     "name": "stdout",
     "output_type": "stream",
     "text": [
      "1 2 3 4 8 9 5 6 7 8 1 2 "
     ]
    }
   ],
   "source": [
    "for i in range(na.shape[0]):\n",
    "    for j in range(na.shape[1]):\n",
    "        for k in range(na.shape[2]):\n",
    "            print(na[i,j,k],end=\" \")"
   ]
  },
  {
   "cell_type": "code",
   "execution_count": 32,
   "id": "edd7119a-1dd5-488c-95e9-6b9664996eca",
   "metadata": {},
   "outputs": [
    {
     "name": "stdout",
     "output_type": "stream",
     "text": [
      "1 2 3 4 8 9 5 6 7 8 1 2 "
     ]
    }
   ],
   "source": [
    "for ele in np.nditer(na):\n",
    "    print(ele,end=\" \")"
   ]
  },
  {
   "cell_type": "code",
   "execution_count": 33,
   "id": "1b9bb66b-13ef-4e85-8706-4ebac1d36022",
   "metadata": {},
   "outputs": [
    {
     "name": "stdout",
     "output_type": "stream",
     "text": [
      "(0, 0, 0) 1\n",
      "(0, 0, 1) 2\n",
      "(0, 1, 0) 3\n",
      "(0, 1, 1) 4\n",
      "(0, 2, 0) 8\n",
      "(0, 2, 1) 9\n",
      "(1, 0, 0) 5\n",
      "(1, 0, 1) 6\n",
      "(1, 1, 0) 7\n",
      "(1, 1, 1) 8\n",
      "(1, 2, 0) 1\n",
      "(1, 2, 1) 2\n"
     ]
    }
   ],
   "source": [
    "for ind, ele in np.ndenumerate(na):\n",
    "    print(ind,ele)"
   ]
  },
  {
   "cell_type": "code",
   "execution_count": 34,
   "id": "4636b2e2-1ce5-4ee2-bcf9-ea13d985a403",
   "metadata": {},
   "outputs": [
    {
     "data": {
      "text/plain": [
       "dtype('int32')"
      ]
     },
     "execution_count": 34,
     "metadata": {},
     "output_type": "execute_result"
    }
   ],
   "source": [
    "na.dtype"
   ]
  },
  {
   "cell_type": "code",
   "execution_count": 40,
   "id": "5e0cecbf-582d-4ee7-8e89-171b4a95a882",
   "metadata": {},
   "outputs": [
    {
     "data": {
      "text/plain": [
       "array([1., 3., 5., 7., 9.])"
      ]
     },
     "execution_count": 40,
     "metadata": {},
     "output_type": "execute_result"
    }
   ],
   "source": [
    "np.arange(1,10,2,dtype='f8')"
   ]
  },
  {
   "cell_type": "code",
   "execution_count": 44,
   "id": "b0079298-1802-4383-9528-d3544ef66066",
   "metadata": {},
   "outputs": [
    {
     "data": {
      "text/plain": [
       "array([0. , 0.5, 1. ])"
      ]
     },
     "execution_count": 44,
     "metadata": {},
     "output_type": "execute_result"
    }
   ],
   "source": [
    "np.linspace(0,1,3)"
   ]
  },
  {
   "cell_type": "code",
   "execution_count": 48,
   "id": "b7caea6a-0829-4c3a-9766-6baffb830430",
   "metadata": {},
   "outputs": [
    {
     "data": {
      "text/plain": [
       "array([[1., 1., 1., 1., 1.],\n",
       "       [1., 1., 1., 1., 1.]])"
      ]
     },
     "execution_count": 48,
     "metadata": {},
     "output_type": "execute_result"
    }
   ],
   "source": [
    "np.ones((2,5))"
   ]
  },
  {
   "cell_type": "code",
   "execution_count": 49,
   "id": "8cb0c22f-53b1-41c6-bb30-d465f69a8067",
   "metadata": {},
   "outputs": [
    {
     "data": {
      "text/plain": [
       "array([[0., 0., 0., 0., 0.],\n",
       "       [0., 0., 0., 0., 0.]])"
      ]
     },
     "execution_count": 49,
     "metadata": {},
     "output_type": "execute_result"
    }
   ],
   "source": [
    "np.zeros((2,5))"
   ]
  },
  {
   "cell_type": "code",
   "execution_count": 51,
   "id": "5e8cc123-8748-4f06-ae08-309ffed4c09d",
   "metadata": {},
   "outputs": [
    {
     "data": {
      "text/plain": [
       "array([[1., 0., 0.],\n",
       "       [0., 1., 0.]])"
      ]
     },
     "execution_count": 51,
     "metadata": {},
     "output_type": "execute_result"
    }
   ],
   "source": [
    "np.eye(2,3)"
   ]
  },
  {
   "cell_type": "code",
   "execution_count": 52,
   "id": "8529e74e-2b68-406e-b2e4-eff828635c66",
   "metadata": {},
   "outputs": [
    {
     "data": {
      "text/plain": [
       "array([[1, 0, 0, 0],\n",
       "       [0, 2, 0, 0],\n",
       "       [0, 0, 3, 0],\n",
       "       [0, 0, 0, 4]])"
      ]
     },
     "execution_count": 52,
     "metadata": {},
     "output_type": "execute_result"
    }
   ],
   "source": [
    "np.diag([1,2,3,4])"
   ]
  },
  {
   "cell_type": "code",
   "execution_count": 55,
   "id": "e38f181c-7d93-43ed-b0ce-7be5bafbfe65",
   "metadata": {},
   "outputs": [
    {
     "data": {
      "text/plain": [
       "array([[0.1988324 , 0.11533692, 0.58696494, 0.13348656, 0.81183178],\n",
       "       [0.82059702, 0.01416009, 0.38645444, 0.29987922, 0.08475357]])"
      ]
     },
     "execution_count": 55,
     "metadata": {},
     "output_type": "execute_result"
    }
   ],
   "source": [
    "np.random.rand(2,5)"
   ]
  },
  {
   "cell_type": "code",
   "execution_count": 59,
   "id": "eb06287e-2183-47a3-8dcf-b9a31f3f746c",
   "metadata": {},
   "outputs": [
    {
     "name": "stdout",
     "output_type": "stream",
     "text": [
      "9 6 3 1 1 9 3 7 2 5 "
     ]
    }
   ],
   "source": [
    "for i in range(10):\n",
    "    print(np.random.randint(1,10),end = \" \")"
   ]
  },
  {
   "cell_type": "code",
   "execution_count": 62,
   "id": "8a701ae9-2d90-4004-851f-05d790d48114",
   "metadata": {},
   "outputs": [
    {
     "data": {
      "text/plain": [
       "array([[0.07505535, 0.80824366, 0.62620062, 0.10423002, 0.15974991],\n",
       "       [0.82573446, 0.57531151, 0.66006884, 0.28099712, 0.44149356]])"
      ]
     },
     "execution_count": 62,
     "metadata": {},
     "output_type": "execute_result"
    }
   ],
   "source": [
    "np.random.random((2,5))"
   ]
  },
  {
   "cell_type": "code",
   "execution_count": 77,
   "id": "3a414733-b7d8-471c-8ef8-7d9e576b918e",
   "metadata": {},
   "outputs": [],
   "source": [
    "na = np.arange(1,17)"
   ]
  },
  {
   "cell_type": "code",
   "execution_count": 78,
   "id": "22a66237-d27c-43c8-b9f8-16d4ba7c30e1",
   "metadata": {},
   "outputs": [],
   "source": [
    "na = na.reshape((4,4))"
   ]
  },
  {
   "cell_type": "code",
   "execution_count": 74,
   "id": "501ca286-dcc5-40a2-bcf5-ad0ff5dc06d4",
   "metadata": {},
   "outputs": [
    {
     "data": {
      "text/plain": [
       "array([ 1,  2,  3,  4,  5,  6,  7,  8,  9, 10, 11, 12, 13, 14, 15, 16, 17,\n",
       "       18, 19, 20])"
      ]
     },
     "execution_count": 74,
     "metadata": {},
     "output_type": "execute_result"
    }
   ],
   "source": [
    "na.reshape(-1)"
   ]
  },
  {
   "cell_type": "code",
   "execution_count": 82,
   "id": "eab695c8-e257-4626-b538-76eee76a8bca",
   "metadata": {},
   "outputs": [],
   "source": [
    "na2 = np.array([[10,20],[30,40]])"
   ]
  },
  {
   "cell_type": "code",
   "execution_count": 83,
   "id": "aa7aa36b-5f95-4df9-a099-ca042e4907fc",
   "metadata": {},
   "outputs": [],
   "source": [
    "na[0:2,2:4] = na2"
   ]
  },
  {
   "cell_type": "code",
   "execution_count": 84,
   "id": "e71afaa1-fb61-469f-9be0-78bbf106b9a5",
   "metadata": {},
   "outputs": [
    {
     "data": {
      "text/plain": [
       "array([[ 1,  2, 10, 20],\n",
       "       [ 5,  6, 30, 40],\n",
       "       [ 9, 10, 11, 12],\n",
       "       [13, 14, 15, 16]])"
      ]
     },
     "execution_count": 84,
     "metadata": {},
     "output_type": "execute_result"
    }
   ],
   "source": [
    "na"
   ]
  },
  {
   "cell_type": "code",
   "execution_count": 87,
   "id": "b6bdddc2-bc54-4715-a1b9-8f353ae32f7b",
   "metadata": {},
   "outputs": [],
   "source": [
    "b = na[0:2,2:4].copy()"
   ]
  },
  {
   "cell_type": "code",
   "execution_count": 88,
   "id": "a968f0f9-5370-44ea-893d-d2a6cbea42bf",
   "metadata": {},
   "outputs": [
    {
     "data": {
      "text/plain": [
       "False"
      ]
     },
     "execution_count": 88,
     "metadata": {},
     "output_type": "execute_result"
    }
   ],
   "source": [
    "np.shares_memory(na,b)"
   ]
  },
  {
   "cell_type": "code",
   "execution_count": 99,
   "id": "51696a97-71fb-4a48-a854-c7da88a773ca",
   "metadata": {},
   "outputs": [
    {
     "data": {
      "text/plain": [
       "array([[20, 40],\n",
       "       [60, 80]])"
      ]
     },
     "execution_count": 99,
     "metadata": {},
     "output_type": "execute_result"
    }
   ],
   "source": [
    "na[0:2,2:4]+b"
   ]
  },
  {
   "cell_type": "code",
   "execution_count": 101,
   "id": "79b325db-76b8-4730-98f5-5fac20e06c2a",
   "metadata": {},
   "outputs": [
    {
     "data": {
      "text/plain": [
       "array([[20, 40],\n",
       "       [60, 80]])"
      ]
     },
     "execution_count": 101,
     "metadata": {},
     "output_type": "execute_result"
    }
   ],
   "source": [
    "np.add(na[0:2,2:4],b)"
   ]
  },
  {
   "cell_type": "code",
   "execution_count": 102,
   "id": "29c7d6cd-554f-4063-809c-4d58d82ad378",
   "metadata": {},
   "outputs": [],
   "source": [
    "na = np.arange(1,21)"
   ]
  },
  {
   "cell_type": "code",
   "execution_count": 107,
   "id": "9e7d70ba-850d-4ed6-aafb-b36dfc268cc4",
   "metadata": {},
   "outputs": [],
   "source": [
    "f = na%2==0"
   ]
  },
  {
   "cell_type": "code",
   "execution_count": 108,
   "id": "d673a61f-22b3-46ca-bdf3-ee755b3d39c2",
   "metadata": {},
   "outputs": [
    {
     "data": {
      "text/plain": [
       "array([ 2,  4,  6,  8, 10, 12, 14, 16, 18, 20])"
      ]
     },
     "execution_count": 108,
     "metadata": {},
     "output_type": "execute_result"
    }
   ],
   "source": [
    "na[f]"
   ]
  },
  {
   "cell_type": "code",
   "execution_count": 109,
   "id": "400d3895-8e2c-47ee-bbd0-82b0402c6628",
   "metadata": {},
   "outputs": [
    {
     "data": {
      "text/plain": [
       "(array([ 1,  3,  5,  7,  9, 11, 13, 15, 17, 19], dtype=int64),)"
      ]
     },
     "execution_count": 109,
     "metadata": {},
     "output_type": "execute_result"
    }
   ],
   "source": [
    "np.where(na%2==0)"
   ]
  },
  {
   "cell_type": "code",
   "execution_count": 116,
   "id": "dd345662-f23b-4747-bf01-e3fe8d58e4e9",
   "metadata": {},
   "outputs": [
    {
     "data": {
      "text/plain": [
       "array([[[ 1,  2],\n",
       "        [ 3,  4],\n",
       "        [ 5,  6]],\n",
       "\n",
       "       [[ 7,  8],\n",
       "        [ 9, 10],\n",
       "        [11, 12]]])"
      ]
     },
     "execution_count": 116,
     "metadata": {},
     "output_type": "execute_result"
    }
   ],
   "source": [
    "na3 = np.arange(1,13).reshape((2,3,2))\n",
    "na3"
   ]
  },
  {
   "cell_type": "code",
   "execution_count": 120,
   "id": "ffb79dc6-d1e5-4150-b3ff-67610763bb64",
   "metadata": {},
   "outputs": [
    {
     "data": {
      "text/plain": [
       "array([[ 3,  7, 11],\n",
       "       [15, 19, 23]])"
      ]
     },
     "execution_count": 120,
     "metadata": {},
     "output_type": "execute_result"
    }
   ],
   "source": [
    "np.sum(na3,axis=2)"
   ]
  },
  {
   "cell_type": "code",
   "execution_count": null,
   "id": "72da7d6b-a6e8-46c3-9587-900be926de8d",
   "metadata": {},
   "outputs": [],
   "source": []
  }
 ],
 "metadata": {
  "kernelspec": {
   "display_name": "Python 3 (ipykernel)",
   "language": "python",
   "name": "python3"
  },
  "language_info": {
   "codemirror_mode": {
    "name": "ipython",
    "version": 3
   },
   "file_extension": ".py",
   "mimetype": "text/x-python",
   "name": "python",
   "nbconvert_exporter": "python",
   "pygments_lexer": "ipython3",
   "version": "3.12.1"
  }
 },
 "nbformat": 4,
 "nbformat_minor": 5
}
