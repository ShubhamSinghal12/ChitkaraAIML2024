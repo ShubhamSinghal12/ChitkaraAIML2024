{
 "cells": [
  {
   "cell_type": "markdown",
   "id": "97e260b3-4e6c-4368-a5ae-adcda36e70a5",
   "metadata": {},
   "source": [
    "<h2>Basics</h2>\n",
    "\n",
    "- KeyWords vs Identifier\n",
    "- Comments\n",
    "- What is a Variable?\n",
    "- Single Line vs Multiple Line\n",
    "- Multiple assignments\n",
    "- How do we Store a Variable it in the memory?\n",
    "- Immutability"
   ]
  },
  {
   "cell_type": "code",
   "execution_count": 1,
   "id": "49bfc01e-efc1-4023-bd41-3c9fab71bd8f",
   "metadata": {},
   "outputs": [
    {
     "name": "stdout",
     "output_type": "stream",
     "text": [
      "['False', 'None', 'True', 'and', 'as', 'assert', 'async', 'await', 'break', 'class', 'continue', 'def', 'del', 'elif', 'else', 'except', 'finally', 'for', 'from', 'global', 'if', 'import', 'in', 'is', 'lambda', 'nonlocal', 'not', 'or', 'pass', 'raise', 'return', 'try', 'while', 'with', 'yield']\n"
     ]
    },
    {
     "data": {
      "text/plain": [
       "'Multiple\\n    Line\\n    Comment'"
      ]
     },
     "execution_count": 1,
     "metadata": {},
     "output_type": "execute_result"
    }
   ],
   "source": [
    "import keyword\n",
    "print(keyword.kwlist)\n",
    "#sINGLE lINE COMMENT\n",
    "\"\"\"Multiple\n",
    "    Line\n",
    "    Comment\"\"\""
   ]
  },
  {
   "cell_type": "code",
   "execution_count": 5,
   "id": "cb289715-e07a-4caf-8a8f-59130586de24",
   "metadata": {},
   "outputs": [
    {
     "name": "stdout",
     "output_type": "stream",
     "text": [
      "10 140708990827224\n"
     ]
    }
   ],
   "source": [
    "a = 10\n",
    "b = 10 + 20 + \\\n",
    "    30 + 40 + \\\n",
    "    50\n",
    "# c = d = e = 100\n",
    "# c,d,e = 1,2,3\n",
    "# print(a,b,c,d,e)\n",
    "print(a,id(a))"
   ]
  },
  {
   "cell_type": "code",
   "execution_count": 10,
   "id": "93b5ce6c-e837-4742-9a65-cafc346ed4ba",
   "metadata": {},
   "outputs": [
    {
     "name": "stdout",
     "output_type": "stream",
     "text": [
      "10 140708990827224\n",
      "20 140708990827544\n",
      "30 140708990827864\n"
     ]
    }
   ],
   "source": [
    "a = 10\n",
    "b = 20\n",
    "c = a+10\n",
    "c += 10\n",
    "print(a,id(a))\n",
    "print(b,id(b))\n",
    "print(c,id(c))"
   ]
  },
  {
   "cell_type": "markdown",
   "id": "fe69e5bc-573e-4575-984c-6086c6908d82",
   "metadata": {},
   "source": [
    "<h2>Data Types</h2>\r",
    "<table border=\"1\">\r\n",
    "<tbody>\r\n",
    "<tr><td>Text Type:</td><td>str</td></tr>\r\n",
    "<tr><td>Numeric Types:</td><td>int, float, complex</td></tr>\r\n",
    "<tr><td>Sequence Types:</td><td>list, tuple, range</td></tr>\r\n",
    "<tr><td>Mapping Type:</td><td>dict</td></tr>\r\n",
    "<tr><td>Set Types:</td><td>set, frozenset</td></tr>\r\n",
    "<tr><td>Boolean Type:</td><td>bool</td></tr>\r\n",
    "<tr><td>Binary Types:</td><td>bytes, bytearray, memoryview</td></tr>\r\n",
    "<tr><td>None Type:</td><td>NoneType</td></tr>\r\n",
    "</tbody\n",
    "\n",
    "\r\n",
    "</table>\r\n",
    "</table>NoneType\r\n"
   ]
  },
  {
   "cell_type": "code",
   "execution_count": 17,
   "id": "11c3ddb8-d462-470d-9a4d-afda0e7c6bf4",
   "metadata": {},
   "outputs": [
    {
     "name": "stdout",
     "output_type": "stream",
     "text": [
      "[1, 2, 3, 4, 'Hello'] <class 'list'>\n"
     ]
    }
   ],
   "source": [
    "a = [1,2,3,4,'Hello']\n",
    "print(a,type(a))"
   ]
  },
  {
   "cell_type": "code",
   "execution_count": 15,
   "id": "7d20638e-ddeb-4f77-9ccf-42197a13b440",
   "metadata": {},
   "outputs": [
    {
     "name": "stdin",
     "output_type": "stream",
     "text": [
      "Enter a Num 10\n"
     ]
    },
    {
     "name": "stdout",
     "output_type": "stream",
     "text": [
      "10 <class 'str'>\n",
      "10 <class 'int'>\n"
     ]
    }
   ],
   "source": [
    "a = input(\"Enter a Num\")\n",
    "print(a,type(a))\n",
    "a = int(a)\n",
    "print(a,type(a))"
   ]
  },
  {
   "cell_type": "code",
   "execution_count": null,
   "id": "063228db-da39-41b5-92e3-4078e0911477",
   "metadata": {},
   "outputs": [],
   "source": []
  },
  {
   "cell_type": "code",
   "execution_count": null,
   "id": "262b1118-5449-4283-94bb-7121ffb396d6",
   "metadata": {},
   "outputs": [],
   "source": []
  },
  {
   "cell_type": "code",
   "execution_count": null,
   "id": "8434d86c-f362-4d6d-8f2a-550c3e8d1533",
   "metadata": {},
   "outputs": [],
   "source": []
  },
  {
   "cell_type": "markdown",
   "id": "8d81c215-6158-4b67-b337-463b4e32a809",
   "metadata": {},
   "source": [
    "<h2>Operators</h2>\n",
    "Types of Operators\n",
    "\n",
    "- Airthmetic: +, -, *, /, %, //, **\n",
    "- relational: ==, <=, <, >=, >, !=\n",
    "- logical: and, or, not\n",
    "- Bitwise: &, |, ~, ^, <<, >>\n",
    "- Assignment: =, +=, -= ...\n",
    "- Special: is, is not, in, not in"
   ]
  },
  {
   "cell_type": "code",
   "execution_count": 23,
   "id": "7e370209-16de-4691-a619-211f291a2a5a",
   "metadata": {},
   "outputs": [
    {
     "name": "stdout",
     "output_type": "stream",
     "text": [
      "False\n"
     ]
    }
   ],
   "source": [
    "a = [10]\n",
    "b = [10]\n",
    "c = a is b\n",
    "print(c)"
   ]
  },
  {
   "cell_type": "code",
   "execution_count": null,
   "id": "a23b49ac-41a0-46b2-a0b2-2caf0941b964",
   "metadata": {},
   "outputs": [],
   "source": []
  },
  {
   "cell_type": "code",
   "execution_count": null,
   "id": "4b0e21aa-54ce-4127-8fb3-2cce2737d286",
   "metadata": {},
   "outputs": [],
   "source": []
  },
  {
   "cell_type": "markdown",
   "id": "9797eaf9-0c93-4e92-afb5-ef8aa85652f8",
   "metadata": {},
   "source": [
    "## IfElse\n",
    "- if .. else\n",
    "- if .. elif .... else\n",
    "- Nested if\n",
    "\n",
    "Indentation"
   ]
  },
  {
   "cell_type": "code",
   "execution_count": 27,
   "id": "f0df8ca0-b2aa-4deb-8335-fef7f454963e",
   "metadata": {},
   "outputs": [
    {
     "name": "stdout",
     "output_type": "stream",
     "text": [
      "a is smaller\n",
      "hello\n"
     ]
    }
   ],
   "source": [
    "a = 10\n",
    "b = 20\n",
    "if a < b:\n",
    "  print('a is smaller')\n",
    "  print('hello')\n",
    "else:\n",
    "    print('a is greater')\n",
    "    "
   ]
  },
  {
   "cell_type": "code",
   "execution_count": null,
   "id": "b400188c-b77e-4843-a7e0-9e27dc63ca59",
   "metadata": {},
   "outputs": [],
   "source": []
  },
  {
   "cell_type": "code",
   "execution_count": null,
   "id": "f3184536-3287-4b77-a03b-e7967a8e640c",
   "metadata": {},
   "outputs": [],
   "source": []
  },
  {
   "cell_type": "markdown",
   "id": "1b34a3da-c6d9-47db-8083-ffea75fc7f95",
   "metadata": {},
   "source": [
    "## while loop\n",
    "\n",
    "To iterate over a block of code as long as the test expression is true.\\\n",
    "**Syntax:**\\\n",
    "while testExp:\\\n",
    "Body\\\n",
    "else:\\\n",
    "After testExp is false"
   ]
  },
  {
   "cell_type": "code",
   "execution_count": 31,
   "id": "68b4e992-d7ad-4f4a-8900-61705d32517f",
   "metadata": {},
   "outputs": [
    {
     "name": "stdout",
     "output_type": "stream",
     "text": [
      "Prime\n"
     ]
    }
   ],
   "source": [
    "a = 11\n",
    "i = 2\n",
    "while i < a:\n",
    "    if a%i == 0:\n",
    "        print('Not Prime')\n",
    "        break\n",
    "    i+=1\n",
    "else:\n",
    "    print(\"Prime\")"
   ]
  },
  {
   "cell_type": "code",
   "execution_count": null,
   "id": "f6a500c6-1159-4563-bbad-781b2ef7c348",
   "metadata": {},
   "outputs": [],
   "source": []
  },
  {
   "cell_type": "markdown",
   "id": "b21c6aad-ede8-43e2-8a98-2c9a3ab12bb6",
   "metadata": {},
   "source": [
    "## for loop\n",
    "\n",
    "for ele in sequence:\\\n",
    "....Body of for\n"
   ]
  },
  {
   "cell_type": "code",
   "execution_count": null,
   "id": "b3419617-f276-4e7d-ab37-197f99fe1364",
   "metadata": {},
   "outputs": [],
   "source": []
  },
  {
   "cell_type": "code",
   "execution_count": 32,
   "id": "c6d64d8d-e1b1-4b94-b921-98c9ee390b7f",
   "metadata": {},
   "outputs": [
    {
     "name": "stdout",
     "output_type": "stream",
     "text": [
      "1\n",
      "2\n",
      "3\n",
      "4\n",
      "5\n"
     ]
    }
   ],
   "source": [
    "l = [1,2,3,4,5]\n",
    "for ele in l:\n",
    "    print(ele)"
   ]
  },
  {
   "cell_type": "code",
   "execution_count": 37,
   "id": "d2e13a06-e2f5-473c-b045-11f5fdda128e",
   "metadata": {},
   "outputs": [
    {
     "name": "stdout",
     "output_type": "stream",
     "text": [
      "0 1\n",
      "1 2\n",
      "2 3\n",
      "3 4\n",
      "4 5\n"
     ]
    }
   ],
   "source": [
    "for i in range(len(l)):\n",
    "    print(i,l[i])"
   ]
  },
  {
   "cell_type": "code",
   "execution_count": 39,
   "id": "60070cd7-71db-4504-a186-7915e655a154",
   "metadata": {},
   "outputs": [
    {
     "name": "stdout",
     "output_type": "stream",
     "text": [
      "4 5\n",
      "3 4\n",
      "2 3\n",
      "1 2\n",
      "0 1\n"
     ]
    }
   ],
   "source": [
    "for i in range(len(l)-1,-1,-1):\n",
    "    print(i,l[i])"
   ]
  },
  {
   "cell_type": "code",
   "execution_count": 40,
   "id": "a78dcc64-ca0e-471a-86f7-2dc8d886ccec",
   "metadata": {},
   "outputs": [],
   "source": [
    "for i in range(10,1,1):\n",
    "    print(i)"
   ]
  },
  {
   "cell_type": "code",
   "execution_count": null,
   "id": "682ff4f1-d037-4e2a-ab9c-53fbd4d42717",
   "metadata": {},
   "outputs": [],
   "source": []
  },
  {
   "cell_type": "markdown",
   "id": "ec23189f-385c-4d1e-ab1e-cdcb0a6d71f8",
   "metadata": {},
   "source": [
    "## Ternary Operator"
   ]
  },
  {
   "cell_type": "code",
   "execution_count": 42,
   "id": "73082f51-d4d2-4b83-8970-1d5237b47d9c",
   "metadata": {},
   "outputs": [
    {
     "name": "stdout",
     "output_type": "stream",
     "text": [
      "50\n"
     ]
    }
   ],
   "source": [
    "a = 10\n",
    "b = 50\n",
    "c = a if a > b else b\n",
    "print(c)"
   ]
  },
  {
   "cell_type": "code",
   "execution_count": null,
   "id": "8bb3aa69-5031-43c2-bddb-b840ec4fe031",
   "metadata": {},
   "outputs": [],
   "source": []
  },
  {
   "cell_type": "code",
   "execution_count": null,
   "id": "f68969c2-35ee-43f6-be79-dccce46207d2",
   "metadata": {},
   "outputs": [],
   "source": []
  },
  {
   "cell_type": "markdown",
   "id": "ce1a6b4a-d6a7-4b8a-8fed-1b808e51ed5f",
   "metadata": {},
   "source": [
    "## List\n",
    "\n",
    "List Functions/Method\n",
    "\n",
    "Method Description\n",
    "append() Adds an element at the end of the list \n",
    "clear()\tRemoves all the elements from the list\n",
    "copy()\tReturns a copy of the list\n",
    "count()\tReturns the number of elements with the specified value\n",
    "extend()\tAdd the elements of a list (or any iterable), to the end of the current list\n",
    "index()\tReturns the index of the first element with the specified value\n",
    "insert()\tAdds an element at the specified position\n",
    "pop()\tRemoves the element at the specified position\n",
    "remove()\tRemoves the item with the specified value\n",
    "reverse()\tReverses the order of the list\n",
    "sort()\tSorts the list\n",
    "\n",
    "List Comprehension\n",
    "List Spliting"
   ]
  },
  {
   "cell_type": "code",
   "execution_count": null,
   "id": "8f93ca43-8602-44bb-afe7-ecfb2f899aca",
   "metadata": {},
   "outputs": [],
   "source": []
  },
  {
   "cell_type": "code",
   "execution_count": null,
   "id": "4d9ff2b3-6e81-4609-973c-256024656614",
   "metadata": {},
   "outputs": [],
   "source": []
  },
  {
   "cell_type": "code",
   "execution_count": 43,
   "id": "c1018b12-d136-4a37-8fe7-ed282674e3ef",
   "metadata": {},
   "outputs": [
    {
     "name": "stdout",
     "output_type": "stream",
     "text": [
      "3 3\n"
     ]
    }
   ],
   "source": [
    "l = [1,2,3,4]\n",
    "print(l[2],l[-2])"
   ]
  },
  {
   "cell_type": "code",
   "execution_count": 44,
   "id": "cb04b51b-2e92-4ce6-9748-89052b33a0a1",
   "metadata": {},
   "outputs": [
    {
     "name": "stdout",
     "output_type": "stream",
     "text": [
      "1970316014528\n",
      "1970315941824\n",
      "1970316014528\n",
      "100\n"
     ]
    }
   ],
   "source": [
    "l1 = [10,20]\n",
    "l2 = [10,20]\n",
    "l3 = l1\n",
    "print(id(l1))\n",
    "print(id(l2))\n",
    "print(id(l3))\n",
    "l3[0] = 100\n",
    "print(l1[0])"
   ]
  },
  {
   "cell_type": "code",
   "execution_count": 46,
   "id": "d4ec043b-0117-47fa-bcfe-0f1107bc3636",
   "metadata": {},
   "outputs": [
    {
     "name": "stdout",
     "output_type": "stream",
     "text": [
      "[1, 100, 2, 3, 4, 10, 10]\n"
     ]
    }
   ],
   "source": [
    "l.append(10)\n",
    "l.insert(1,100)\n",
    "print(l)"
   ]
  },
  {
   "cell_type": "code",
   "execution_count": 47,
   "id": "d130102f-f2a9-4458-aeea-77447424778a",
   "metadata": {},
   "outputs": [
    {
     "name": "stdout",
     "output_type": "stream",
     "text": [
      "[1, 1000, 2, 3, 4, 10, 10]\n"
     ]
    }
   ],
   "source": [
    "l[1] = 1000\n",
    "print(l)"
   ]
  },
  {
   "cell_type": "code",
   "execution_count": 48,
   "id": "98b00650-cf22-4bea-b16c-2547f64d4e72",
   "metadata": {},
   "outputs": [
    {
     "name": "stdout",
     "output_type": "stream",
     "text": [
      "10\n",
      "1000\n",
      "[1, 2, 3, 4, 10]\n"
     ]
    }
   ],
   "source": [
    "print(l.pop())\n",
    "print(l.pop(1))\n",
    "print(l)"
   ]
  },
  {
   "cell_type": "code",
   "execution_count": 49,
   "id": "7f19421a-36d4-4db0-a76b-4b2bc9594e2c",
   "metadata": {},
   "outputs": [
    {
     "name": "stdout",
     "output_type": "stream",
     "text": [
      "[1, 3, 4, 10]\n"
     ]
    }
   ],
   "source": [
    "del l[1]\n",
    "print(l)"
   ]
  },
  {
   "cell_type": "code",
   "execution_count": 51,
   "id": "44a4548d-8fd4-4bce-a3fc-aaa63724bc05",
   "metadata": {},
   "outputs": [
    {
     "name": "stdout",
     "output_type": "stream",
     "text": [
      "[1, 2, 3, 4, 1, 1, 2]\n"
     ]
    }
   ],
   "source": [
    "l1 = [1,2,3,4]\n",
    "l2 = [1,1,2]\n",
    "l3 = l1+l2\n",
    "print(l3)"
   ]
  },
  {
   "cell_type": "code",
   "execution_count": null,
   "id": "427fe118-07e9-4f42-bde5-478d834c5954",
   "metadata": {},
   "outputs": [],
   "source": []
  },
  {
   "cell_type": "code",
   "execution_count": 52,
   "id": "4340d238-4d68-474d-8ca6-8a990f11459b",
   "metadata": {},
   "outputs": [
    {
     "name": "stdout",
     "output_type": "stream",
     "text": [
      "[0, 2, 4, 6, 8, 10, 12, 14, 16, 18]\n"
     ]
    }
   ],
   "source": [
    "l = [i for i in range(20)if i%2 == 0]\n",
    "print(l)"
   ]
  },
  {
   "cell_type": "code",
   "execution_count": 53,
   "id": "1a51f7b7-0427-4c3b-b735-d36c6554b38b",
   "metadata": {},
   "outputs": [
    {
     "name": "stdout",
     "output_type": "stream",
     "text": [
      "[18, 16, 14, 12, 10, 8, 6, 4, 2, 0]\n"
     ]
    }
   ],
   "source": [
    "print(l[::-1])"
   ]
  },
  {
   "cell_type": "code",
   "execution_count": null,
   "id": "c18f359e-0fa8-4e72-b7ad-2df5502c7502",
   "metadata": {},
   "outputs": [],
   "source": []
  },
  {
   "cell_type": "code",
   "execution_count": null,
   "id": "dbc38eb3-139c-412b-b3c7-ac6104a395a0",
   "metadata": {},
   "outputs": [],
   "source": []
  },
  {
   "cell_type": "code",
   "execution_count": 55,
   "id": "2b0d54ae-6fb6-4de5-a129-25dd73ce2b9a",
   "metadata": {},
   "outputs": [
    {
     "name": "stdout",
     "output_type": "stream",
     "text": [
      "(1, 2, 3)\n"
     ]
    }
   ],
   "source": [
    "t1 = (1,2,3)\n",
    "print(t1)"
   ]
  },
  {
   "cell_type": "code",
   "execution_count": 57,
   "id": "63fa495c-01c3-4896-b9e1-84f987643d3f",
   "metadata": {},
   "outputs": [
    {
     "name": "stdout",
     "output_type": "stream",
     "text": [
      "(1, 2, 3)\n",
      "1 2 3\n"
     ]
    }
   ],
   "source": [
    "t1 = 1,2,3\n",
    "print(t1)\n",
    "a,b,c = t1\n",
    "print(a,b,c)"
   ]
  },
  {
   "cell_type": "code",
   "execution_count": 59,
   "id": "d3eb1020-bf74-43ef-81cb-56f1e2136332",
   "metadata": {},
   "outputs": [
    {
     "name": "stdout",
     "output_type": "stream",
     "text": [
      "(2,)\n"
     ]
    }
   ],
   "source": [
    "t1 = (2,)\n",
    "print(t1)"
   ]
  },
  {
   "cell_type": "code",
   "execution_count": null,
   "id": "b4a18453-2cb0-4ad9-b479-eeaf7093de1c",
   "metadata": {},
   "outputs": [],
   "source": []
  },
  {
   "cell_type": "code",
   "execution_count": null,
   "id": "7e40764b-b246-476e-ac36-ccfdd79b35fc",
   "metadata": {},
   "outputs": [],
   "source": []
  },
  {
   "cell_type": "markdown",
   "id": "39b01949-c6f8-42ed-a539-3bd4f5a6c0f8",
   "metadata": {},
   "source": [
    "## Sets"
   ]
  },
  {
   "cell_type": "code",
   "execution_count": null,
   "id": "93f65922-17f4-46db-89cc-84f6b9b0c92f",
   "metadata": {},
   "outputs": [],
   "source": []
  },
  {
   "cell_type": "code",
   "execution_count": 79,
   "id": "7103e774-223f-40fe-8e82-5bdd58ca96ab",
   "metadata": {},
   "outputs": [
    {
     "name": "stdout",
     "output_type": "stream",
     "text": [
      "{1, 2, 3, 4}\n"
     ]
    }
   ],
   "source": [
    "s = {1,2,3,4,1}\n",
    "print(s)"
   ]
  },
  {
   "cell_type": "code",
   "execution_count": 68,
   "id": "85ed80b8-0f4d-4f8d-a51c-9b2840451be5",
   "metadata": {},
   "outputs": [
    {
     "data": {
      "text/plain": [
       "{-1, 1, 10, 2, 200, 3, 4, 'hello'}"
      ]
     },
     "execution_count": 68,
     "metadata": {},
     "output_type": "execute_result"
    }
   ],
   "source": [
    "s.add(-1)\n",
    "s"
   ]
  },
  {
   "cell_type": "code",
   "execution_count": 69,
   "id": "94b726b7-6627-49ad-8b24-3daaf581a1da",
   "metadata": {},
   "outputs": [
    {
     "name": "stdout",
     "output_type": "stream",
     "text": [
      "1\n",
      "2\n",
      "3\n",
      "4\n",
      "200\n",
      "10\n",
      "hello\n",
      "-1\n"
     ]
    }
   ],
   "source": [
    "for ele in s:\n",
    "    print(ele)"
   ]
  },
  {
   "cell_type": "code",
   "execution_count": 65,
   "id": "56f398b3-0476-47bf-8d23-a98549f0e4fd",
   "metadata": {},
   "outputs": [
    {
     "data": {
      "text/plain": [
       "False"
      ]
     },
     "execution_count": 65,
     "metadata": {},
     "output_type": "execute_result"
    }
   ],
   "source": [
    "100 in s"
   ]
  },
  {
   "cell_type": "code",
   "execution_count": 80,
   "id": "f21e40ac-fa34-483f-9ec4-c3d0fdf014fe",
   "metadata": {},
   "outputs": [
    {
     "data": {
      "text/plain": [
       "{1, 2, 3, 4}"
      ]
     },
     "execution_count": 80,
     "metadata": {},
     "output_type": "execute_result"
    }
   ],
   "source": [
    "s"
   ]
  },
  {
   "cell_type": "code",
   "execution_count": 81,
   "id": "034b82e3-593c-4c7e-8dc4-207018921f74",
   "metadata": {},
   "outputs": [
    {
     "name": "stdout",
     "output_type": "stream",
     "text": [
      "{1}\n"
     ]
    }
   ],
   "source": [
    "s1 = {1,2,3}\n",
    "s2 = {2,3,4}\n",
    "print(s1.difference(s2))\n",
    "s1."
   ]
  },
  {
   "cell_type": "code",
   "execution_count": 82,
   "id": "e2e24593-c5b2-4aa8-9d8d-f18f6b62f7be",
   "metadata": {},
   "outputs": [
    {
     "data": {
      "text/plain": [
       "{1, 2, 3, 4, 10, 20, 30, 100}"
      ]
     },
     "execution_count": 82,
     "metadata": {},
     "output_type": "execute_result"
    }
   ],
   "source": [
    "s.update({100,10,20,30})\n",
    "s"
   ]
  },
  {
   "cell_type": "code",
   "execution_count": null,
   "id": "05e68005-dd7e-4e52-bb27-19b15a14f78b",
   "metadata": {},
   "outputs": [],
   "source": []
  },
  {
   "cell_type": "code",
   "execution_count": 84,
   "id": "3f876879-4f3d-4718-b71f-5e91f6988472",
   "metadata": {},
   "outputs": [
    {
     "name": "stdout",
     "output_type": "stream",
     "text": [
      "set() <class 'set'>\n"
     ]
    }
   ],
   "source": [
    "s = set()\n",
    "print(s,type(s))"
   ]
  },
  {
   "cell_type": "code",
   "execution_count": null,
   "id": "512f490c-f25e-450f-a818-063bd2975b02",
   "metadata": {},
   "outputs": [],
   "source": []
  },
  {
   "cell_type": "code",
   "execution_count": null,
   "id": "dd4cfb76-76f6-491f-88a3-efaf61f61fb5",
   "metadata": {},
   "outputs": [],
   "source": []
  },
  {
   "cell_type": "markdown",
   "id": "c508956d-624e-4cba-81fd-abfc2edd214b",
   "metadata": {},
   "source": [
    "## Dictonary"
   ]
  },
  {
   "cell_type": "code",
   "execution_count": null,
   "id": "a8565f43-28e6-40a6-a87b-32678b4a8e37",
   "metadata": {},
   "outputs": [],
   "source": []
  },
  {
   "cell_type": "code",
   "execution_count": 85,
   "id": "bb254001-2045-4818-a32a-bc9684c0b4fa",
   "metadata": {},
   "outputs": [
    {
     "name": "stdout",
     "output_type": "stream",
     "text": [
      "{'roll': 25, 'name': 'Divyam', 'age': 20, 'courses': ['aiml', 'oops', 'games']}\n"
     ]
    }
   ],
   "source": [
    "d = {\n",
    "    \"roll\" : 20,\n",
    "    \"name\" : \"Divyam\",\n",
    "    \"age\" : 20,\n",
    "    \"courses\" : [\"aiml\",\"oops\",\"games\"],\n",
    "    \"roll\" : 25\n",
    "}\n",
    "print(d)"
   ]
  },
  {
   "cell_type": "code",
   "execution_count": 87,
   "id": "d6afaa5c-aa1b-4b97-b4e9-5177fd8fe167",
   "metadata": {},
   "outputs": [
    {
     "data": {
      "text/plain": [
       "{'roll': 30, 'name': 'Divyam', 'age': 20, 'courses': ['aiml', 'oops', 'games']}"
      ]
     },
     "execution_count": 87,
     "metadata": {},
     "output_type": "execute_result"
    }
   ],
   "source": [
    "d[\"roll\"] = 30\n",
    "d"
   ]
  },
  {
   "cell_type": "code",
   "execution_count": 88,
   "id": "f366e0da-3ac9-4514-a184-5c71d931987d",
   "metadata": {},
   "outputs": [
    {
     "data": {
      "text/plain": [
       "{'roll': 30,\n",
       " 'name': 'Divyam',\n",
       " 'age': 20,\n",
       " 'courses': ['aiml', 'oops', 'games'],\n",
       " 'college': 'chitkara'}"
      ]
     },
     "execution_count": 88,
     "metadata": {},
     "output_type": "execute_result"
    }
   ],
   "source": [
    "d[\"college\"] = \"chitkara\"\n",
    "d"
   ]
  },
  {
   "cell_type": "code",
   "execution_count": 89,
   "id": "c91ce873-5876-43ea-96ea-263e34420d91",
   "metadata": {},
   "outputs": [
    {
     "data": {
      "text/plain": [
       "True"
      ]
     },
     "execution_count": 89,
     "metadata": {},
     "output_type": "execute_result"
    }
   ],
   "source": [
    "\"roll\" in d"
   ]
  },
  {
   "cell_type": "code",
   "execution_count": 91,
   "id": "56ee9d17-59ee-4a6b-94d7-fbb8d9650e2d",
   "metadata": {},
   "outputs": [],
   "source": [
    "d.get(\"rol\")"
   ]
  },
  {
   "cell_type": "code",
   "execution_count": 92,
   "id": "f8731bb3-7cf6-4798-a458-c4a4d3ed8dfa",
   "metadata": {},
   "outputs": [
    {
     "data": {
      "text/plain": [
       "'chitkara'"
      ]
     },
     "execution_count": 92,
     "metadata": {},
     "output_type": "execute_result"
    }
   ],
   "source": [
    "d.pop(\"college\")"
   ]
  },
  {
   "cell_type": "code",
   "execution_count": 93,
   "id": "8c14f680-c100-4a61-a503-ac5c3e818798",
   "metadata": {},
   "outputs": [
    {
     "data": {
      "text/plain": [
       "{'roll': 30, 'name': 'Divyam', 'age': 20, 'courses': ['aiml', 'oops', 'games']}"
      ]
     },
     "execution_count": 93,
     "metadata": {},
     "output_type": "execute_result"
    }
   ],
   "source": [
    "d"
   ]
  },
  {
   "cell_type": "code",
   "execution_count": 94,
   "id": "998e49a6-a029-449c-941d-0df6275efff9",
   "metadata": {},
   "outputs": [
    {
     "data": {
      "text/plain": [
       "('courses', ['aiml', 'oops', 'games'])"
      ]
     },
     "execution_count": 94,
     "metadata": {},
     "output_type": "execute_result"
    }
   ],
   "source": [
    "d.popitem()"
   ]
  },
  {
   "cell_type": "code",
   "execution_count": 95,
   "id": "565ce840-f609-4c86-a400-82dbf4c27b64",
   "metadata": {},
   "outputs": [
    {
     "data": {
      "text/plain": [
       "dict_keys(['roll', 'name', 'age'])"
      ]
     },
     "execution_count": 95,
     "metadata": {},
     "output_type": "execute_result"
    }
   ],
   "source": [
    "d.keys()"
   ]
  },
  {
   "cell_type": "code",
   "execution_count": 96,
   "id": "e6a78772-9c2b-415d-b2ba-0731a03d7b2f",
   "metadata": {},
   "outputs": [
    {
     "data": {
      "text/plain": [
       "dict_values([30, 'Divyam', 20])"
      ]
     },
     "execution_count": 96,
     "metadata": {},
     "output_type": "execute_result"
    }
   ],
   "source": [
    "d.values()"
   ]
  },
  {
   "cell_type": "code",
   "execution_count": 98,
   "id": "b20fa7f0-4346-44c9-918c-ce1691a89e21",
   "metadata": {},
   "outputs": [
    {
     "name": "stdout",
     "output_type": "stream",
     "text": [
      "roll 30\n",
      "name Divyam\n",
      "age 20\n"
     ]
    }
   ],
   "source": [
    "for k in d:\n",
    "    print(k,d[k])"
   ]
  },
  {
   "cell_type": "code",
   "execution_count": 99,
   "id": "e424c99c-43ff-4f15-b4f2-00bb2c235350",
   "metadata": {},
   "outputs": [
    {
     "data": {
      "text/plain": [
       "dict_items([('roll', 30), ('name', 'Divyam'), ('age', 20)])"
      ]
     },
     "execution_count": 99,
     "metadata": {},
     "output_type": "execute_result"
    }
   ],
   "source": [
    "d.items()"
   ]
  },
  {
   "cell_type": "code",
   "execution_count": 101,
   "id": "c2ad29f9-d8ea-4a06-a952-dd098a0aad9a",
   "metadata": {},
   "outputs": [
    {
     "name": "stdout",
     "output_type": "stream",
     "text": [
      "roll 30\n",
      "name Divyam\n",
      "age 20\n"
     ]
    }
   ],
   "source": [
    "for k,v in d.items():\n",
    "    print(k,v)"
   ]
  },
  {
   "cell_type": "code",
   "execution_count": 102,
   "id": "7b6b2c1f-16c1-469a-9b17-156a3239e0f1",
   "metadata": {},
   "outputs": [
    {
     "data": {
      "text/plain": [
       "{'roll': 30,\n",
       " 'name': 'Divyam',\n",
       " 'age': 20,\n",
       " 'country': 'India',\n",
       " 'City': 'rajpura'}"
      ]
     },
     "execution_count": 102,
     "metadata": {},
     "output_type": "execute_result"
    }
   ],
   "source": [
    "d.update({\"country\":\"India\",\"City\":\"rajpura\"})\n",
    "d"
   ]
  },
  {
   "cell_type": "code",
   "execution_count": 107,
   "id": "d5d387be-a05a-43b1-bca8-7394090f42f7",
   "metadata": {},
   "outputs": [
    {
     "data": {
      "text/plain": [
       "1"
      ]
     },
     "execution_count": 107,
     "metadata": {},
     "output_type": "execute_result"
    }
   ],
   "source": [
    "s = {1,2,3,4}\n",
    "s.pop()"
   ]
  },
  {
   "cell_type": "code",
   "execution_count": null,
   "id": "ed6ed164-e9f1-4e22-beaa-ed7314d630d8",
   "metadata": {},
   "outputs": [],
   "source": []
  },
  {
   "cell_type": "code",
   "execution_count": null,
   "id": "95ca258b-e459-493f-a0aa-043b36b5d92f",
   "metadata": {},
   "outputs": [],
   "source": []
  },
  {
   "cell_type": "markdown",
   "id": "cfa8300d-627b-4830-9d15-df7d0fc9d115",
   "metadata": {},
   "source": [
    "## functions\n",
    "- defination\n",
    "- parameters (Pass by Value)\n",
    "- return / Multiple Return\n",
    "- default arguments\n",
    "- keyword arguments\n",
    "- Arbitrary arguments (*args and **kwargs)\n",
    "- DocString (__doc__)\n",
    "- Function within function\n",
    "- function as arguments\n",
    "- Anonymous Function\n",
    "- Recursion"
   ]
  },
  {
   "cell_type": "code",
   "execution_count": 132,
   "id": "ce3bf94f-c149-4e8d-b493-b5c5874ad275",
   "metadata": {},
   "outputs": [],
   "source": [
    "def add(p,q,/,*,x,y = 100):\n",
    "    a = x+y\n",
    "    b = x-y\n",
    "    return a,b,p*q"
   ]
  },
  {
   "cell_type": "code",
   "execution_count": 133,
   "id": "5a9b0fe1-974a-4262-b2fb-7e94282a0d6a",
   "metadata": {},
   "outputs": [
    {
     "name": "stdout",
     "output_type": "stream",
     "text": [
      "30 10 20000\n",
      "(200, 0, 200)\n"
     ]
    }
   ],
   "source": [
    "a,b,c = add(100,200,y = 10,x = 20)\n",
    "print(a,b,c)\n",
    "print(add(10,20,x = 100))"
   ]
  },
  {
   "cell_type": "code",
   "execution_count": 110,
   "id": "fa9b7b91-651f-4d43-ab06-90f48ad06f97",
   "metadata": {},
   "outputs": [
    {
     "name": "stdout",
     "output_type": "stream",
     "text": [
      "<function add at 0x000001CAC0B87D80> <class 'function'>\n"
     ]
    }
   ],
   "source": [
    "print(add,type(add))"
   ]
  },
  {
   "cell_type": "code",
   "execution_count": null,
   "id": "2596f843-693e-443c-a904-0c9a9183702f",
   "metadata": {},
   "outputs": [],
   "source": []
  },
  {
   "cell_type": "code",
   "execution_count": null,
   "id": "25d5f7b9-f95e-4ead-886c-1a018e871e7b",
   "metadata": {},
   "outputs": [],
   "source": []
  },
  {
   "cell_type": "code",
   "execution_count": 141,
   "id": "591dc453-61cc-4901-b03a-4b996f12b3b4",
   "metadata": {},
   "outputs": [],
   "source": [
    "def pt(c,**kwrgs):\n",
    "    print(kwrgs)\n",
    "    print(c)"
   ]
  },
  {
   "cell_type": "code",
   "execution_count": 142,
   "id": "7a25193d-ddc0-470c-991c-fe551460c0af",
   "metadata": {},
   "outputs": [
    {
     "name": "stdout",
     "output_type": "stream",
     "text": [
      "{'a': 1, 'b': 2, 'd': 4, 'e': 5}\n",
      "3\n",
      "{'st': 'Hello', 'x': 10}\n",
      "(2+3j)\n"
     ]
    }
   ],
   "source": [
    "pt(a = 1,b = 2,c = 3,d = 4,e = 5)\n",
    "pt(st = \"Hello\",x = 10,c = 2+3j)"
   ]
  },
  {
   "cell_type": "code",
   "execution_count": 136,
   "id": "4e76ca10-1081-4ffc-a11f-a98a527a8d8f",
   "metadata": {},
   "outputs": [
    {
     "name": "stdout",
     "output_type": "stream",
     "text": [
      "()\n"
     ]
    }
   ],
   "source": [
    "pt()"
   ]
  },
  {
   "cell_type": "code",
   "execution_count": 143,
   "id": "8f41f8ba-ed9f-458f-99c6-e172c5f5143b",
   "metadata": {},
   "outputs": [
    {
     "name": "stdout",
     "output_type": "stream",
     "text": [
      "Hi\n"
     ]
    }
   ],
   "source": [
    "def fn():\n",
    "    \"This is a Demo Function\"\n",
    "    print(\"Hi\")\n",
    "fn()"
   ]
  },
  {
   "cell_type": "code",
   "execution_count": 144,
   "id": "d025c4b7-e321-4898-bde6-7202df476466",
   "metadata": {},
   "outputs": [
    {
     "name": "stdout",
     "output_type": "stream",
     "text": [
      "This is a Demo Function\n"
     ]
    }
   ],
   "source": [
    "print(fn.__doc__)"
   ]
  },
  {
   "cell_type": "code",
   "execution_count": 145,
   "id": "ca5a9078-c204-43cf-9366-b8ab3177d87c",
   "metadata": {},
   "outputs": [
    {
     "name": "stdout",
     "output_type": "stream",
     "text": [
      "max(iterable, *[, default=obj, key=func]) -> value\n",
      "max(arg1, arg2, *args, *[, key=func]) -> value\n",
      "\n",
      "With a single iterable argument, return its biggest item. The\n",
      "default keyword-only argument specifies an object to return if\n",
      "the provided iterable is empty.\n",
      "With two or more arguments, return the largest argument.\n"
     ]
    }
   ],
   "source": [
    "print(max.__doc__)"
   ]
  },
  {
   "cell_type": "code",
   "execution_count": 146,
   "id": "3f62e30f-2f8c-464a-92a0-d44b92704f2f",
   "metadata": {},
   "outputs": [
    {
     "data": {
      "text/plain": [
       "\u001b[1;31mDocstring:\u001b[0m\n",
       "max(iterable, *[, default=obj, key=func]) -> value\n",
       "max(arg1, arg2, *args, *[, key=func]) -> value\n",
       "\n",
       "With a single iterable argument, return its biggest item. The\n",
       "default keyword-only argument specifies an object to return if\n",
       "the provided iterable is empty.\n",
       "With two or more arguments, return the largest argument.\n",
       "\u001b[1;31mType:\u001b[0m      builtin_function_or_method"
      ]
     },
     "metadata": {},
     "output_type": "display_data"
    }
   ],
   "source": [
    "max?"
   ]
  },
  {
   "cell_type": "code",
   "execution_count": null,
   "id": "e75bf129-6a3b-41e1-80f5-a73feb24a6e8",
   "metadata": {},
   "outputs": [],
   "source": []
  },
  {
   "cell_type": "code",
   "execution_count": null,
   "id": "08e7f62e-8dc9-4af1-b5bc-e541a44fa916",
   "metadata": {},
   "outputs": [],
   "source": []
  },
  {
   "cell_type": "code",
   "execution_count": 152,
   "id": "2636d7b0-9d4a-45b5-ba91-126dad95e264",
   "metadata": {},
   "outputs": [
    {
     "name": "stdout",
     "output_type": "stream",
     "text": [
      "In f2\n"
     ]
    }
   ],
   "source": [
    "def f1():\n",
    "    #print(\"Hi\")\n",
    "    def f2():\n",
    "        print(\"In f2\")\n",
    "    #f2()\n",
    "    #print(\"bye\")\n",
    "    return f2\n",
    "\n",
    "f2 = f1()\n",
    "f2()"
   ]
  },
  {
   "cell_type": "code",
   "execution_count": null,
   "id": "9c17473b-cfd8-429b-8374-d6573c7922fa",
   "metadata": {},
   "outputs": [],
   "source": []
  },
  {
   "cell_type": "code",
   "execution_count": 153,
   "id": "1ff4f273-9c9e-4f20-9104-22381cbc8d36",
   "metadata": {},
   "outputs": [],
   "source": [
    "def cal(fn,x,y):\n",
    "    ans = fn(x,y)\n",
    "    print(ans)"
   ]
  },
  {
   "cell_type": "code",
   "execution_count": 154,
   "id": "e168044d-52c8-4f41-8965-7234c0256fbf",
   "metadata": {},
   "outputs": [],
   "source": [
    "def add(x,y):\n",
    "    return x+y\n",
    "def sub(x,y):\n",
    "    return x-y"
   ]
  },
  {
   "cell_type": "code",
   "execution_count": 156,
   "id": "4357c7b8-20b2-40d8-965f-66e864de4828",
   "metadata": {},
   "outputs": [
    {
     "name": "stdout",
     "output_type": "stream",
     "text": [
      "30\n",
      "10\n"
     ]
    }
   ],
   "source": [
    "cal(add,10,20)\n",
    "cal(sub,50,40)"
   ]
  },
  {
   "cell_type": "code",
   "execution_count": 157,
   "id": "3fad81cd-092c-4d24-8f4d-d38e7bcf4367",
   "metadata": {},
   "outputs": [
    {
     "data": {
      "text/plain": [
       "100"
      ]
     },
     "execution_count": 157,
     "metadata": {},
     "output_type": "execute_result"
    }
   ],
   "source": [
    "sq = lambda x: x*x\n",
    "sq(10)"
   ]
  },
  {
   "cell_type": "code",
   "execution_count": 158,
   "id": "809a5f3f-53be-4d04-b81e-98b27f152d4f",
   "metadata": {},
   "outputs": [
    {
     "name": "stdout",
     "output_type": "stream",
     "text": [
      "200\n"
     ]
    }
   ],
   "source": [
    "cal(lambda x,y: x*y,10,20)"
   ]
  },
  {
   "cell_type": "code",
   "execution_count": null,
   "id": "8b99d76f-470a-4044-9e8c-dd702be20f4f",
   "metadata": {},
   "outputs": [],
   "source": []
  }
 ],
 "metadata": {
  "kernelspec": {
   "display_name": "Python 3 (ipykernel)",
   "language": "python",
   "name": "python3"
  },
  "language_info": {
   "codemirror_mode": {
    "name": "ipython",
    "version": 3
   },
   "file_extension": ".py",
   "mimetype": "text/x-python",
   "name": "python",
   "nbconvert_exporter": "python",
   "pygments_lexer": "ipython3",
   "version": "3.12.1"
  }
 },
 "nbformat": 4,
 "nbformat_minor": 5
}
