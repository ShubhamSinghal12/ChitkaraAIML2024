{
 "cells": [
  {
   "cell_type": "code",
   "execution_count": 1,
   "id": "7c216c55-4648-4e72-9b4b-30ad2ce5a0e2",
   "metadata": {},
   "outputs": [],
   "source": [
    "import numpy as np\n",
    "import matplotlib.pyplot as plt\n",
    "import random\n",
    "from sklearn.model_selection import train_test_split\n",
    "from sklearn.linear_model import LinearRegression"
   ]
  },
  {
   "cell_type": "code",
   "execution_count": 2,
   "id": "66b56bd1-3d50-404d-beda-7c819c391e55",
   "metadata": {},
   "outputs": [],
   "source": [
    "X = np.array(random.sample(range(99999),1000))"
   ]
  },
  {
   "cell_type": "code",
   "execution_count": 6,
   "id": "3fb6baf3-1d90-46e0-802e-ae1f6473935d",
   "metadata": {},
   "outputs": [],
   "source": [
    "u = X.mean()\n",
    "std = X.std()\n",
    "X = (X-u)/std\n",
    "Y = 2*X+11\n",
    "\n",
    "X = X.reshape((1000,1))\n",
    "\n",
    "X_train,X_test, Y_train,Y_test = train_test_split(X,Y,test_size=0.2)"
   ]
  },
  {
   "cell_type": "code",
   "execution_count": 7,
   "id": "aa1048ea-5a8e-4052-a3e1-384ec0206454",
   "metadata": {},
   "outputs": [
    {
     "data": {
      "text/plain": [
       "<matplotlib.collections.PathCollection at 0x232ce53f7a0>"
      ]
     },
     "execution_count": 7,
     "metadata": {},
     "output_type": "execute_result"
    },
    {
     "data": {
      "image/png": "[encoded data removed]",
      "text/plain": [
       "<Figure size 640x480 with 1 Axes>"
      ]
     },
     "metadata": {},
     "output_type": "display_data"
    }
   ],
   "source": [
    "plt.scatter(X_train,Y_train)"
   ]
  },
  {
   "cell_type": "code",
   "execution_count": 8,
   "id": "d4c94393-7303-4186-a099-24ef404a537d",
   "metadata": {},
   "outputs": [
    {
     "name": "stdout",
     "output_type": "stream",
     "text": [
      "[2.]\n",
      "11.000000000000002\n"
     ]
    }
   ],
   "source": [
    "regM = LinearRegression()\n",
    "regM.fit(X_train,Y_train)\n",
    "print(regM.coef_)\n",
    "print(regM.intercept_)"
   ]
  },
  {
   "cell_type": "code",
   "execution_count": 9,
   "id": "70b53679-9ee8-4b4e-bad2-fe1c1202c553",
   "metadata": {},
   "outputs": [],
   "source": [
    "y_p = regM.predict(X_test)"
   ]
  },
  {
   "cell_type": "code",
   "execution_count": 11,
   "id": "c40f5fb5-b261-45f2-8482-1516a6236bff",
   "metadata": {},
   "outputs": [
    {
     "name": "stdout",
     "output_type": "stream",
     "text": [
      "MAE 1.7674750552032492e-15\n",
      "MSE 4.1178539252536814e-30\n",
      "RMSE 2.029249596588276e-15\n"
     ]
    }
   ],
   "source": [
    "from sklearn.metrics import mean_absolute_error,mean_squared_error,root_mean_squared_error\n",
    "\n",
    "print(\"MAE\" , mean_absolute_error(y_p,Y_test))\n",
    "print(\"MSE\" , mean_squared_error(y_p,Y_test))\n",
    "print(\"RMSE\" , root_mean_squared_error(y_p,Y_test))"
   ]
  },
  {
   "cell_type": "code",
   "execution_count": 12,
   "id": "65886870-6124-4033-b423-6fd2126c7fad",
   "metadata": {},
   "outputs": [
    {
     "data": {
      "text/plain": [
       "1.0"
      ]
     },
     "execution_count": 12,
     "metadata": {},
     "output_type": "execute_result"
    }
   ],
   "source": [
    "regM.score(X_test,Y_test)"
   ]
  },
  {
   "cell_type": "code",
   "execution_count": null,
   "id": "ce199f37-7abc-4d33-8b6d-2754e5f12b2f",
   "metadata": {},
   "outputs": [],
   "source": []
  }
 ],
 "metadata": {
  "kernelspec": {
   "display_name": "Python 3 (ipykernel)",
   "language": "python",
   "name": "python3"
  },
  "language_info": {
   "codemirror_mode": {
    "name": "ipython",
    "version": 3
   },
   "file_extension": ".py",
   "mimetype": "text/x-python",
   "name": "python",
   "nbconvert_exporter": "python",
   "pygments_lexer": "ipython3",
   "version": "3.12.1"
  }
 },
 "nbformat": 4,
 "nbformat_minor": 5
}
