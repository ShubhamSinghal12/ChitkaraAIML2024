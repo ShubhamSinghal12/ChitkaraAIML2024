{
 "cells": [
  {
   "cell_type": "code",
   "execution_count": 1,
   "id": "f1aa142b-ef79-4a4a-a88c-8de959dad256",
   "metadata": {},
   "outputs": [],
   "source": [
    "import numpy as np\n",
    "import matplotlib.pyplot as plt\n",
    "import pandas as pd\n",
    "from sklearn.model_selection import train_test_split\n",
    "from sklearn.linear_model import LinearRegression"
   ]
  },
  {
   "cell_type": "code",
   "execution_count": 10,
   "id": "b1d23eb6-a575-485e-8695-46411d30f2ad",
   "metadata": {},
   "outputs": [],
   "source": [
    "data = pd.read_csv(r'C:\\Users\\Pc\\Downloads\\archive (1)\\HousingData.csv')\n",
    "data.dropna(inplace=True)"
   ]
  },
  {
   "cell_type": "code",
   "execution_count": 11,
   "id": "cd555349-06b1-447f-9ecd-bc7db366d661",
   "metadata": {},
   "outputs": [],
   "source": [
    "X = data.iloc[:,:-1]\n",
    "Y = data.iloc[:,-1]"
   ]
  },
  {
   "cell_type": "code",
   "execution_count": 12,
   "id": "10fb2e08-c307-41db-bd9b-ec37d8427bdc",
   "metadata": {},
   "outputs": [],
   "source": [
    "X_train,X_test, Y_train,Y_test = train_test_split(X,Y,test_size=0.2)"
   ]
  },
  {
   "cell_type": "code",
   "execution_count": 13,
   "id": "373207a3-3470-4a71-b47d-71a0a7b4df4a",
   "metadata": {},
   "outputs": [
    {
     "name": "stdout",
     "output_type": "stream",
     "text": [
      "[-1.02545662e-01  4.00990770e-02 -4.92971376e-03  2.41779608e+00\n",
      " -1.90080525e+01  4.40245502e+00 -2.07589301e-02 -1.46211231e+00\n",
      "  2.84842915e-01 -1.44226079e-02 -9.32907269e-01  9.39812756e-03\n",
      " -3.39422621e-01]\n",
      "33.44335708255199\n"
     ]
    }
   ],
   "source": [
    "regM = LinearRegression()\n",
    "regM.fit(X_train,Y_train)\n",
    "print(regM.coef_)\n",
    "print(regM.intercept_)"
   ]
  },
  {
   "cell_type": "code",
   "execution_count": 14,
   "id": "f8758256-106d-4c53-b0ac-bae98d82a493",
   "metadata": {},
   "outputs": [],
   "source": [
    "y_p = regM.predict(X_test)"
   ]
  },
  {
   "cell_type": "code",
   "execution_count": 15,
   "id": "55c383d5-7f6e-4ee0-ace6-15c7ee0211ea",
   "metadata": {},
   "outputs": [
    {
     "name": "stdout",
     "output_type": "stream",
     "text": [
      "MAE 3.3179716576388\n",
      "MSE 27.224323689865518\n",
      "RMSE 5.217693330377468\n"
     ]
    }
   ],
   "source": [
    "from sklearn.metrics import mean_absolute_error,mean_squared_error,root_mean_squared_error\n",
    "\n",
    "print(\"MAE\" , mean_absolute_error(y_p,Y_test))\n",
    "print(\"MSE\" , mean_squared_error(y_p,Y_test))\n",
    "print(\"RMSE\" , root_mean_squared_error(y_p,Y_test))"
   ]
  },
  {
   "cell_type": "code",
   "execution_count": 16,
   "id": "f3ca3ef6-fa76-4624-a526-a4f692086cce",
   "metadata": {},
   "outputs": [
    {
     "data": {
      "text/plain": [
       "0.638864125181643"
      ]
     },
     "execution_count": 16,
     "metadata": {},
     "output_type": "execute_result"
    }
   ],
   "source": [
    "regM.score(X_test,Y_test)"
   ]
  },
  {
   "cell_type": "code",
   "execution_count": null,
   "id": "72e7ec6a-941c-47e3-8a77-aaa36fc05b11",
   "metadata": {},
   "outputs": [],
   "source": []
  }
 ],
 "metadata": {
  "kernelspec": {
   "display_name": "Python 3 (ipykernel)",
   "language": "python",
   "name": "python3"
  },
  "language_info": {
   "codemirror_mode": {
    "name": "ipython",
    "version": 3
   },
   "file_extension": ".py",
   "mimetype": "text/x-python",
   "name": "python",
   "nbconvert_exporter": "python",
   "pygments_lexer": "ipython3",
   "version": "3.12.1"
  }
 },
 "nbformat": 4,
 "nbformat_minor": 5
}
