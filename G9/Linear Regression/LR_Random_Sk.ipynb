{
 "cells": [
  {
   "cell_type": "code",
   "execution_count": 1,
   "id": "a54f489f-27bb-40fe-ba3f-b57f76fdca33",
   "metadata": {},
   "outputs": [],
   "source": [
    "import numpy as np\n",
    "import matplotlib.pyplot as plt\n",
    "import random\n",
    "from sklearn.model_selection import train_test_split\n",
    "from sklearn.linear_model import LinearRegression"
   ]
  },
  {
   "cell_type": "code",
   "execution_count": null,
   "id": "fa7197a1-a80f-457b-93fe-5cd132d69185",
   "metadata": {},
   "outputs": [],
   "source": []
  },
  {
   "cell_type": "code",
   "execution_count": 2,
   "id": "7ddbe179-35fc-4859-ba48-53fc077e3b1c",
   "metadata": {},
   "outputs": [],
   "source": [
    "X = np.array(random.sample(range(99999),1000))"
   ]
  },
  {
   "cell_type": "code",
   "execution_count": 8,
   "id": "9142a444-145c-42b1-a091-a15f5c7f2bd0",
   "metadata": {},
   "outputs": [],
   "source": [
    "u = X.mean()\n",
    "std = X.std()\n",
    "X = (X-u)/std\n",
    "Y = 2*X+11\n",
    "X = X.reshape((1000,1))\n",
    "X_train,X_test, Y_train,Y_test = train_test_split(X,Y,test_size=0.2)"
   ]
  },
  {
   "cell_type": "code",
   "execution_count": 9,
   "id": "741faee5-7a97-496f-8f81-f34075871ffd",
   "metadata": {},
   "outputs": [
    {
     "data": {
      "text/plain": [
       "<matplotlib.collections.PathCollection at 0x24cf397fb90>"
      ]
     },
     "execution_count": 9,
     "metadata": {},
     "output_type": "execute_result"
    },
    {
     "data": {
      "image/png": "[encoded data removed]",
      "text/plain": [
       "<Figure size 640x480 with 1 Axes>"
      ]
     },
     "metadata": {},
     "output_type": "display_data"
    }
   ],
   "source": [
    "plt.scatter(X_train,Y_train)"
   ]
  },
  {
   "cell_type": "code",
   "execution_count": null,
   "id": "66fd7e69-6ec7-4c1c-85a8-9c9119a32f1f",
   "metadata": {},
   "outputs": [],
   "source": []
  },
  {
   "cell_type": "code",
   "execution_count": 10,
   "id": "eac63673-91ab-4454-ad31-24ee1236c469",
   "metadata": {},
   "outputs": [
    {
     "name": "stdout",
     "output_type": "stream",
     "text": [
      "[[2.]]\n",
      "[11.]\n"
     ]
    }
   ],
   "source": [
    "regM = LinearRegression()\n",
    "regM.fit(X_train,Y_train)\n",
    "print(regM.coef_)\n",
    "print(regM.intercept_)"
   ]
  },
  {
   "cell_type": "code",
   "execution_count": 12,
   "id": "1cfee368-ede1-4570-8ad2-8bf2266f4017",
   "metadata": {},
   "outputs": [],
   "source": [
    "y_p = regM.predict(X_test)\n",
    "# y_p"
   ]
  },
  {
   "cell_type": "code",
   "execution_count": 13,
   "id": "7dd9762d-0217-45e5-8053-1a02bb02b6f2",
   "metadata": {},
   "outputs": [
    {
     "name": "stdout",
     "output_type": "stream",
     "text": [
      "MAE 2.886579864025407e-16\n",
      "MSE 5.009266748153425e-31\n",
      "RMSE 7.077617359078848e-16\n"
     ]
    }
   ],
   "source": [
    "from sklearn.metrics import mean_absolute_error,mean_squared_error,root_mean_squared_error\n",
    "\n",
    "print(\"MAE\" , mean_absolute_error(y_p,Y_test))\n",
    "print(\"MSE\" , mean_squared_error(y_p,Y_test))\n",
    "print(\"RMSE\" , root_mean_squared_error(y_p,Y_test))"
   ]
  },
  {
   "cell_type": "code",
   "execution_count": 14,
   "id": "2da0cbdd-8c69-4ee0-b629-696320f61581",
   "metadata": {},
   "outputs": [
    {
     "data": {
      "text/plain": [
       "1.0"
      ]
     },
     "execution_count": 14,
     "metadata": {},
     "output_type": "execute_result"
    }
   ],
   "source": [
    "regM.score(X_test,Y_test)"
   ]
  },
  {
   "cell_type": "code",
   "execution_count": null,
   "id": "1f382254-50c8-422e-81dd-1313d8f3fd3b",
   "metadata": {},
   "outputs": [],
   "source": []
  }
 ],
 "metadata": {
  "kernelspec": {
   "display_name": "Python 3 (ipykernel)",
   "language": "python",
   "name": "python3"
  },
  "language_info": {
   "codemirror_mode": {
    "name": "ipython",
    "version": 3
   },
   "file_extension": ".py",
   "mimetype": "text/x-python",
   "name": "python",
   "nbconvert_exporter": "python",
   "pygments_lexer": "ipython3",
   "version": "3.12.1"
  }
 },
 "nbformat": 4,
 "nbformat_minor": 5
}
