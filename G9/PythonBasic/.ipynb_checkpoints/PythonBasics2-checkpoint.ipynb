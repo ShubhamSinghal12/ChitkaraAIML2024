{
 "cells": [
  {
   "cell_type": "markdown",
   "id": "0b59ea73-1547-40f6-b13c-f34c96b0d042",
   "metadata": {},
   "source": [
    "## functions\n",
    "- defination\n",
    "- parameters (Pass by Value)\n",
    "- return / Multiple Return\n",
    "- default arguments\n",
    "- keyword arguments\n",
    "- Arbitrary arguments (*args and **kwargs)\n",
    "- DocString (__doc__)\n",
    "- Function within function\n",
    "- function as arguments\n",
    "- Anonymous Function\n",
    "- Recursion"
   ]
  },
  {
   "cell_type": "code",
   "execution_count": null,
   "id": "a148cf81-2d62-4a6b-a433-2399eb0095d3",
   "metadata": {},
   "outputs": [],
   "source": []
  },
  {
   "cell_type": "code",
   "execution_count": 26,
   "id": "a737391c-5e16-4260-b0ea-00811b314563",
   "metadata": {},
   "outputs": [],
   "source": [
    "def add(p,q,/,*,x,y = 200):\n",
    "    a = x+y\n",
    "    b = x-y\n",
    "    return a,b,p*q"
   ]
  },
  {
   "cell_type": "code",
   "execution_count": 27,
   "id": "87aab114-e784-4a83-9954-c75eaedc887a",
   "metadata": {},
   "outputs": [
    {
     "name": "stdout",
     "output_type": "stream",
     "text": [
      "30 10 200\n",
      "(300, -100, 600)\n"
     ]
    }
   ],
   "source": [
    "a,b,c = add(10,20,y = 10,x = 20)\n",
    "print(a,b,c)\n",
    "print(add(20,30,x = 100))"
   ]
  },
  {
   "cell_type": "code",
   "execution_count": 6,
   "id": "298b7b58-f2b1-4a21-b58a-6016d5733472",
   "metadata": {},
   "outputs": [
    {
     "name": "stdout",
     "output_type": "stream",
     "text": [
      "<function add at 0x000001C55ABDD4E0> <class 'function'>\n"
     ]
    }
   ],
   "source": [
    "print(add,type(add))"
   ]
  },
  {
   "cell_type": "code",
   "execution_count": null,
   "id": "88b0f458-9387-49bc-b35c-f15ed2209a23",
   "metadata": {},
   "outputs": [],
   "source": []
  },
  {
   "cell_type": "code",
   "execution_count": 34,
   "id": "bdd42b47-be08-4dc9-a3e1-92e2bcfe914d",
   "metadata": {},
   "outputs": [],
   "source": [
    "def pt(**kwargs):\n",
    "    print(kwargs)"
   ]
  },
  {
   "cell_type": "code",
   "execution_count": 35,
   "id": "e2fb0753-5065-45af-b1ee-788780c83459",
   "metadata": {},
   "outputs": [
    {
     "name": "stdout",
     "output_type": "stream",
     "text": [
      "{'a': 1, 'b': 2, 'c': 3, 'd': 4, 'e': 5}\n",
      "{'st': 'Hello', 'num': 10, 'com': (1+2j)}\n",
      "{'x': 10}\n"
     ]
    }
   ],
   "source": [
    "pt(a = 1,b = 2,c = 3,d = 4,e = 5)\n",
    "pt(st = \"Hello\",num = 10,com = 1+2j)\n",
    "pt(x = 10)"
   ]
  },
  {
   "cell_type": "code",
   "execution_count": null,
   "id": "0e5e1af6-bc12-4f81-b842-cd89a4496d33",
   "metadata": {},
   "outputs": [],
   "source": []
  },
  {
   "cell_type": "code",
   "execution_count": 36,
   "id": "54a544c9-47d6-4534-8aac-97f32ba59923",
   "metadata": {},
   "outputs": [],
   "source": [
    "def fn():\n",
    "    \"This is a Demo Function\"\n",
    "    print('Hi')"
   ]
  },
  {
   "cell_type": "code",
   "execution_count": 37,
   "id": "ff9d15d2-fb16-475f-8a6b-4a2bf5a8d3c7",
   "metadata": {},
   "outputs": [
    {
     "name": "stdout",
     "output_type": "stream",
     "text": [
      "Hi\n"
     ]
    }
   ],
   "source": [
    "fn()"
   ]
  },
  {
   "cell_type": "code",
   "execution_count": 38,
   "id": "a72849c9-6cc5-4dbd-946e-942231d33bc6",
   "metadata": {},
   "outputs": [
    {
     "name": "stdout",
     "output_type": "stream",
     "text": [
      "This is a Demo Function\n"
     ]
    }
   ],
   "source": [
    "print(fn.__doc__)"
   ]
  },
  {
   "cell_type": "code",
   "execution_count": 39,
   "id": "9e8f276c-6d4a-4c59-9801-f2511410af51",
   "metadata": {},
   "outputs": [
    {
     "name": "stdout",
     "output_type": "stream",
     "text": [
      "max(iterable, *[, default=obj, key=func]) -> value\n",
      "max(arg1, arg2, *args, *[, key=func]) -> value\n",
      "\n",
      "With a single iterable argument, return its biggest item. The\n",
      "default keyword-only argument specifies an object to return if\n",
      "the provided iterable is empty.\n",
      "With two or more arguments, return the largest argument.\n"
     ]
    }
   ],
   "source": [
    "print(max.__doc__)"
   ]
  },
  {
   "cell_type": "code",
   "execution_count": 40,
   "id": "b406a684-acea-42af-89bf-d5a1af316986",
   "metadata": {},
   "outputs": [
    {
     "data": {
      "text/plain": [
       "\u001b[1;31mDocstring:\u001b[0m\n",
       "max(iterable, *[, default=obj, key=func]) -> value\n",
       "max(arg1, arg2, *args, *[, key=func]) -> value\n",
       "\n",
       "With a single iterable argument, return its biggest item. The\n",
       "default keyword-only argument specifies an object to return if\n",
       "the provided iterable is empty.\n",
       "With two or more arguments, return the largest argument.\n",
       "\u001b[1;31mType:\u001b[0m      builtin_function_or_method"
      ]
     },
     "metadata": {},
     "output_type": "display_data"
    }
   ],
   "source": [
    "max?"
   ]
  },
  {
   "cell_type": "code",
   "execution_count": null,
   "id": "cad4ac47-6a1e-4555-9cf7-ceca284c2afd",
   "metadata": {},
   "outputs": [],
   "source": []
  },
  {
   "cell_type": "code",
   "execution_count": null,
   "id": "c98c9a8c-a245-4d37-8db9-31c74a6fc813",
   "metadata": {},
   "outputs": [],
   "source": []
  },
  {
   "cell_type": "code",
   "execution_count": 46,
   "id": "21699e9a-5761-4330-b11f-e76fdea00967",
   "metadata": {},
   "outputs": [
    {
     "name": "stdout",
     "output_type": "stream",
     "text": [
      "Hi\n",
      "In f2\n",
      "Bye\n",
      "In f2\n"
     ]
    }
   ],
   "source": [
    "def f1():\n",
    "    print(\"Hi\")\n",
    "    def f2():\n",
    "        print(\"In f2\")\n",
    "    f2()\n",
    "    print(\"Bye\")\n",
    "    return f2\n",
    "\n",
    "fn2 = f1()\n",
    "fn2()"
   ]
  },
  {
   "cell_type": "code",
   "execution_count": null,
   "id": "f5136fd3-cd73-4f25-8deb-679c8eba991e",
   "metadata": {},
   "outputs": [],
   "source": []
  },
  {
   "cell_type": "code",
   "execution_count": 48,
   "id": "c1403e82-c3e4-47a9-9a94-8e1a837bfff6",
   "metadata": {},
   "outputs": [],
   "source": [
    "def add(x,y):\n",
    "    return x+y\n",
    "def sub(x,y):\n",
    "    return x-y"
   ]
  },
  {
   "cell_type": "code",
   "execution_count": 49,
   "id": "e446fad9-e895-478b-8745-5fc2774045e2",
   "metadata": {},
   "outputs": [],
   "source": [
    "def cal(fn,x,y):\n",
    "    ans = fn(x,y)\n",
    "    print(ans)"
   ]
  },
  {
   "cell_type": "code",
   "execution_count": 50,
   "id": "76a67abd-5c67-4c20-849c-1f7bb0aac62d",
   "metadata": {},
   "outputs": [
    {
     "name": "stdout",
     "output_type": "stream",
     "text": [
      "30\n",
      "100\n"
     ]
    }
   ],
   "source": [
    "cal(add,10,20)\n",
    "cal(sub,200,100)"
   ]
  },
  {
   "cell_type": "code",
   "execution_count": null,
   "id": "44aa8474-de12-4774-b1c6-178c7d54bbd5",
   "metadata": {},
   "outputs": [],
   "source": []
  },
  {
   "cell_type": "code",
   "execution_count": 52,
   "id": "7f4f000e-8235-4207-8276-696945f9f700",
   "metadata": {},
   "outputs": [
    {
     "data": {
      "text/plain": [
       "100"
      ]
     },
     "execution_count": 52,
     "metadata": {},
     "output_type": "execute_result"
    }
   ],
   "source": [
    "sq = lambda x:x*x\n",
    "sq(10)"
   ]
  },
  {
   "cell_type": "code",
   "execution_count": 53,
   "id": "7f535689-cba5-4c23-b56a-ad7cdc4bcded",
   "metadata": {},
   "outputs": [
    {
     "name": "stdout",
     "output_type": "stream",
     "text": [
      "200\n"
     ]
    }
   ],
   "source": [
    "cal(lambda x,y:x*y,10,20)"
   ]
  },
  {
   "cell_type": "code",
   "execution_count": null,
   "id": "d7b9de91-2840-4103-82a4-d818cfb0cddd",
   "metadata": {},
   "outputs": [],
   "source": []
  },
  {
   "cell_type": "code",
   "execution_count": null,
   "id": "2a80e76f-8eaa-41f4-86d0-5f90377e6c45",
   "metadata": {},
   "outputs": [],
   "source": []
  },
  {
   "cell_type": "markdown",
   "id": "468cc425-2162-450b-8ef1-3ddd3bd5aa02",
   "metadata": {},
   "source": [
    "## Various Functions\n",
    "- abs\n",
    "- all\n",
    "- dir\n",
    "- divmod\n",
    "- enumerate\n",
    "- filter\n",
    "- isinstance\n",
    "- map\n",
    "- reduce -- in python3 from functools import reduce"
   ]
  },
  {
   "cell_type": "code",
   "execution_count": 1,
   "id": "b5537176-e23a-40ad-a0d2-c1f4e4c1d097",
   "metadata": {},
   "outputs": [
    {
     "data": {
      "text/plain": [
       "10"
      ]
     },
     "execution_count": 1,
     "metadata": {},
     "output_type": "execute_result"
    }
   ],
   "source": [
    "abs(-10)"
   ]
  },
  {
   "cell_type": "code",
   "execution_count": 3,
   "id": "1cf33c9e-8279-4960-8c05-11e527c63ae5",
   "metadata": {},
   "outputs": [
    {
     "data": {
      "text/plain": [
       "False"
      ]
     },
     "execution_count": 3,
     "metadata": {},
     "output_type": "execute_result"
    }
   ],
   "source": [
    "all([True,True,True,1,False])"
   ]
  },
  {
   "cell_type": "code",
   "execution_count": 7,
   "id": "605d2b47-39d0-44f5-bbc8-5cbb7cb3221f",
   "metadata": {},
   "outputs": [],
   "source": [
    "l = [10,20,30,40]\n",
    "#dir(l)"
   ]
  },
  {
   "cell_type": "code",
   "execution_count": 6,
   "id": "c22548d4-b5d6-43e1-8abe-3c9b8e8179ba",
   "metadata": {},
   "outputs": [
    {
     "data": {
      "text/plain": [
       "(3, 2)"
      ]
     },
     "execution_count": 6,
     "metadata": {},
     "output_type": "execute_result"
    }
   ],
   "source": [
    "divmod(11,3)"
   ]
  },
  {
   "cell_type": "code",
   "execution_count": 10,
   "id": "827466af-ac03-4ac4-be98-28469cb7ebc2",
   "metadata": {},
   "outputs": [
    {
     "name": "stdout",
     "output_type": "stream",
     "text": [
      "0 10\n",
      "1 20\n",
      "2 30\n",
      "3 40\n"
     ]
    }
   ],
   "source": [
    "for ind,ele in enumerate(l):\n",
    "    print(ind,ele)"
   ]
  },
  {
   "cell_type": "code",
   "execution_count": 16,
   "id": "44286759-51aa-4cce-955f-7d93192233d2",
   "metadata": {},
   "outputs": [
    {
     "name": "stdout",
     "output_type": "stream",
     "text": [
      "[0, 2, 4, 6, 8, 10, 12, 14, 16, 18]\n"
     ]
    }
   ],
   "source": [
    "l = [i for i in range(20)]\n",
    "lf = list(filter(lambda x : x%2==0,l))\n",
    "print(lf)"
   ]
  },
  {
   "cell_type": "code",
   "execution_count": 17,
   "id": "2c68946e-ef9a-435b-9456-95f474283b28",
   "metadata": {},
   "outputs": [
    {
     "name": "stdout",
     "output_type": "stream",
     "text": [
      "[0, 1, 4, 9, 16, 25, 36, 49, 64, 81, 100, 121, 144, 169, 196, 225, 256, 289, 324, 361]\n"
     ]
    }
   ],
   "source": [
    "lm = list(map(lambda x:x*x,l))\n",
    "print(lm)"
   ]
  },
  {
   "cell_type": "code",
   "execution_count": null,
   "id": "d022fec5-f039-4dac-99fc-549a6a49de3b",
   "metadata": {},
   "outputs": [],
   "source": []
  },
  {
   "cell_type": "code",
   "execution_count": null,
   "id": "5fc38f3c-e998-4d6a-bb79-9ab3ceed7c41",
   "metadata": {},
   "outputs": [],
   "source": []
  },
  {
   "cell_type": "code",
   "execution_count": 18,
   "id": "81824c74-ff9a-488d-9038-d302f2177147",
   "metadata": {},
   "outputs": [
    {
     "name": "stdout",
     "output_type": "stream",
     "text": [
      "Hello, I am Shubham. My age is 27\n"
     ]
    }
   ],
   "source": [
    "st = \"Hello, I am Shubham. My age is 27\"\n",
    "print(st)"
   ]
  },
  {
   "cell_type": "code",
   "execution_count": 21,
   "id": "bc05461d-6aa1-4ffa-ba6a-b764efb36b1d",
   "metadata": {},
   "outputs": [
    {
     "data": {
      "text/plain": [
       "('l', 'llo, I')"
      ]
     },
     "execution_count": 21,
     "metadata": {},
     "output_type": "execute_result"
    }
   ],
   "source": [
    "st[2],st[2:8]"
   ]
  },
  {
   "cell_type": "code",
   "execution_count": 24,
   "id": "f639bd53-7eb9-4b30-873e-88c3dfe1f2c4",
   "metadata": {},
   "outputs": [
    {
     "name": "stdout",
     "output_type": "stream",
     "text": [
      "2793753966560 2793753966560 2793775132336\n"
     ]
    }
   ],
   "source": [
    "s1 = \"123\"\n",
    "s2 = \"123\"\n",
    "n = 123\n",
    "s3 = str(n)\n",
    "print(id(s1),id(s2),id(s3))"
   ]
  },
  {
   "cell_type": "code",
   "execution_count": 30,
   "id": "20360399-57d2-49e7-a630-69188ce506ff",
   "metadata": {},
   "outputs": [
    {
     "data": {
      "text/plain": [
       "'Abcabcsdacbbcaabc'"
      ]
     },
     "execution_count": 30,
     "metadata": {},
     "output_type": "execute_result"
    }
   ],
   "source": [
    "ft = \"abcabcsdacbbcaabc\"\n",
    "ft.capitalize()"
   ]
  },
  {
   "cell_type": "code",
   "execution_count": 27,
   "id": "e83c1fd4-5f56-4cf6-86f3-28945a5e466d",
   "metadata": {},
   "outputs": [
    {
     "data": {
      "text/plain": [
       "'Hello, i am shubham. my age is 27'"
      ]
     },
     "execution_count": 27,
     "metadata": {},
     "output_type": "execute_result"
    }
   ],
   "source": [
    "st.capitalize()"
   ]
  },
  {
   "cell_type": "code",
   "execution_count": 29,
   "id": "125e23ad-5d85-49db-8654-627cb171fcf2",
   "metadata": {},
   "outputs": [
    {
     "data": {
      "text/plain": [
       "False"
      ]
     },
     "execution_count": 29,
     "metadata": {},
     "output_type": "execute_result"
    }
   ],
   "source": [
    "st.endswith(\"127\")"
   ]
  },
  {
   "cell_type": "code",
   "execution_count": 34,
   "id": "2e8ec3a2-3bad-460a-9fc7-a677409bc958",
   "metadata": {},
   "outputs": [
    {
     "data": {
      "text/plain": [
       "(2, 12)"
      ]
     },
     "execution_count": 34,
     "metadata": {},
     "output_type": "execute_result"
    }
   ],
   "source": [
    "ft.find(\"ca\"), ft.rfind(\"ca\")"
   ]
  },
  {
   "cell_type": "code",
   "execution_count": 37,
   "id": "c2e3b613-bf1a-4c13-8d61-38e126cb888b",
   "metadata": {},
   "outputs": [
    {
     "data": {
      "text/plain": [
       "2"
      ]
     },
     "execution_count": 37,
     "metadata": {},
     "output_type": "execute_result"
    }
   ],
   "source": [
    "ft.index('c')"
   ]
  },
  {
   "cell_type": "code",
   "execution_count": 39,
   "id": "fbefd7e9-ac92-4bcd-a682-41863646981c",
   "metadata": {},
   "outputs": [
    {
     "data": {
      "text/plain": [
       "97"
      ]
     },
     "execution_count": 39,
     "metadata": {},
     "output_type": "execute_result"
    }
   ],
   "source": [
    "ord(ft[0])"
   ]
  },
  {
   "cell_type": "code",
   "execution_count": null,
   "id": "34464a25-8aef-4d61-9933-35891854b764",
   "metadata": {},
   "outputs": [],
   "source": []
  },
  {
   "cell_type": "code",
   "execution_count": 40,
   "id": "86d558c3-ca99-407f-ae09-87073ead493d",
   "metadata": {},
   "outputs": [
    {
     "data": {
      "text/plain": [
       "'hello, i am shubham. my age is 27'"
      ]
     },
     "execution_count": 40,
     "metadata": {},
     "output_type": "execute_result"
    }
   ],
   "source": [
    "st.lower()"
   ]
  },
  {
   "cell_type": "code",
   "execution_count": 41,
   "id": "3acee9b3-6fe3-480b-92c7-8fb7a599584e",
   "metadata": {},
   "outputs": [
    {
     "data": {
      "text/plain": [
       "'HELLO, I AM SHUBHAM. MY AGE IS 27'"
      ]
     },
     "execution_count": 41,
     "metadata": {},
     "output_type": "execute_result"
    }
   ],
   "source": [
    "st.upper()"
   ]
  },
  {
   "cell_type": "code",
   "execution_count": 42,
   "id": "93a2b20f-9797-4b14-9ae2-8f757d90d09c",
   "metadata": {},
   "outputs": [
    {
     "data": {
      "text/plain": [
       "'xyzxyzsdacbbcaxyz'"
      ]
     },
     "execution_count": 42,
     "metadata": {},
     "output_type": "execute_result"
    }
   ],
   "source": [
    "ft.replace('abc','xyz')"
   ]
  },
  {
   "cell_type": "code",
   "execution_count": 43,
   "id": "3e600670-1322-4057-a424-44aefff58541",
   "metadata": {},
   "outputs": [
    {
     "data": {
      "text/plain": [
       "['Hello,', 'I', 'am', 'Shubham.', 'My', 'age', 'is', '27']"
      ]
     },
     "execution_count": 43,
     "metadata": {},
     "output_type": "execute_result"
    }
   ],
   "source": [
    "st.split(\" \")"
   ]
  },
  {
   "cell_type": "code",
   "execution_count": 46,
   "id": "df0d16a3-be40-4629-9163-05e1d358a368",
   "metadata": {},
   "outputs": [
    {
     "data": {
      "text/plain": [
       "'27 is age My Shubham. am I Hello,'"
      ]
     },
     "execution_count": 46,
     "metadata": {},
     "output_type": "execute_result"
    }
   ],
   "source": [
    "' '.join(st.split(\" \")[::-1])"
   ]
  },
  {
   "cell_type": "code",
   "execution_count": null,
   "id": "c1496575-5bed-4098-bdde-5fd7c33c1215",
   "metadata": {},
   "outputs": [],
   "source": []
  },
  {
   "cell_type": "code",
   "execution_count": 63,
   "id": "b02bf5b4-661f-49d4-bb47-43573ffb42f4",
   "metadata": {},
   "outputs": [
    {
     "name": "stdout",
     "output_type": "stream",
     "text": [
      "Hello, I am Shubham Singhal. My age is 27\n"
     ]
    }
   ],
   "source": [
    "name = \"Shubham Singhal\"\n",
    "age = 27\n",
    "st = f\"Hello, I am {name}. My age is {age}\"\n",
    "print(st)"
   ]
  },
  {
   "cell_type": "code",
   "execution_count": 66,
   "id": "a09fde35-4c98-41fd-91f1-bbcf356f2fc2",
   "metadata": {},
   "outputs": [
    {
     "name": "stdout",
     "output_type": "stream",
     "text": [
      "Hello, I am Shubham. My age is 27\n"
     ]
    }
   ],
   "source": [
    "st = \"Hello, I am {name}. My age is {age}\".format(name = \"Shubham\",age = 27)\n",
    "print(st)"
   ]
  },
  {
   "cell_type": "code",
   "execution_count": null,
   "id": "1b0a66ab-1957-444a-9565-95c32a3f782e",
   "metadata": {},
   "outputs": [],
   "source": []
  },
  {
   "cell_type": "code",
   "execution_count": 62,
   "id": "22d6b321-8f47-4cb5-96ba-984bc5f573ac",
   "metadata": {},
   "outputs": [],
   "source": [
    "class Person:\n",
    "    def __init__(self,name='xyz',age=0):\n",
    "        self.name = name\n",
    "        self.age = age"
   ]
  },
  {
   "cell_type": "code",
   "execution_count": 60,
   "id": "79806a00-aee4-409b-96ec-8a069625752f",
   "metadata": {},
   "outputs": [],
   "source": [
    "p = Person(\"Radhe\",21)\n",
    "p1 = Person(\"Mohan\",30)"
   ]
  },
  {
   "cell_type": "code",
   "execution_count": 61,
   "id": "e7e4d1be-1b48-4369-b7a8-b5710f642e63",
   "metadata": {},
   "outputs": [
    {
     "name": "stdout",
     "output_type": "stream",
     "text": [
      "Radhe 21\n"
     ]
    }
   ],
   "source": [
    "print(p.name,p.age)"
   ]
  },
  {
   "cell_type": "code",
   "execution_count": 58,
   "id": "7e645392-1b71-4650-b34a-2d6ae44e1e08",
   "metadata": {},
   "outputs": [
    {
     "name": "stdout",
     "output_type": "stream",
     "text": [
      "127\n"
     ]
    }
   ],
   "source": [
    "p.roll = 127\n",
    "print(p.roll)"
   ]
  },
  {
   "cell_type": "code",
   "execution_count": 54,
   "id": "f5420c26-4bf4-4b40-bfec-579ae722db8a",
   "metadata": {},
   "outputs": [
    {
     "ename": "AttributeError",
     "evalue": "'Person' object has no attribute 'roll'",
     "output_type": "error",
     "traceback": [
      "\u001b[1;31m---------------------------------------------------------------------------\u001b[0m",
      "\u001b[1;31mAttributeError\u001b[0m                            Traceback (most recent call last)",
      "Cell \u001b[1;32mIn[54], line 1\u001b[0m\n\u001b[1;32m----> 1\u001b[0m \u001b[38;5;28mprint\u001b[39m(\u001b[43mp1\u001b[49m\u001b[38;5;241;43m.\u001b[39;49m\u001b[43mroll\u001b[49m)\n",
      "\u001b[1;31mAttributeError\u001b[0m: 'Person' object has no attribute 'roll'"
     ]
    }
   ],
   "source": [
    "print(p1.roll)"
   ]
  },
  {
   "cell_type": "code",
   "execution_count": null,
   "id": "21cf5d3e-837b-40af-85e5-5c8b0ef3ce85",
   "metadata": {},
   "outputs": [],
   "source": []
  },
  {
   "cell_type": "code",
   "execution_count": 1,
   "id": "bdf03686-dfb7-4309-965a-00d91e6c1670",
   "metadata": {},
   "outputs": [
    {
     "name": "stdout",
     "output_type": "stream",
     "text": [
      "10\n"
     ]
    }
   ],
   "source": [
    "import example\n",
    "from example import a"
   ]
  },
  {
   "cell_type": "code",
   "execution_count": 2,
   "id": "d2a93c8c-cc98-4863-943c-980bafde8f40",
   "metadata": {},
   "outputs": [
    {
     "name": "stdout",
     "output_type": "stream",
     "text": [
      "10\n"
     ]
    }
   ],
   "source": [
    "print(a)"
   ]
  },
  {
   "cell_type": "code",
   "execution_count": null,
   "id": "dbea0698-2a05-49e9-b090-98d2469d338b",
   "metadata": {},
   "outputs": [],
   "source": []
  },
  {
   "cell_type": "code",
   "execution_count": null,
   "id": "cd03d2b5-ef0f-419e-b1b8-2dba5752e03c",
   "metadata": {},
   "outputs": [],
   "source": []
  },
  {
   "cell_type": "code",
   "execution_count": null,
   "id": "d5bc9df2-d5cb-49e9-adac-69beea95788f",
   "metadata": {
    "jupyter": {
     "source_hidden": true
    }
   },
   "outputs": [],
   "source": []
  },
  {
   "cell_type": "code",
   "execution_count": null,
   "id": "71147e0c-132d-4726-b52f-e11d07434563",
   "metadata": {},
   "outputs": [],
   "source": []
  }
 ],
 "metadata": {
  "kernelspec": {
   "display_name": "Python 3 (ipykernel)",
   "language": "python",
   "name": "python3"
  },
  "language_info": {
   "codemirror_mode": {
    "name": "ipython",
    "version": 3
   },
   "file_extension": ".py",
   "mimetype": "text/x-python",
   "name": "python",
   "nbconvert_exporter": "python",
   "pygments_lexer": "ipython3",
   "version": "3.12.1"
  }
 },
 "nbformat": 4,
 "nbformat_minor": 5
}
