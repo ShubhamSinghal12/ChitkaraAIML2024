{
 "cells": [
  {
   "cell_type": "markdown",
   "id": "3f447a8d-284e-4033-8141-5ed2c7e4349f",
   "metadata": {},
   "source": [
    "- Numpy Array Creation\n",
    "- Shape\n",
    "- indexing\n",
    "- more creation methods: arange, linespace, ones, zeros, eye, diag\n",
    "- random numbers: np.random.rand\n",
    "- reshape: -1 for unknown\n",
    "- data types: b,i,u,f,c,m,M,O,S,u,V\n",
    "- slicing and assignment\n",
    "- copy and view: share_memory\n",
    "- operators(Element wise operations)\n",
    "- shape mismatch\n",
    "- fancy indexing also know as filter\n",
    "- search: where uses fancy indexing\n",
    "- Basic reductions: sum, min, max, any, all\n",
    "- iteration: nditer, ndenumerate\n",
    "- Join: concatenate, stack, hstack, vstack. Note: make a tuple of arays you want to join\n",
    "- split: array_split, hsplit\n",
    "- sort: np.sort"
   ]
  },
  {
   "cell_type": "code",
   "execution_count": 3,
   "id": "6f8e1d90-7e1b-40db-88e6-a4c796870682",
   "metadata": {},
   "outputs": [
    {
     "name": "stdout",
     "output_type": "stream",
     "text": [
      "1.26.3\n"
     ]
    }
   ],
   "source": [
    "import numpy as np\n",
    "print(np.version.version)"
   ]
  },
  {
   "cell_type": "code",
   "execution_count": 4,
   "id": "01edb1bd-f48f-46b1-8a7c-53634d4a6c7a",
   "metadata": {},
   "outputs": [],
   "source": [
    "l1 = [1,2,3,4]\n",
    "l2 = [[1,2,3],[4,5,6]]\n",
    "l3 = [[[1,2],[3,4]],[[6,7],[8,9]]]"
   ]
  },
  {
   "cell_type": "code",
   "execution_count": 8,
   "id": "b3cf54ad-d3e7-4dbf-85fd-939b7bcf5b47",
   "metadata": {},
   "outputs": [
    {
     "name": "stdout",
     "output_type": "stream",
     "text": [
      "2 3 4\n"
     ]
    }
   ],
   "source": [
    "print(l1[1],l2[0][2],l3[0][1][1])"
   ]
  },
  {
   "cell_type": "code",
   "execution_count": 17,
   "id": "bd351748-1176-4eac-a59a-b1c86e1da274",
   "metadata": {},
   "outputs": [
    {
     "name": "stdout",
     "output_type": "stream",
     "text": [
      "[[[1 2]\n",
      "  [3 4]]\n",
      "\n",
      " [[6 7]\n",
      "  [8 9]]] <class 'numpy.ndarray'> 3\n"
     ]
    },
    {
     "data": {
      "text/plain": [
       "4"
      ]
     },
     "execution_count": 17,
     "metadata": {},
     "output_type": "execute_result"
    }
   ],
   "source": [
    "na = np.array(l3)\n",
    "print(na,type(na),na.ndim)\n",
    "na[0,1,1]"
   ]
  },
  {
   "cell_type": "code",
   "execution_count": 16,
   "id": "430bf188-4df2-4435-aa5f-b4a48047ae53",
   "metadata": {},
   "outputs": [
    {
     "data": {
      "text/plain": [
       "(2, 2, 2)"
      ]
     },
     "execution_count": 16,
     "metadata": {},
     "output_type": "execute_result"
    }
   ],
   "source": [
    "na.shape"
   ]
  },
  {
   "cell_type": "code",
   "execution_count": 19,
   "id": "f8956efd-d0cb-4097-ae04-9603993674d4",
   "metadata": {},
   "outputs": [
    {
     "name": "stdout",
     "output_type": "stream",
     "text": [
      "1 2 3 4 6 7 8 9 "
     ]
    }
   ],
   "source": [
    "for i in range(na.shape[0]):\n",
    "    for j in range(na.shape[1]):\n",
    "        for k in range(na.shape[2]):\n",
    "            print(na[i,j,k],end = \" \")"
   ]
  },
  {
   "cell_type": "code",
   "execution_count": 20,
   "id": "7a6762db-8794-43c6-82b8-4fa69cbf5498",
   "metadata": {},
   "outputs": [
    {
     "name": "stdout",
     "output_type": "stream",
     "text": [
      "1 2 3 4 6 7 8 9 "
     ]
    }
   ],
   "source": [
    "for ele in np.nditer(na):\n",
    "    print(ele,end = \" \")"
   ]
  },
  {
   "cell_type": "code",
   "execution_count": 21,
   "id": "6cd0e7be-a279-4454-9549-142f2837e817",
   "metadata": {},
   "outputs": [
    {
     "name": "stdout",
     "output_type": "stream",
     "text": [
      "(0, 0, 0) 1\n",
      "(0, 0, 1) 2\n",
      "(0, 1, 0) 3\n",
      "(0, 1, 1) 4\n",
      "(1, 0, 0) 6\n",
      "(1, 0, 1) 7\n",
      "(1, 1, 0) 8\n",
      "(1, 1, 1) 9\n"
     ]
    }
   ],
   "source": [
    "for ind,ele in np.ndenumerate(na):\n",
    "    print(ind,ele)"
   ]
  },
  {
   "cell_type": "code",
   "execution_count": 22,
   "id": "03281a5f-3fe1-4d60-8ffb-946a7546dfda",
   "metadata": {},
   "outputs": [
    {
     "data": {
      "text/plain": [
       "dtype('int32')"
      ]
     },
     "execution_count": 22,
     "metadata": {},
     "output_type": "execute_result"
    }
   ],
   "source": [
    "na.dtype"
   ]
  },
  {
   "cell_type": "code",
   "execution_count": 27,
   "id": "f8542d61-93f2-462f-8a78-7a7ebba6315f",
   "metadata": {},
   "outputs": [
    {
     "data": {
      "text/plain": [
       "array([1., 3., 5., 7., 9.])"
      ]
     },
     "execution_count": 27,
     "metadata": {},
     "output_type": "execute_result"
    }
   ],
   "source": [
    "np.arange(1,10,2,dtype='f8')"
   ]
  },
  {
   "cell_type": "code",
   "execution_count": 28,
   "id": "945f4e5d-4744-42bf-a3b2-7ed9f254cbe1",
   "metadata": {},
   "outputs": [
    {
     "data": {
      "text/plain": [
       "array([0.  , 0.25, 0.5 , 0.75, 1.  ])"
      ]
     },
     "execution_count": 28,
     "metadata": {},
     "output_type": "execute_result"
    }
   ],
   "source": [
    "np.linspace(0,1,5)"
   ]
  },
  {
   "cell_type": "code",
   "execution_count": 37,
   "id": "4e7c31b5-a2c2-49af-8f6e-96f6ccd00514",
   "metadata": {},
   "outputs": [
    {
     "data": {
      "text/plain": [
       "array([[1, 1, 1, 1, 1],\n",
       "       [1, 1, 1, 1, 1]], dtype=int32)"
      ]
     },
     "execution_count": 37,
     "metadata": {},
     "output_type": "execute_result"
    }
   ],
   "source": [
    "np.ones((2,5),dtype='i')"
   ]
  },
  {
   "cell_type": "code",
   "execution_count": 39,
   "id": "28c352f8-0ffa-4963-b4dc-98fbbebe6414",
   "metadata": {},
   "outputs": [
    {
     "data": {
      "text/plain": [
       "array([[0., 0., 0., 0., 0.],\n",
       "       [0., 0., 0., 0., 0.]])"
      ]
     },
     "execution_count": 39,
     "metadata": {},
     "output_type": "execute_result"
    }
   ],
   "source": [
    "np.zeros((2,5))"
   ]
  },
  {
   "cell_type": "code",
   "execution_count": 42,
   "id": "210299a3-ef0a-4985-aed5-f131780ff2b7",
   "metadata": {},
   "outputs": [
    {
     "data": {
      "text/plain": [
       "array([[1., 0., 0., 0.],\n",
       "       [0., 1., 0., 0.],\n",
       "       [0., 0., 1., 0.]])"
      ]
     },
     "execution_count": 42,
     "metadata": {},
     "output_type": "execute_result"
    }
   ],
   "source": [
    "np.eye(3,4)"
   ]
  },
  {
   "cell_type": "code",
   "execution_count": 43,
   "id": "69cb51c6-920a-404a-82ef-23066031df8d",
   "metadata": {},
   "outputs": [
    {
     "data": {
      "text/plain": [
       "array([[1, 0, 0, 0],\n",
       "       [0, 2, 0, 0],\n",
       "       [0, 0, 3, 0],\n",
       "       [0, 0, 0, 4]])"
      ]
     },
     "execution_count": 43,
     "metadata": {},
     "output_type": "execute_result"
    }
   ],
   "source": [
    "np.diag([1,2,3,4])"
   ]
  },
  {
   "cell_type": "code",
   "execution_count": 45,
   "id": "7138a6c7-8de6-4b5b-967b-bc4472461d57",
   "metadata": {},
   "outputs": [
    {
     "data": {
      "text/plain": [
       "array([[0.71006191, 0.22907736, 0.29656162, 0.13622149, 0.60802343],\n",
       "       [0.03276063, 0.31754072, 0.06268233, 0.30027099, 0.54251898]])"
      ]
     },
     "execution_count": 45,
     "metadata": {},
     "output_type": "execute_result"
    }
   ],
   "source": [
    "np.random.rand(2,5)"
   ]
  },
  {
   "cell_type": "code",
   "execution_count": 72,
   "id": "807abeff-647d-4ec0-bf89-f3d10ecb9df5",
   "metadata": {},
   "outputs": [],
   "source": [
    "na = np.arange(1,21)"
   ]
  },
  {
   "cell_type": "code",
   "execution_count": 73,
   "id": "69d5548a-84d9-47ad-9170-d84835120daa",
   "metadata": {},
   "outputs": [
    {
     "data": {
      "text/plain": [
       "array([[ 1,  2,  3,  4],\n",
       "       [ 5,  6,  7,  8],\n",
       "       [ 9, 10, 11, 12],\n",
       "       [13, 14, 15, 16],\n",
       "       [17, 18, 19, 20]])"
      ]
     },
     "execution_count": 73,
     "metadata": {},
     "output_type": "execute_result"
    }
   ],
   "source": [
    "na = na.reshape((5,4))\n",
    "na"
   ]
  },
  {
   "cell_type": "code",
   "execution_count": 68,
   "id": "d916c528-7531-4c68-9a70-72ee182f0de5",
   "metadata": {},
   "outputs": [],
   "source": [
    "nb = np.array([[10,20],[30,40]])"
   ]
  },
  {
   "cell_type": "code",
   "execution_count": 69,
   "id": "875c156c-be5c-43d6-a329-90dbc8647d87",
   "metadata": {},
   "outputs": [],
   "source": [
    "na[0:2,2:4] = nb"
   ]
  },
  {
   "cell_type": "code",
   "execution_count": 70,
   "id": "4e7c8e8d-dceb-4607-88c2-87f810a816d6",
   "metadata": {},
   "outputs": [
    {
     "data": {
      "text/plain": [
       "array([[ 1,  2, 10, 20],\n",
       "       [ 5,  6, 30, 40],\n",
       "       [ 9, 10, 11, 12],\n",
       "       [13, 14, 15, 16],\n",
       "       [17, 18, 19, 20]])"
      ]
     },
     "execution_count": 70,
     "metadata": {},
     "output_type": "execute_result"
    }
   ],
   "source": [
    "na"
   ]
  },
  {
   "cell_type": "code",
   "execution_count": 76,
   "id": "98da213b-13c8-4b2c-9d8f-d105561c3089",
   "metadata": {},
   "outputs": [
    {
     "name": "stdout",
     "output_type": "stream",
     "text": [
      "[[3 4]\n",
      " [7 8]]\n"
     ]
    }
   ],
   "source": [
    "b = na[0:2,2:4].copy()\n",
    "print(b)"
   ]
  },
  {
   "cell_type": "code",
   "execution_count": 77,
   "id": "9f65c254-712f-4af8-91a8-fd0470f08a7c",
   "metadata": {},
   "outputs": [
    {
     "data": {
      "text/plain": [
       "False"
      ]
     },
     "execution_count": 77,
     "metadata": {},
     "output_type": "execute_result"
    }
   ],
   "source": [
    "np.shares_memory(na,b)"
   ]
  },
  {
   "cell_type": "code",
   "execution_count": 78,
   "id": "dde978c2-9970-4df5-9c32-3fbced8a1bbe",
   "metadata": {},
   "outputs": [
    {
     "data": {
      "text/plain": [
       "array([[10, 20],\n",
       "       [30, 40]])"
      ]
     },
     "execution_count": 78,
     "metadata": {},
     "output_type": "execute_result"
    }
   ],
   "source": [
    "nb"
   ]
  },
  {
   "cell_type": "code",
   "execution_count": 79,
   "id": "90a5da53-cb5b-4874-a9f3-5defd99f0189",
   "metadata": {},
   "outputs": [
    {
     "data": {
      "text/plain": [
       "array([[3, 4],\n",
       "       [7, 8]])"
      ]
     },
     "execution_count": 79,
     "metadata": {},
     "output_type": "execute_result"
    }
   ],
   "source": [
    "b"
   ]
  },
  {
   "cell_type": "code",
   "execution_count": 83,
   "id": "2f4df7b9-354f-49ab-b145-351e272956fd",
   "metadata": {},
   "outputs": [
    {
     "data": {
      "text/plain": [
       "array([[ True,  True],\n",
       "       [False, False]])"
      ]
     },
     "execution_count": 83,
     "metadata": {},
     "output_type": "execute_result"
    }
   ],
   "source": [
    "nb <= 20"
   ]
  },
  {
   "cell_type": "code",
   "execution_count": 84,
   "id": "89074338-e5fa-4aef-899e-2af56620a706",
   "metadata": {},
   "outputs": [
    {
     "data": {
      "text/plain": [
       "array([[13, 24],\n",
       "       [37, 48]])"
      ]
     },
     "execution_count": 84,
     "metadata": {},
     "output_type": "execute_result"
    }
   ],
   "source": [
    "nb + b"
   ]
  },
  {
   "cell_type": "code",
   "execution_count": 85,
   "id": "e41b4e80-f448-4daf-a379-c2b4a647a893",
   "metadata": {},
   "outputs": [],
   "source": [
    "na = np.arange(1,21)"
   ]
  },
  {
   "cell_type": "code",
   "execution_count": 87,
   "id": "6b90ada8-9c00-4bf3-839c-4e7829f241dd",
   "metadata": {},
   "outputs": [
    {
     "data": {
      "text/plain": [
       "array([ 2,  4,  6,  8, 10, 12, 14, 16, 18, 20])"
      ]
     },
     "execution_count": 87,
     "metadata": {},
     "output_type": "execute_result"
    }
   ],
   "source": [
    "na[na%2 == 0]"
   ]
  },
  {
   "cell_type": "code",
   "execution_count": 88,
   "id": "2d6803be-becc-4bff-89fa-265b0917f903",
   "metadata": {},
   "outputs": [
    {
     "data": {
      "text/plain": [
       "(array([ 1,  3,  5,  7,  9, 11, 13, 15, 17, 19], dtype=int64),)"
      ]
     },
     "execution_count": 88,
     "metadata": {},
     "output_type": "execute_result"
    }
   ],
   "source": [
    "np.where(na%2==0)"
   ]
  },
  {
   "cell_type": "code",
   "execution_count": 103,
   "id": "830e5b8c-cca3-4454-86c6-3a126327bacc",
   "metadata": {},
   "outputs": [],
   "source": [
    "na = np.arange(1,13)\n",
    "na = na.reshape((2,3,2))"
   ]
  },
  {
   "cell_type": "code",
   "execution_count": 104,
   "id": "092ee7bd-fa3d-469d-b51c-7b7d951d7d4c",
   "metadata": {},
   "outputs": [
    {
     "data": {
      "text/plain": [
       "array([[[ 1,  2],\n",
       "        [ 3,  4],\n",
       "        [ 5,  6]],\n",
       "\n",
       "       [[ 7,  8],\n",
       "        [ 9, 10],\n",
       "        [11, 12]]])"
      ]
     },
     "execution_count": 104,
     "metadata": {},
     "output_type": "execute_result"
    }
   ],
   "source": [
    "na"
   ]
  },
  {
   "cell_type": "code",
   "execution_count": 107,
   "id": "47e59533-bef8-465f-bb91-da12a5c94c11",
   "metadata": {},
   "outputs": [
    {
     "data": {
      "text/plain": [
       "array([[ 3,  7, 11],\n",
       "       [15, 19, 23]])"
      ]
     },
     "execution_count": 107,
     "metadata": {},
     "output_type": "execute_result"
    }
   ],
   "source": [
    "np.sum(na,axis=2)"
   ]
  },
  {
   "cell_type": "code",
   "execution_count": null,
   "id": "12ba3dcc-fe62-4906-9807-256e6fb95564",
   "metadata": {},
   "outputs": [],
   "source": []
  }
 ],
 "metadata": {
  "kernelspec": {
   "display_name": "Python 3 (ipykernel)",
   "language": "python",
   "name": "python3"
  },
  "language_info": {
   "codemirror_mode": {
    "name": "ipython",
    "version": 3
   },
   "file_extension": ".py",
   "mimetype": "text/x-python",
   "name": "python",
   "nbconvert_exporter": "python",
   "pygments_lexer": "ipython3",
   "version": "3.12.1"
  }
 },
 "nbformat": 4,
 "nbformat_minor": 5
}
