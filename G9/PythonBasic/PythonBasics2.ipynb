{
 "cells": [
  {
   "cell_type": "markdown",
   "id": "0b59ea73-1547-40f6-b13c-f34c96b0d042",
   "metadata": {},
   "source": [
    "## functions\n",
    "- defination\n",
    "- parameters (Pass by Value)\n",
    "- return / Multiple Return\n",
    "- default arguments\n",
    "- keyword arguments\n",
    "- Arbitrary arguments (*args and **kwargs)\n",
    "- DocString (__doc__)\n",
    "- Function within function\n",
    "- function as arguments\n",
    "- Anonymous Function\n",
    "- Recursion"
   ]
  },
  {
   "cell_type": "code",
   "execution_count": null,
   "id": "a148cf81-2d62-4a6b-a433-2399eb0095d3",
   "metadata": {},
   "outputs": [],
   "source": []
  },
  {
   "cell_type": "code",
   "execution_count": 26,
   "id": "a737391c-5e16-4260-b0ea-00811b314563",
   "metadata": {},
   "outputs": [],
   "source": [
    "def add(p,q,/,*,x,y = 200):\n",
    "    a = x+y\n",
    "    b = x-y\n",
    "    return a,b,p*q"
   ]
  },
  {
   "cell_type": "code",
   "execution_count": 27,
   "id": "87aab114-e784-4a83-9954-c75eaedc887a",
   "metadata": {},
   "outputs": [
    {
     "name": "stdout",
     "output_type": "stream",
     "text": [
      "30 10 200\n",
      "(300, -100, 600)\n"
     ]
    }
   ],
   "source": [
    "a,b,c = add(10,20,y = 10,x = 20)\n",
    "print(a,b,c)\n",
    "print(add(20,30,x = 100))"
   ]
  },
  {
   "cell_type": "code",
   "execution_count": 6,
   "id": "298b7b58-f2b1-4a21-b58a-6016d5733472",
   "metadata": {},
   "outputs": [
    {
     "name": "stdout",
     "output_type": "stream",
     "text": [
      "<function add at 0x000001C55ABDD4E0> <class 'function'>\n"
     ]
    }
   ],
   "source": [
    "print(add,type(add))"
   ]
  },
  {
   "cell_type": "code",
   "execution_count": null,
   "id": "88b0f458-9387-49bc-b35c-f15ed2209a23",
   "metadata": {},
   "outputs": [],
   "source": []
  },
  {
   "cell_type": "code",
   "execution_count": 34,
   "id": "bdd42b47-be08-4dc9-a3e1-92e2bcfe914d",
   "metadata": {},
   "outputs": [],
   "source": [
    "def pt(**kwargs):\n",
    "    print(kwargs)"
   ]
  },
  {
   "cell_type": "code",
   "execution_count": 35,
   "id": "e2fb0753-5065-45af-b1ee-788780c83459",
   "metadata": {},
   "outputs": [
    {
     "name": "stdout",
     "output_type": "stream",
     "text": [
      "{'a': 1, 'b': 2, 'c': 3, 'd': 4, 'e': 5}\n",
      "{'st': 'Hello', 'num': 10, 'com': (1+2j)}\n",
      "{'x': 10}\n"
     ]
    }
   ],
   "source": [
    "pt(a = 1,b = 2,c = 3,d = 4,e = 5)\n",
    "pt(st = \"Hello\",num = 10,com = 1+2j)\n",
    "pt(x = 10)"
   ]
  },
  {
   "cell_type": "code",
   "execution_count": null,
   "id": "0e5e1af6-bc12-4f81-b842-cd89a4496d33",
   "metadata": {},
   "outputs": [],
   "source": []
  },
  {
   "cell_type": "code",
   "execution_count": 36,
   "id": "54a544c9-47d6-4534-8aac-97f32ba59923",
   "metadata": {},
   "outputs": [],
   "source": [
    "def fn():\n",
    "    \"This is a Demo Function\"\n",
    "    print('Hi')"
   ]
  },
  {
   "cell_type": "code",
   "execution_count": 37,
   "id": "ff9d15d2-fb16-475f-8a6b-4a2bf5a8d3c7",
   "metadata": {},
   "outputs": [
    {
     "name": "stdout",
     "output_type": "stream",
     "text": [
      "Hi\n"
     ]
    }
   ],
   "source": [
    "fn()"
   ]
  },
  {
   "cell_type": "code",
   "execution_count": 38,
   "id": "a72849c9-6cc5-4dbd-946e-942231d33bc6",
   "metadata": {},
   "outputs": [
    {
     "name": "stdout",
     "output_type": "stream",
     "text": [
      "This is a Demo Function\n"
     ]
    }
   ],
   "source": [
    "print(fn.__doc__)"
   ]
  },
  {
   "cell_type": "code",
   "execution_count": 39,
   "id": "9e8f276c-6d4a-4c59-9801-f2511410af51",
   "metadata": {},
   "outputs": [
    {
     "name": "stdout",
     "output_type": "stream",
     "text": [
      "max(iterable, *[, default=obj, key=func]) -> value\n",
      "max(arg1, arg2, *args, *[, key=func]) -> value\n",
      "\n",
      "With a single iterable argument, return its biggest item. The\n",
      "default keyword-only argument specifies an object to return if\n",
      "the provided iterable is empty.\n",
      "With two or more arguments, return the largest argument.\n"
     ]
    }
   ],
   "source": [
    "print(max.__doc__)"
   ]
  },
  {
   "cell_type": "code",
   "execution_count": 40,
   "id": "b406a684-acea-42af-89bf-d5a1af316986",
   "metadata": {},
   "outputs": [
    {
     "data": {
      "text/plain": [
       "\u001b[1;31mDocstring:\u001b[0m\n",
       "max(iterable, *[, default=obj, key=func]) -> value\n",
       "max(arg1, arg2, *args, *[, key=func]) -> value\n",
       "\n",
       "With a single iterable argument, return its biggest item. The\n",
       "default keyword-only argument specifies an object to return if\n",
       "the provided iterable is empty.\n",
       "With two or more arguments, return the largest argument.\n",
       "\u001b[1;31mType:\u001b[0m      builtin_function_or_method"
      ]
     },
     "metadata": {},
     "output_type": "display_data"
    }
   ],
   "source": [
    "max?"
   ]
  },
  {
   "cell_type": "code",
   "execution_count": null,
   "id": "cad4ac47-6a1e-4555-9cf7-ceca284c2afd",
   "metadata": {},
   "outputs": [],
   "source": []
  },
  {
   "cell_type": "code",
   "execution_count": null,
   "id": "c98c9a8c-a245-4d37-8db9-31c74a6fc813",
   "metadata": {},
   "outputs": [],
   "source": []
  },
  {
   "cell_type": "code",
   "execution_count": 46,
   "id": "21699e9a-5761-4330-b11f-e76fdea00967",
   "metadata": {},
   "outputs": [
    {
     "name": "stdout",
     "output_type": "stream",
     "text": [
      "Hi\n",
      "In f2\n",
      "Bye\n",
      "In f2\n"
     ]
    }
   ],
   "source": [
    "def f1():\n",
    "    print(\"Hi\")\n",
    "    def f2():\n",
    "        print(\"In f2\")\n",
    "    f2()\n",
    "    print(\"Bye\")\n",
    "    return f2\n",
    "\n",
    "fn2 = f1()\n",
    "fn2()"
   ]
  },
  {
   "cell_type": "code",
   "execution_count": null,
   "id": "f5136fd3-cd73-4f25-8deb-679c8eba991e",
   "metadata": {},
   "outputs": [],
   "source": []
  },
  {
   "cell_type": "code",
   "execution_count": 48,
   "id": "c1403e82-c3e4-47a9-9a94-8e1a837bfff6",
   "metadata": {},
   "outputs": [],
   "source": [
    "def add(x,y):\n",
    "    return x+y\n",
    "def sub(x,y):\n",
    "    return x-y"
   ]
  },
  {
   "cell_type": "code",
   "execution_count": 49,
   "id": "e446fad9-e895-478b-8745-5fc2774045e2",
   "metadata": {},
   "outputs": [],
   "source": [
    "def cal(fn,x,y):\n",
    "    ans = fn(x,y)\n",
    "    print(ans)"
   ]
  },
  {
   "cell_type": "code",
   "execution_count": 50,
   "id": "76a67abd-5c67-4c20-849c-1f7bb0aac62d",
   "metadata": {},
   "outputs": [
    {
     "name": "stdout",
     "output_type": "stream",
     "text": [
      "30\n",
      "100\n"
     ]
    }
   ],
   "source": [
    "cal(add,10,20)\n",
    "cal(sub,200,100)"
   ]
  },
  {
   "cell_type": "code",
   "execution_count": null,
   "id": "44aa8474-de12-4774-b1c6-178c7d54bbd5",
   "metadata": {},
   "outputs": [],
   "source": []
  },
  {
   "cell_type": "code",
   "execution_count": 52,
   "id": "7f4f000e-8235-4207-8276-696945f9f700",
   "metadata": {},
   "outputs": [
    {
     "data": {
      "text/plain": [
       "100"
      ]
     },
     "execution_count": 52,
     "metadata": {},
     "output_type": "execute_result"
    }
   ],
   "source": [
    "sq = lambda x:x*x\n",
    "sq(10)"
   ]
  },
  {
   "cell_type": "code",
   "execution_count": 53,
   "id": "7f535689-cba5-4c23-b56a-ad7cdc4bcded",
   "metadata": {},
   "outputs": [
    {
     "name": "stdout",
     "output_type": "stream",
     "text": [
      "200\n"
     ]
    }
   ],
   "source": [
    "cal(lambda x,y:x*y,10,20)"
   ]
  },
  {
   "cell_type": "code",
   "execution_count": null,
   "id": "d7b9de91-2840-4103-82a4-d818cfb0cddd",
   "metadata": {},
   "outputs": [],
   "source": []
  },
  {
   "cell_type": "code",
   "execution_count": null,
   "id": "2a80e76f-8eaa-41f4-86d0-5f90377e6c45",
   "metadata": {},
   "outputs": [],
   "source": []
  },
  {
   "cell_type": "markdown",
   "id": "053e4ae6-995c-4ba2-8c67-151f14a63e6c",
   "metadata": {},
   "source": [
    "## Various Functions\n",
    "- abs\n",
    "- all\n",
    "- dir\n",
    "- divmod\n",
    "- enumerate\n",
    "- filter\n",
    "- isinstance\n",
    "- map\n",
    "- reduce -- in python3 from functools import reduce\n",
    "- "
   ]
  },
  {
   "cell_type": "code",
   "execution_count": null,
   "id": "cd03d2b5-ef0f-419e-b1b8-2dba5752e03c",
   "metadata": {},
   "outputs": [],
   "source": []
  },
  {
   "cell_type": "code",
   "execution_count": null,
   "id": "d5bc9df2-d5cb-49e9-adac-69beea95788f",
   "metadata": {},
   "outputs": [],
   "source": []
  },
  {
   "cell_type": "code",
   "execution_count": null,
   "id": "71147e0c-132d-4726-b52f-e11d07434563",
   "metadata": {},
   "outputs": [],
   "source": []
  }
 ],
 "metadata": {
  "kernelspec": {
   "display_name": "Python 3 (ipykernel)",
   "language": "python",
   "name": "python3"
  },
  "language_info": {
   "codemirror_mode": {
    "name": "ipython",
    "version": 3
   },
   "file_extension": ".py",
   "mimetype": "text/x-python",
   "name": "python",
   "nbconvert_exporter": "python",
   "pygments_lexer": "ipython3",
   "version": "3.12.1"
  }
 },
 "nbformat": 4,
 "nbformat_minor": 5
}
