{
 "cells": [
  {
   "cell_type": "markdown",
   "id": "97e260b3-4e6c-4368-a5ae-adcda36e70a5",
   "metadata": {},
   "source": [
    "<h2>Basics</h2>\n",
    "\n",
    "- KeyWords vs Identifier\n",
    "- Comments\n",
    "- What is a Variable?\n",
    "- Single Line vs Multiple Line\n",
    "- Multiple assignments\n",
    "- How do we Store a Variable it in the memory?\n",
    "- Immutability"
   ]
  },
  {
   "cell_type": "code",
   "execution_count": 2,
   "id": "49bfc01e-efc1-4023-bd41-3c9fab71bd8f",
   "metadata": {},
   "outputs": [
    {
     "name": "stdout",
     "output_type": "stream",
     "text": [
      "['False', 'None', 'True', 'and', 'as', 'assert', 'async', 'await', 'break', 'class', 'continue', 'def', 'del', 'elif', 'else', 'except', 'finally', 'for', 'from', 'global', 'if', 'import', 'in', 'is', 'lambda', 'nonlocal', 'not', 'or', 'pass', 'raise', 'return', 'try', 'while', 'with', 'yield']\n"
     ]
    },
    {
     "data": {
      "text/plain": [
       "' Multiple\\nLine\\n    Comments'"
      ]
     },
     "execution_count": 2,
     "metadata": {},
     "output_type": "execute_result"
    }
   ],
   "source": [
    "import keyword\n",
    "print(keyword.kwlist)\n",
    "#Single Line Comment\n",
    "\"\"\" Multiple\n",
    "Line\n",
    "    Comments\"\"\""
   ]
  },
  {
   "cell_type": "code",
   "execution_count": 6,
   "id": "cb289715-e07a-4caf-8a8f-59130586de24",
   "metadata": {},
   "outputs": [
    {
     "name": "stdout",
     "output_type": "stream",
     "text": [
      "10 150 Hello 1 2 3\n"
     ]
    }
   ],
   "source": [
    "a = 10\n",
    "s = \"Hello\"\n",
    "b = 10 + 20 + \\\n",
    "    30 + 40 + \\\n",
    "    50\n",
    "c = d = e = 100\n",
    "c,d,e = 1,2,3\n",
    "print(a,b,s,c,d,e)\n",
    "# print(a,id(a))"
   ]
  },
  {
   "cell_type": "code",
   "execution_count": 7,
   "id": "93b5ce6c-e837-4742-9a65-cafc346ed4ba",
   "metadata": {},
   "outputs": [
    {
     "name": "stdout",
     "output_type": "stream",
     "text": [
      "10 140708990827224\n",
      "20 140708990827544\n",
      "10 140708990827224\n",
      "20 140708990827544\n"
     ]
    }
   ],
   "source": [
    "a = 10\n",
    "b = 20\n",
    "c = 10\n",
    "print(a,id(a))\n",
    "print(b,id(b))\n",
    "print(c,id(c))\n",
    "\n",
    "a = 20\n",
    "print(a,id(a))"
   ]
  },
  {
   "cell_type": "markdown",
   "id": "fe69e5bc-573e-4575-984c-6086c6908d82",
   "metadata": {},
   "source": [
    "<h2>Data Types</h2>\r",
    "<table border=\"1\">\r\n",
    "<tbody>\r\n",
    "<tr><td>Text Type:</td><td>str</td></tr>\r\n",
    "<tr><td>Numeric Types:</td><td>int, float, complex</td></tr>\r\n",
    "<tr><td>Sequence Types:</td><td>list, tuple, range</td></tr>\r\n",
    "<tr><td>Mapping Type:</td><td>dict</td></tr>\r\n",
    "<tr><td>Set Types:</td><td>set, frozenset</td></tr>\r\n",
    "<tr><td>Boolean Type:</td><td>bool</td></tr>\r\n",
    "<tr><td>Binary Types:</td><td>bytes, bytearray, memoryview</td></tr>\r\n",
    "<tr><td>None Type:</td><td>NoneType</td></tr>\r\n",
    "</tbody\n",
    "\n",
    "\r\n",
    "</table>\r\n",
    "</table>NoneType\r\n"
   ]
  },
  {
   "cell_type": "code",
   "execution_count": 10,
   "id": "11c3ddb8-d462-470d-9a4d-afda0e7c6bf4",
   "metadata": {},
   "outputs": [
    {
     "name": "stdout",
     "output_type": "stream",
     "text": [
      "(1+2j) <class 'complex'>\n"
     ]
    }
   ],
   "source": [
    "a = 1+2j\n",
    "print(a,type(a))"
   ]
  },
  {
   "cell_type": "code",
   "execution_count": 11,
   "id": "7d20638e-ddeb-4f77-9ccf-42197a13b440",
   "metadata": {},
   "outputs": [
    {
     "name": "stdin",
     "output_type": "stream",
     "text": [
      "Enter a Num 10\n"
     ]
    },
    {
     "name": "stdout",
     "output_type": "stream",
     "text": [
      "10 <class 'str'>\n",
      "10 <class 'int'>\n"
     ]
    }
   ],
   "source": [
    "a = input(\"Enter a Num\")\n",
    "print(a,type(a))\n",
    "a = int(a)\n",
    "print(a,type(a))"
   ]
  },
  {
   "cell_type": "code",
   "execution_count": null,
   "id": "063228db-da39-41b5-92e3-4078e0911477",
   "metadata": {},
   "outputs": [],
   "source": []
  },
  {
   "cell_type": "code",
   "execution_count": null,
   "id": "262b1118-5449-4283-94bb-7121ffb396d6",
   "metadata": {},
   "outputs": [],
   "source": []
  },
  {
   "cell_type": "code",
   "execution_count": null,
   "id": "8434d86c-f362-4d6d-8f2a-550c3e8d1533",
   "metadata": {},
   "outputs": [],
   "source": []
  },
  {
   "cell_type": "markdown",
   "id": "8d81c215-6158-4b67-b337-463b4e32a809",
   "metadata": {},
   "source": [
    "<h2>Operators</h2>\n",
    "Types of Operators\n",
    "\n",
    "- Airthmetic: +, -, *, /, %, //, **\n",
    "- relational: ==, <=, <, >=, >, !=\n",
    "- logical: and, or, not\n",
    "- Bitwise: &, |, ~, ^, <<, >>\n",
    "- Assignment: =, +=, -= ...\n",
    "- Special: is, is not, in, not in"
   ]
  },
  {
   "cell_type": "code",
   "execution_count": 15,
   "id": "7e370209-16de-4691-a619-211f291a2a5a",
   "metadata": {},
   "outputs": [
    {
     "name": "stdout",
     "output_type": "stream",
     "text": [
      "False\n"
     ]
    }
   ],
   "source": [
    "a = [10]\n",
    "b = [10]\n",
    "c = a is b\n",
    "print(c)"
   ]
  },
  {
   "cell_type": "code",
   "execution_count": null,
   "id": "a23b49ac-41a0-46b2-a0b2-2caf0941b964",
   "metadata": {},
   "outputs": [],
   "source": []
  },
  {
   "cell_type": "code",
   "execution_count": null,
   "id": "4b0e21aa-54ce-4127-8fb3-2cce2737d286",
   "metadata": {},
   "outputs": [],
   "source": []
  },
  {
   "cell_type": "markdown",
   "id": "9797eaf9-0c93-4e92-afb5-ef8aa85652f8",
   "metadata": {},
   "source": [
    "## IfElse\n",
    "- if .. else\n",
    "- if .. elif .... else\n",
    "- Nested if\n",
    "\n",
    "Indentation"
   ]
  },
  {
   "cell_type": "code",
   "execution_count": 20,
   "id": "f0df8ca0-b2aa-4deb-8335-fef7f454963e",
   "metadata": {},
   "outputs": [
    {
     "name": "stdout",
     "output_type": "stream",
     "text": [
      "a is smaller than b\n",
      "Hello\n"
     ]
    }
   ],
   "source": [
    "a = 10\n",
    "b = 20\n",
    "if a == 10:\n",
    "    if a<b:\n",
    "      print('a is smaller than b')\n",
    "      print('Hello')\n",
    "    else:\n",
    "        print('a is greater than b')"
   ]
  },
  {
   "cell_type": "code",
   "execution_count": null,
   "id": "b400188c-b77e-4843-a7e0-9e27dc63ca59",
   "metadata": {},
   "outputs": [],
   "source": []
  },
  {
   "cell_type": "code",
   "execution_count": null,
   "id": "f3184536-3287-4b77-a03b-e7967a8e640c",
   "metadata": {},
   "outputs": [],
   "source": []
  },
  {
   "cell_type": "markdown",
   "id": "1b34a3da-c6d9-47db-8083-ffea75fc7f95",
   "metadata": {},
   "source": [
    "## while loop\n",
    "\n",
    "To iterate over a block of code as long as the test expression is true.\\\n",
    "**Syntax:**\\\n",
    "while testExp:\\\n",
    "Body\\\n",
    "else:\\\n",
    "After testExp is false"
   ]
  },
  {
   "cell_type": "code",
   "execution_count": null,
   "id": "68b4e992-d7ad-4f4a-8900-61705d32517f",
   "metadata": {},
   "outputs": [],
   "source": []
  },
  {
   "cell_type": "code",
   "execution_count": null,
   "id": "f6a500c6-1159-4563-bbad-781b2ef7c348",
   "metadata": {},
   "outputs": [],
   "source": []
  },
  {
   "cell_type": "markdown",
   "id": "b21c6aad-ede8-43e2-8a98-2c9a3ab12bb6",
   "metadata": {},
   "source": [
    "## for loop\n",
    "\n",
    "for ele in sequence:\\\n",
    "....Body of for\n"
   ]
  },
  {
   "cell_type": "code",
   "execution_count": null,
   "id": "b3419617-f276-4e7d-ab37-197f99fe1364",
   "metadata": {},
   "outputs": [],
   "source": []
  },
  {
   "cell_type": "code",
   "execution_count": 21,
   "id": "c6d64d8d-e1b1-4b94-b921-98c9ee390b7f",
   "metadata": {},
   "outputs": [],
   "source": [
    "l = [1,2,3,4]"
   ]
  },
  {
   "cell_type": "code",
   "execution_count": 22,
   "id": "1966ad9b-b88b-427e-8acf-bfdd99361fae",
   "metadata": {},
   "outputs": [
    {
     "name": "stdout",
     "output_type": "stream",
     "text": [
      "1\n",
      "2\n",
      "3\n",
      "4\n"
     ]
    }
   ],
   "source": [
    "for ele in l:\n",
    "    print(ele)"
   ]
  },
  {
   "cell_type": "code",
   "execution_count": 26,
   "id": "d30d8837-06d6-41a6-a379-ec1b91d1e9ba",
   "metadata": {},
   "outputs": [
    {
     "name": "stdout",
     "output_type": "stream",
     "text": [
      "0 1\n",
      "1 2\n",
      "2 3\n",
      "3 4\n"
     ]
    }
   ],
   "source": [
    "for i in range(len(l)):\n",
    "    print(i,l[i])"
   ]
  },
  {
   "cell_type": "code",
   "execution_count": 28,
   "id": "0bacf0bf-ff79-4c4a-9aa9-4cd017b8d441",
   "metadata": {},
   "outputs": [
    {
     "name": "stdout",
     "output_type": "stream",
     "text": [
      "3 4\n",
      "2 3\n",
      "1 2\n",
      "0 1\n"
     ]
    }
   ],
   "source": [
    "for i in range(len(l)-1,-1,-1):\n",
    "    print(i,l[i])"
   ]
  },
  {
   "cell_type": "code",
   "execution_count": 29,
   "id": "b45f310f-9f9d-4556-8c2f-3e1e13a0e5ff",
   "metadata": {},
   "outputs": [],
   "source": [
    "for i in range(10,0,1):\n",
    "    print(i)"
   ]
  },
  {
   "cell_type": "code",
   "execution_count": null,
   "id": "156e8b2f-5789-4f58-8e0c-993fbe64b353",
   "metadata": {},
   "outputs": [],
   "source": []
  },
  {
   "cell_type": "markdown",
   "id": "d8a2b660-58a2-4695-9d99-dea6fa0e64df",
   "metadata": {},
   "source": [
    "## Ternerary Operator"
   ]
  },
  {
   "cell_type": "code",
   "execution_count": 31,
   "id": "a543666c-88fa-4546-b23d-4f0049aad08a",
   "metadata": {},
   "outputs": [
    {
     "name": "stdout",
     "output_type": "stream",
     "text": [
      "50\n"
     ]
    }
   ],
   "source": [
    "a = 10\n",
    "b = 50\n",
    "c = a if a > b else b\n",
    "print(c)"
   ]
  },
  {
   "cell_type": "code",
   "execution_count": null,
   "id": "1258e0cd-d75a-4a62-a2dd-ded8c5609ba5",
   "metadata": {},
   "outputs": [],
   "source": []
  },
  {
   "cell_type": "code",
   "execution_count": null,
   "id": "ea448851-eba8-4ced-ae9b-b2647a7869a0",
   "metadata": {},
   "outputs": [],
   "source": []
  },
  {
   "cell_type": "markdown",
   "id": "d480644e-deab-49f5-89e5-936180751468",
   "metadata": {},
   "source": [
    "## List\n",
    "\n",
    "List Functions/Method\n",
    "\n",
    "Method Description\n",
    "append() Adds an element at the end of the list \n",
    "clear()\tRemoves all the elements from the list\n",
    "copy()\tReturns a copy of the list\n",
    "count()\tReturns the number of elements with the specified value\n",
    "extend()\tAdd the elements of a list (or any iterable), to the end of the current list\n",
    "index()\tReturns the index of the first element with the specified value\n",
    "insert()\tAdds an element at the specified position\n",
    "pop()\tRemoves the element at the specified position\n",
    "remove()\tRemoves the item with the specified value\n",
    "reverse()\tReverses the order of the list\n",
    "sort()\tSorts the list\n",
    "\n",
    "List Comprehension\n",
    "List Spliting"
   ]
  },
  {
   "cell_type": "code",
   "execution_count": null,
   "id": "f31bf09a-a671-4897-9a83-e7e71289728f",
   "metadata": {},
   "outputs": [],
   "source": []
  },
  {
   "cell_type": "code",
   "execution_count": null,
   "id": "60287556-f5a5-4354-afd6-d7dd090fb1c7",
   "metadata": {},
   "outputs": [],
   "source": []
  },
  {
   "cell_type": "code",
   "execution_count": 32,
   "id": "750d3dfd-6c03-41ec-8b6a-cf3498aad9a8",
   "metadata": {},
   "outputs": [
    {
     "name": "stdout",
     "output_type": "stream",
     "text": [
      "[1, 2, 3, 4] 1673849480064\n",
      "[1, 2, 3, 4] 1673849474880\n",
      "[1, 2, 3, 4] 1673849480064\n",
      "[100, 2, 3, 4]\n"
     ]
    }
   ],
   "source": [
    "l1 = [1,2,3,4]\n",
    "l2 = [1,2,3,4]\n",
    "l3 = l1\n",
    "\n",
    "print(l1,id(l1))\n",
    "print(l2,id(l2))\n",
    "print(l3,id(l3))\n",
    "\n",
    "l3[0] = 100\n",
    "print(l1)"
   ]
  },
  {
   "cell_type": "code",
   "execution_count": null,
   "id": "062fa92a-5aac-4988-a901-e099d978b120",
   "metadata": {},
   "outputs": [],
   "source": []
  },
  {
   "cell_type": "code",
   "execution_count": 33,
   "id": "69e3ed6e-f90f-4de1-95fb-4fa3d3a2b3f5",
   "metadata": {},
   "outputs": [],
   "source": [
    "l = [1,2,3,4]"
   ]
  },
  {
   "cell_type": "code",
   "execution_count": 36,
   "id": "fc4cebb0-9714-4891-ad7c-d9c5fee10ed0",
   "metadata": {},
   "outputs": [
    {
     "data": {
      "text/plain": [
       "[1, 100, 2, 3, 4, 10, 10, 10]"
      ]
     },
     "execution_count": 36,
     "metadata": {},
     "output_type": "execute_result"
    }
   ],
   "source": [
    "l.append(10)\n",
    "l.insert(1,100)\n",
    "l"
   ]
  },
  {
   "cell_type": "code",
   "execution_count": 37,
   "id": "1161c645-8b6b-4b38-9d70-b0df303a6095",
   "metadata": {},
   "outputs": [
    {
     "data": {
      "text/plain": [
       "[1, 2, 3, 4, 10, 10, 10]"
      ]
     },
     "execution_count": 37,
     "metadata": {},
     "output_type": "execute_result"
    }
   ],
   "source": [
    "l.remove(100)\n",
    "l"
   ]
  },
  {
   "cell_type": "code",
   "execution_count": 38,
   "id": "6f993dd1-fc82-4129-a02d-0b470527339e",
   "metadata": {},
   "outputs": [
    {
     "data": {
      "text/plain": [
       "10"
      ]
     },
     "execution_count": 38,
     "metadata": {},
     "output_type": "execute_result"
    }
   ],
   "source": [
    "l.pop()"
   ]
  },
  {
   "cell_type": "code",
   "execution_count": 39,
   "id": "65b2136f-3ff6-4989-aa6a-a7a1ff806459",
   "metadata": {},
   "outputs": [
    {
     "data": {
      "text/plain": [
       "2"
      ]
     },
     "execution_count": 39,
     "metadata": {},
     "output_type": "execute_result"
    }
   ],
   "source": [
    "l.pop(1)"
   ]
  },
  {
   "cell_type": "code",
   "execution_count": 40,
   "id": "1afb5de7-0f4a-4580-a578-7f0ba4ed53d9",
   "metadata": {},
   "outputs": [
    {
     "data": {
      "text/plain": [
       "[1, 3, 4, 10, 10]"
      ]
     },
     "execution_count": 40,
     "metadata": {},
     "output_type": "execute_result"
    }
   ],
   "source": [
    "l"
   ]
  },
  {
   "cell_type": "code",
   "execution_count": 41,
   "id": "2953793c-f583-45c7-9727-acfdeb5bf9b9",
   "metadata": {},
   "outputs": [
    {
     "name": "stdout",
     "output_type": "stream",
     "text": [
      "[1, 2, 3, 4, 1, 1, 2]\n"
     ]
    }
   ],
   "source": [
    "l1 = [1,2,3,4]\n",
    "l2 = [1,1,2]\n",
    "l3 = l1+l2\n",
    "print(l3)"
   ]
  },
  {
   "cell_type": "code",
   "execution_count": null,
   "id": "81d4516c-f7b3-4b4c-a90c-48c496f01be6",
   "metadata": {},
   "outputs": [],
   "source": []
  },
  {
   "cell_type": "code",
   "execution_count": null,
   "id": "21843d20-0efb-486a-914c-d5fdab4d977d",
   "metadata": {},
   "outputs": [],
   "source": []
  },
  {
   "cell_type": "code",
   "execution_count": 42,
   "id": "2375a347-37d6-41d0-b893-d232d1e302e8",
   "metadata": {},
   "outputs": [
    {
     "name": "stdout",
     "output_type": "stream",
     "text": [
      "[0, 2, 4, 6, 8, 10, 12, 14, 16, 18]\n"
     ]
    }
   ],
   "source": [
    "l = [i for i in range(20) if i%2 == 0]\n",
    "print(l)"
   ]
  },
  {
   "cell_type": "code",
   "execution_count": null,
   "id": "3a13ecb4-5e6f-4b2e-8e0b-0af0b14098cf",
   "metadata": {},
   "outputs": [],
   "source": []
  },
  {
   "cell_type": "code",
   "execution_count": null,
   "id": "c99c914a-271b-4e56-af22-b297f23afd40",
   "metadata": {},
   "outputs": [],
   "source": []
  },
  {
   "cell_type": "code",
   "execution_count": 43,
   "id": "d2db9107-da0e-4db6-b314-0acadcff16f4",
   "metadata": {},
   "outputs": [
    {
     "data": {
      "text/plain": [
       "[18, 16, 14, 12, 10, 8, 6, 4, 2, 0]"
      ]
     },
     "execution_count": 43,
     "metadata": {},
     "output_type": "execute_result"
    }
   ],
   "source": [
    "l[::-1]"
   ]
  },
  {
   "cell_type": "code",
   "execution_count": null,
   "id": "77c823de-6698-45c4-8632-ab05e599a5fc",
   "metadata": {},
   "outputs": [],
   "source": []
  },
  {
   "cell_type": "markdown",
   "id": "6d90b506-a48a-49e8-ab72-c99cfc0255b2",
   "metadata": {},
   "source": [
    "## Tuple"
   ]
  },
  {
   "cell_type": "code",
   "execution_count": null,
   "id": "aba41b44-047d-458b-b474-51ac30974faf",
   "metadata": {},
   "outputs": [],
   "source": []
  },
  {
   "cell_type": "code",
   "execution_count": 44,
   "id": "f6dc9e2e-1b0a-42dd-b3be-3ca190ff83fd",
   "metadata": {},
   "outputs": [
    {
     "name": "stdout",
     "output_type": "stream",
     "text": [
      "(1, 2, 3, 4) <class 'tuple'>\n"
     ]
    }
   ],
   "source": [
    "t = (1,2,3,4)\n",
    "print(t,type(t))"
   ]
  },
  {
   "cell_type": "code",
   "execution_count": null,
   "id": "2d4bb0b9-bde5-4339-b474-abdb0a44d34b",
   "metadata": {},
   "outputs": [],
   "source": []
  },
  {
   "cell_type": "code",
   "execution_count": 45,
   "id": "9a1b9783-7520-4360-abe9-746bf72a837c",
   "metadata": {},
   "outputs": [
    {
     "name": "stdout",
     "output_type": "stream",
     "text": [
      "(1, 200, 3, 4) <class 'tuple'>\n"
     ]
    }
   ],
   "source": [
    "l = list(t)\n",
    "l[1] = 200\n",
    "t = tuple(l)\n",
    "print(t,type(t))"
   ]
  },
  {
   "cell_type": "code",
   "execution_count": null,
   "id": "8ee474eb-dea3-4f04-a170-2aa08fd5f8f2",
   "metadata": {},
   "outputs": [],
   "source": []
  },
  {
   "cell_type": "code",
   "execution_count": null,
   "id": "5e4fdbc4-205a-44b5-b2a2-4fa45648600a",
   "metadata": {},
   "outputs": [],
   "source": []
  },
  {
   "cell_type": "code",
   "execution_count": 47,
   "id": "d45efbd8-80ae-490d-a7f0-7f2ea951d616",
   "metadata": {},
   "outputs": [
    {
     "name": "stdout",
     "output_type": "stream",
     "text": [
      "(2, 3, 4)\n",
      "2 3 4\n"
     ]
    }
   ],
   "source": [
    "t = 2,3,4\n",
    "print(t)\n",
    "a,b,c = t\n",
    "print(a,b,c)"
   ]
  },
  {
   "cell_type": "code",
   "execution_count": 50,
   "id": "8cc4ccba-ae14-4ad4-babe-b0861f092a04",
   "metadata": {},
   "outputs": [
    {
     "name": "stdout",
     "output_type": "stream",
     "text": [
      "(2,) <class 'tuple'>\n"
     ]
    }
   ],
   "source": [
    "t = (2,)\n",
    "print(t,type(t))"
   ]
  },
  {
   "cell_type": "code",
   "execution_count": null,
   "id": "1ee4f893-dbec-4e06-b2e9-e5978e445b4d",
   "metadata": {},
   "outputs": [],
   "source": []
  },
  {
   "cell_type": "markdown",
   "id": "75949027-e31f-4e17-a763-9cca1286db4a",
   "metadata": {},
   "source": [
    "## Set"
   ]
  },
  {
   "cell_type": "code",
   "execution_count": 51,
   "id": "9aea4cb9-aee3-4f34-a539-23056620d4cf",
   "metadata": {},
   "outputs": [
    {
     "name": "stdout",
     "output_type": "stream",
     "text": [
      "{1, 2, 3, 4}\n"
     ]
    }
   ],
   "source": [
    "s = {1,2,3,4,1}\n",
    "print(s)"
   ]
  },
  {
   "cell_type": "code",
   "execution_count": 57,
   "id": "6b5132fd-8217-4e2a-af25-1c3dcb82bcbf",
   "metadata": {},
   "outputs": [
    {
     "name": "stdout",
     "output_type": "stream",
     "text": [
      "{1, 2, 3, 4, 100002, 10, 'Hello', 'abc', -1}\n"
     ]
    }
   ],
   "source": [
    "s.add(100002)\n",
    "print(s)"
   ]
  },
  {
   "cell_type": "code",
   "execution_count": 58,
   "id": "1b718d8c-761d-4788-95ef-c639a4d4c55a",
   "metadata": {},
   "outputs": [
    {
     "name": "stdout",
     "output_type": "stream",
     "text": [
      "1\n",
      "2\n",
      "3\n",
      "4\n",
      "100002\n",
      "10\n",
      "Hello\n",
      "abc\n",
      "-1\n"
     ]
    }
   ],
   "source": [
    "for ele in s:\n",
    "    print(ele)"
   ]
  },
  {
   "cell_type": "code",
   "execution_count": 60,
   "id": "f6a9324a-5ec5-4d22-947f-4761180815d8",
   "metadata": {},
   "outputs": [
    {
     "data": {
      "text/plain": [
       "False"
      ]
     },
     "execution_count": 60,
     "metadata": {},
     "output_type": "execute_result"
    }
   ],
   "source": [
    "100 in s"
   ]
  },
  {
   "cell_type": "code",
   "execution_count": 65,
   "id": "301fccf0-829f-4692-9606-1cc0da41953d",
   "metadata": {},
   "outputs": [
    {
     "name": "stdout",
     "output_type": "stream",
     "text": [
      "100002\n",
      "{10, 'Hello', 'abc', -1}\n"
     ]
    }
   ],
   "source": [
    "print(s.pop())\n",
    "print(s)"
   ]
  },
  {
   "cell_type": "code",
   "execution_count": 66,
   "id": "f3cb52de-a262-490d-b7a8-07e995eaa40d",
   "metadata": {},
   "outputs": [
    {
     "data": {
      "text/plain": [
       "{-1, 'Hello', 'abc'}"
      ]
     },
     "execution_count": 66,
     "metadata": {},
     "output_type": "execute_result"
    }
   ],
   "source": [
    "s.remove(10)\n",
    "s"
   ]
  },
  {
   "cell_type": "code",
   "execution_count": 68,
   "id": "7a29325e-a505-4235-b8eb-947b4427faf3",
   "metadata": {},
   "outputs": [
    {
     "name": "stdout",
     "output_type": "stream",
     "text": [
      "{1} {1}\n"
     ]
    }
   ],
   "source": [
    "s1 = {1,2,3}\n",
    "s2 = {2,3,4}\n",
    "print(s1.difference(s2),s1-s2)"
   ]
  },
  {
   "cell_type": "code",
   "execution_count": 69,
   "id": "d132f1f6-fc88-4123-9b69-df885d43894c",
   "metadata": {},
   "outputs": [
    {
     "data": {
      "text/plain": [
       "{-1, 2, 3, 4, 5, 6, 7, 'Hello', 'abc'}"
      ]
     },
     "execution_count": 69,
     "metadata": {},
     "output_type": "execute_result"
    }
   ],
   "source": [
    "s.update({2,3,4,5,6,7})\n",
    "s"
   ]
  },
  {
   "cell_type": "code",
   "execution_count": 70,
   "id": "f0f52a7d-0e74-48aa-9f97-dd4e6a3e688c",
   "metadata": {},
   "outputs": [
    {
     "name": "stdout",
     "output_type": "stream",
     "text": [
      "set() <class 'set'>\n"
     ]
    }
   ],
   "source": [
    "s = set()\n",
    "print(s,type(s))"
   ]
  },
  {
   "cell_type": "code",
   "execution_count": null,
   "id": "b24a17f1-d425-445e-a298-819f473915f5",
   "metadata": {},
   "outputs": [],
   "source": []
  },
  {
   "cell_type": "markdown",
   "id": "3e18850f-3340-4be3-8d09-b0bc52c371dc",
   "metadata": {},
   "source": [
    "## Dictionary"
   ]
  },
  {
   "cell_type": "code",
   "execution_count": 75,
   "id": "b409c853-dda0-471b-abf7-61f3b165418a",
   "metadata": {},
   "outputs": [
    {
     "name": "stdout",
     "output_type": "stream",
     "text": [
      "{'roll': 130, 'name': 'hindveer', 'age': 20}\n"
     ]
    }
   ],
   "source": [
    "d = {\n",
    "    \"roll\" : 127,\n",
    "    \"name\" : \"hindveer\",\n",
    "    \"age\" : 20,\n",
    "    \"roll\" : 130\n",
    "}\n",
    "print(d)"
   ]
  },
  {
   "cell_type": "code",
   "execution_count": 81,
   "id": "ecffdae7-4065-49c1-a7f4-acc440b1dccd",
   "metadata": {},
   "outputs": [
    {
     "ename": "KeyError",
     "evalue": "'rolll'",
     "output_type": "error",
     "traceback": [
      "\u001b[1;31m---------------------------------------------------------------------------\u001b[0m",
      "\u001b[1;31mKeyError\u001b[0m                                  Traceback (most recent call last)",
      "Cell \u001b[1;32mIn[81], line 1\u001b[0m\n\u001b[1;32m----> 1\u001b[0m \u001b[43md\u001b[49m\u001b[43m[\u001b[49m\u001b[38;5;124;43m\"\u001b[39;49m\u001b[38;5;124;43mrolll\u001b[39;49m\u001b[38;5;124;43m\"\u001b[39;49m\u001b[43m]\u001b[49m\n",
      "\u001b[1;31mKeyError\u001b[0m: 'rolll'"
     ]
    }
   ],
   "source": [
    "d[\"rolll\"]"
   ]
  },
  {
   "cell_type": "code",
   "execution_count": 82,
   "id": "dadc4e96-9521-4ab4-8264-f17fbc7e9c57",
   "metadata": {},
   "outputs": [],
   "source": [
    "d.get(\"rolll\")"
   ]
  },
  {
   "cell_type": "code",
   "execution_count": 83,
   "id": "e43f4ef4-e241-4dd3-925a-b1b0aaefeea3",
   "metadata": {},
   "outputs": [
    {
     "data": {
      "text/plain": [
       "{'roll': 128, 'name': 'hindveer', 'age': 20, 'college': 'chitkara'}"
      ]
     },
     "execution_count": 83,
     "metadata": {},
     "output_type": "execute_result"
    }
   ],
   "source": [
    "d[\"college\"] = \"chitkara\"\n",
    "d"
   ]
  },
  {
   "cell_type": "code",
   "execution_count": 84,
   "id": "80083e19-b935-47a5-a1cc-0c38abaecb34",
   "metadata": {},
   "outputs": [
    {
     "data": {
      "text/plain": [
       "{'roll': 128,\n",
       " 'name': 'hindveer',\n",
       " 'age': 20,\n",
       " 'college': 'chitkara',\n",
       " 'country': 'India',\n",
       " 'Status': 'C'}"
      ]
     },
     "execution_count": 84,
     "metadata": {},
     "output_type": "execute_result"
    }
   ],
   "source": [
    "d.update({\"country\" : \"India\", \"Status\" : \"C\"})\n",
    "d"
   ]
  },
  {
   "cell_type": "code",
   "execution_count": 85,
   "id": "f98c1619-c5ec-4baa-891b-91c194f17bd3",
   "metadata": {},
   "outputs": [
    {
     "data": {
      "text/plain": [
       "{'roll': 128,\n",
       " 'name': 'hindveer',\n",
       " 'age': 20,\n",
       " 'college': 'chitkara',\n",
       " 'country': 'India'}"
      ]
     },
     "execution_count": 85,
     "metadata": {},
     "output_type": "execute_result"
    }
   ],
   "source": [
    "d.pop(\"Status\")\n",
    "d"
   ]
  },
  {
   "cell_type": "code",
   "execution_count": 86,
   "id": "4c12cc22-4932-483e-ba57-1b89331985d9",
   "metadata": {},
   "outputs": [
    {
     "data": {
      "text/plain": [
       "('country', 'India')"
      ]
     },
     "execution_count": 86,
     "metadata": {},
     "output_type": "execute_result"
    }
   ],
   "source": [
    "d.popitem()"
   ]
  },
  {
   "cell_type": "code",
   "execution_count": 87,
   "id": "0246858a-1575-4f08-9bfd-7f281707854b",
   "metadata": {},
   "outputs": [
    {
     "data": {
      "text/plain": [
       "dict_keys(['roll', 'name', 'age', 'college'])"
      ]
     },
     "execution_count": 87,
     "metadata": {},
     "output_type": "execute_result"
    }
   ],
   "source": [
    "d.keys()"
   ]
  },
  {
   "cell_type": "code",
   "execution_count": 90,
   "id": "8727b666-53c8-4595-9caa-b9f4e9357ef1",
   "metadata": {},
   "outputs": [
    {
     "name": "stdout",
     "output_type": "stream",
     "text": [
      "roll 128\n",
      "name hindveer\n",
      "age 20\n",
      "college chitkara\n"
     ]
    }
   ],
   "source": [
    "for k in d:\n",
    "    print(k,d[k])"
   ]
  },
  {
   "cell_type": "code",
   "execution_count": 89,
   "id": "92917826-8a42-484c-b152-f7eaa5f1c362",
   "metadata": {},
   "outputs": [
    {
     "data": {
      "text/plain": [
       "dict_values([128, 'hindveer', 20, 'chitkara'])"
      ]
     },
     "execution_count": 89,
     "metadata": {},
     "output_type": "execute_result"
    }
   ],
   "source": [
    "d.values()"
   ]
  },
  {
   "cell_type": "code",
   "execution_count": 91,
   "id": "c9addefc-c0fb-43b3-894e-124d94e555d4",
   "metadata": {},
   "outputs": [
    {
     "data": {
      "text/plain": [
       "dict_items([('roll', 128), ('name', 'hindveer'), ('age', 20), ('college', 'chitkara')])"
      ]
     },
     "execution_count": 91,
     "metadata": {},
     "output_type": "execute_result"
    }
   ],
   "source": [
    "d.items()"
   ]
  },
  {
   "cell_type": "code",
   "execution_count": 93,
   "id": "0b6b3c9e-1827-4766-babc-6eecf94b4209",
   "metadata": {},
   "outputs": [
    {
     "name": "stdout",
     "output_type": "stream",
     "text": [
      "roll 128\n",
      "name hindveer\n",
      "age 20\n",
      "college chitkara\n"
     ]
    }
   ],
   "source": [
    "for k,v in d.items():\n",
    "    print(k,v)"
   ]
  },
  {
   "cell_type": "code",
   "execution_count": null,
   "id": "e9dbc243-f47c-4e3f-be3b-122c8c9b7fb6",
   "metadata": {},
   "outputs": [],
   "source": []
  },
  {
   "cell_type": "code",
   "execution_count": null,
   "id": "c33e3411-02a2-43a4-b027-f643b0c0c910",
   "metadata": {},
   "outputs": [],
   "source": []
  },
  {
   "cell_type": "code",
   "execution_count": null,
   "id": "616e4703-b2ca-4e37-bc91-70e404cc3fd0",
   "metadata": {},
   "outputs": [],
   "source": []
  }
 ],
 "metadata": {
  "kernelspec": {
   "display_name": "Python 3 (ipykernel)",
   "language": "python",
   "name": "python3"
  },
  "language_info": {
   "codemirror_mode": {
    "name": "ipython",
    "version": 3
   },
   "file_extension": ".py",
   "mimetype": "text/x-python",
   "name": "python",
   "nbconvert_exporter": "python",
   "pygments_lexer": "ipython3",
   "version": "3.12.1"
  }
 },
 "nbformat": 4,
 "nbformat_minor": 5
}
